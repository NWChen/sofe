{
 "cells": [
  {
   "cell_type": "code",
   "execution_count": 1,
   "id": "7a7e7897-ed72-4d82-bdb8-3f1f9b3de74e",
   "metadata": {
    "tags": []
   },
   "outputs": [
    {
     "name": "stdout",
     "output_type": "stream",
     "text": [
      "/usr/local/google/home/nqc/git/md\n"
     ]
    }
   ],
   "source": [
    "!pwd"
   ]
  },
  {
   "cell_type": "code",
   "execution_count": 10,
   "id": "f222dbc3-1696-4ffe-ad17-95816ac1be70",
   "metadata": {
    "tags": []
   },
   "outputs": [
    {
     "name": "stdout",
     "output_type": "stream",
     "text": [
      "STOP 2\n",
      "STOP 2\n",
      "STOP 2\n",
      "STOP 2\n",
      "STOP 2\n",
      "STOP 2\n",
      "STOP 2\n",
      "STOP 2\n",
      "STOP 2\n",
      "--------------------------------------------------------------------------\n",
      "Primary job  terminated normally, but 1 process returned\n",
      "a non-zero exit code. Per user-direction, the job has been aborted.\n",
      "--------------------------------------------------------------------------\n",
      "STOP 2\n",
      "STOP 2\n",
      "--------------------------------------------------------------------------\n",
      "mpirun detected that one or more processes exited with non-zero status, thus causing\n",
      "the job to be terminated. The first process to do so was:\n",
      "\n",
      "  Process name: [[27148,1],6]\n",
      "  Exit code:    2\n",
      "--------------------------------------------------------------------------\n"
     ]
    }
   ],
   "source": [
    "with open('H2O_system.in', 'w') as f:\n",
    "    f.write('''\n",
    "&control\n",
    "    calculation = 'md'\n",
    "    restart_mode='from_scratch'\n",
    "    prefix = 'h2o'\n",
    "    pseudo_dir = 'q-e/pseudo'\n",
    "    outdir = 'outdir'\n",
    "    dt=20,\n",
    "    nstep=2,\n",
    "/\n",
    "&system\n",
    "    ibrav=1, celldm(1) =15, nat=4, ntyp=3,\n",
    "    ecutwfc=25, nosym=.true.\n",
    "/\n",
    "&electrons\n",
    "    conv_thr=1e-8\n",
    "/\n",
    "&ions\n",
    "    pot_extrapolation='second-order'\n",
    "    wfc_extrapolation='second-order'\n",
    "    ion_temperature='reduce-T'\n",
    "    tempw=300\n",
    "    delta_t=-10\n",
    "/\n",
    "ATOMIC_SPECIES\n",
    " H  1.00784  h_pbe_v1.4.uspp.F.UPF\n",
    " O  15.999   o_pbe_v1.2.uspp.F.UPF\n",
    " C  12.011   c_pbe_v1.2.uspp.F.UPF\n",
    "ATOMIC_POSITIONS (angstrom)\n",
    "O        5.000425817   4.781574242   4.999840589\n",
    "H        4.999764264   5.408907510   5.779839929\n",
    "H        4.999809919   5.409518248   4.220319481\n",
    "C        0.010000000   0.010000000   0.010000000\n",
    "ATOMIC_VELOCITIES\n",
    "O 0.0 0.0 0.0\n",
    "H 0.0 0.0 0.0\n",
    "C 0.0 0.0 2.0\n",
    "K_POINTS (automatic)\n",
    "  3 3 3 0 0 0\n",
    "    ''')\n",
    "\n",
    "#!mpirun -np 12 q-e/bin/pw.x -inp H2O_system.in > H2O_system.out\n",
    "!q-e/bin/pw.x -inp H2O_system.in > H2O_system.out"
   ]
  }
 ],
 "metadata": {
  "kernelspec": {
   "display_name": "Python 3 (ipykernel)",
   "language": "python",
   "name": "python3"
  },
  "language_info": {
   "codemirror_mode": {
    "name": "ipython",
    "version": 3
   },
   "file_extension": ".py",
   "mimetype": "text/x-python",
   "name": "python",
   "nbconvert_exporter": "python",
   "pygments_lexer": "ipython3",
   "version": "3.10.9"
  }
 },
 "nbformat": 4,
 "nbformat_minor": 5
}
