{
 "cells": [
  {
   "cell_type": "markdown",
   "metadata": {
    "tags": []
   },
   "source": [
    "# DFT MD on disordered `HfNbTaZr` alloy\n",
    "\n",
    "A disordered equiatomic `HfNbTaZr` crystal was generated in Vesta using atomic positions seeded randomly using `mcsqs`."
   ]
  },
  {
   "cell_type": "markdown",
   "metadata": {},
   "source": [
    "## Helpers"
   ]
  },
  {
   "cell_type": "code",
   "execution_count": 343,
   "metadata": {
    "tags": []
   },
   "outputs": [],
   "source": [
    "from ase import Atom, Atoms\n",
    "from ase.calculators.espresso import Espresso\n",
    "from ase.constraints import FixAtoms\n",
    "from ase.io.cif import read_cif\n",
    "from ase.io.espresso import read_espresso_out, write_espresso_in\n",
    "from ase.io.vasp import read_vasp\n",
    "from ase.visualize import view\n",
    "from ase.visualize.plot import plot_atoms\n",
    "from copy import deepcopy\n",
    "from enum import Enum\n",
    "from matplotlib import pyplot as plt\n",
    "import math\n",
    "import numpy as npm\n",
    "import os"
   ]
  },
  {
   "cell_type": "code",
   "execution_count": 363,
   "metadata": {
    "tags": []
   },
   "outputs": [],
   "source": [
    "# File/directory constants\n",
    "PSEUDO_DIR = 'q-e/pseudo/'\n",
    "PSEUDOPOTENTIALS = {\n",
    "    'Ta': 'ta_pbe_v1.uspp.F.UPF',\n",
    "    'Nb': 'nb_pbe_v1.uspp.F.UPF',\n",
    "    'Hf': 'hf_pbe_v1.uspp.F.UPF',\n",
    "    'Zr': 'zr_pbe_v1.uspp.F.UPF',\n",
    "    'H': 'h_pbe_v1.4.uspp.F.UPF'\n",
    "}\n",
    "OUTDIR = 'outdir'"
   ]
  },
  {
   "cell_type": "code",
   "execution_count": 348,
   "metadata": {
    "tags": []
   },
   "outputs": [],
   "source": [
    "# Numeric constants\n",
    "# 1 picosecond = n Rydberg a.u.\n",
    "PS_TO_AU = 1e-12 / (4.8378 * 1e-17)\n",
    "\n",
    "# 1 femtosecond\n",
    "FS_TO_AU = 1e-15 / (4.8378 * 1e-17)"
   ]
  },
  {
   "cell_type": "code",
   "execution_count": 296,
   "metadata": {
    "tags": []
   },
   "outputs": [],
   "source": [
    "class Calculation(Enum):\n",
    "    RELAX = 'relax'\n",
    "    MD = 'md'\n",
    "\n",
    "class FileType(Enum):\n",
    "    INPUT = 'in'\n",
    "    OUTPUT = 'out'"
   ]
  },
  {
   "cell_type": "code",
   "execution_count": 297,
   "metadata": {
    "tags": []
   },
   "outputs": [],
   "source": [
    "def get_qe_filename(atoms, calc, filetype, suffix=''):\n",
    "    \"\"\"\n",
    "    Returns a filename for a QE input/output file given an ase.Atoms object\n",
    "    e.g. relax_Hf16Ta12Nb20Zr13H.in\n",
    "    \"\"\"\n",
    "    assert isinstance(calc, Calculation)\n",
    "    assert isinstance(filetype, FileType)\n",
    "    _suffix = '_' + suffix if suffix else ''\n",
    "    return f'{calc.value}_{atoms.symbols}{_suffix}.{filetype.value}'"
   ]
  },
  {
   "cell_type": "code",
   "execution_count": 342,
   "metadata": {
    "tags": []
   },
   "outputs": [],
   "source": [
    "def output_to_atoms(output_filename):\n",
    "    \"\"\"\n",
    "    Reads QE atomic positions output into an ase.Atoms object\n",
    "    \"\"\"\n",
    "    with open(output_filename, 'r') as f:\n",
    "        generator = read_espresso_out(f, index=slice(None))\n",
    "        atoms = [g for g in generator]\n",
    "        atoms = atoms[-1]\n",
    "    return atoms"
   ]
  },
  {
   "cell_type": "code",
   "execution_count": 299,
   "metadata": {
    "tags": []
   },
   "outputs": [],
   "source": [
    "def run(input_filename, output_filename):\n",
    "    \"\"\"\n",
    "    Runs a QE operation. Assumes input file already exists\n",
    "    \"\"\"\n",
    "    os.environ['INPUT_FILENAME'] = input_filename\n",
    "    os.environ['OUTPUT_FILENAME'] = output_filename\n",
    "    !mpirun -np 12 q-e/bin/pw.x -inp $INPUT_FILENAME > $OUTPUT_FILENAME"
   ]
  },
  {
   "cell_type": "code",
   "execution_count": 354,
   "metadata": {
    "tags": []
   },
   "outputs": [],
   "source": [
    "def velocity(atomic_mass, energy):\n",
    "    \"\"\"\n",
    "    Computes the velocity of an atom in Hartree atomic units, given the atomic mass in atomic units and the energy in electronvolts.\n",
    "\n",
    "    Args:\n",
    "    atomic_mass: The atomic mass of the atom in atomic units.\n",
    "    energy: The energy of the atom in electronvolts.\n",
    "\n",
    "    Returns:\n",
    "    The velocity of the atom in Hartree atomic units.\n",
    "    \"\"\"\n",
    "\n",
    "    # Convert the atomic mass to kilograms.\n",
    "    atomic_mass_kg = atomic_mass * 1.660539040e-27\n",
    "\n",
    "    # Convert the energy to joules.\n",
    "    energy_joules = energy * 1.60217662e-19\n",
    "\n",
    "    # Calculate the velocity.\n",
    "    velocity_ms = math.sqrt((2 * energy_joules) / atomic_mass_kg)\n",
    "\n",
    "    # Convert the velocity to Hartree atomic units.\n",
    "    velocity_ha = velocity_ms / 2.187691e6\n",
    "\n",
    "    return velocity_ha\n",
    "\n",
    "H_ATOMIC_MASS = 1.00784\n",
    "assert math.isclose(velocity(H_ATOMIC_MASS, 40), 0.0400031, abs_tol=1e-6)"
   ]
  },
  {
   "cell_type": "code",
   "execution_count": 344,
   "metadata": {
    "tags": []
   },
   "outputs": [],
   "source": [
    "def preview(atoms):\n",
    "    \"\"\"\n",
    "    Previews an ase.Atoms object.\n",
    "    \n",
    "        y\n",
    "        |\n",
    "        |_____ z\n",
    "       / \n",
    "      /\n",
    "     x\n",
    "\n",
    "    \"\"\"\n",
    "    RADIUS = 0.1\n",
    "    fig, (ax1, ax2) = plt.subplots(figsize=(9, 3), nrows=1, ncols=2)\n",
    "    plot_atoms(atoms, ax1, radii=RADIUS, rotation=('0x,0y,0z'))\n",
    "    plot_atoms(atoms, ax2, radii=RADIUS, rotation=('0x,90y,0z'))"
   ]
  },
  {
   "cell_type": "markdown",
   "metadata": {
    "id": "qVRbbGG-Fakl"
   },
   "source": [
    "## Read crystal generated by `mcsqs`/Vesta"
   ]
  },
  {
   "cell_type": "code",
   "execution_count": 345,
   "metadata": {
    "tags": []
   },
   "outputs": [],
   "source": [
    "def import_vasp(filename: str, truncate=False):\n",
    "    \"\"\"\n",
    "    Helper to import a VASP/POSCAR file into an ase.Atoms object\n",
    "    \n",
    "    Args:\n",
    "        filename: .vasp/.poscar(?) filename\n",
    "        truncate: If True, truncate the input atomic positions into a smaller slab (for faster calculations later)\n",
    "    \"\"\"\n",
    "    with open(filename, 'r') as f:\n",
    "        generator = read_vasp(f)\n",
    "        atoms = [a for a in generator]\n",
    "    \n",
    "    if truncate:\n",
    "        X_MAX = 8.0\n",
    "        atoms = [a for a in atoms if a.position[2] < X_MAX] # Fixed threshold\n",
    "    slab = Atoms(atoms)\n",
    "    slab.set_positions(slab.positions + np.min(slab.positions) + 0.2)\n",
    "\n",
    "    # Leave some room in the simulation box to avoid this error:\n",
    "    # https://www.researchgate.net/post/what_should_I_do_with_this_error_in_quantum_espressoError_in_routine_check_atoms_1_atoms_1_and_2_differ_by_lattice_vector-1_0_1\n",
    "    BUFFER = 0.5\n",
    "    CELL_DIMS = np.max(slab.positions, axis=0) + np.array([BUFFER, BUFFER, BUFFER])\n",
    "    \n",
    "    slab.set_cell(CELL_DIMS.tolist())\n",
    "    slab.set_pbc(False)\n",
    "    return slab"
   ]
  },
  {
   "cell_type": "code",
   "execution_count": 306,
   "metadata": {
    "tags": []
   },
   "outputs": [
    {
     "data": {
      "image/png": "[encoded data removed]",
      "text/plain": [
       "<Figure size 900x300 with 2 Axes>"
      ]
     },
     "metadata": {},
     "output_type": "display_data"
    }
   ],
   "source": [
    "slab = import_vasp('input/HfNbTaZr.vasp', truncate=True)\n",
    "# slab.rattle(stdev=0.1) # Uncomment this to rattle positions\n",
    "preview(slab)"
   ]
  },
  {
   "cell_type": "markdown",
   "metadata": {
    "tags": []
   },
   "source": [
    "## Relax slab"
   ]
  },
  {
   "cell_type": "code",
   "execution_count": 346,
   "metadata": {
    "tags": []
   },
   "outputs": [],
   "source": [
    "def relax(atoms):\n",
    "    \"\"\"\n",
    "    Runs a QE relax operation. Can take a few hours.\n",
    "    \"\"\"\n",
    "    input_filename = get_qe_filename(atoms, Calculation.RELAX, FileType.INPUT)\n",
    "    output_filename = get_qe_filename(atoms, Calculation.RELAX, FileType.OUTPUT)\n",
    "    \n",
    "    input_data = {\n",
    "        'control': {\n",
    "            'calculation': Calculation.RELAX.value,\n",
    "            'pseudo_dir': PSEUDO_DIR,\n",
    "            'etot_conv_thr': 1e-3, # 1e-5,\n",
    "            'forc_conv_thr': 1e-2, # 1e-4,\n",
    "            'outdir': OUTDIR\n",
    "        },\n",
    "        'electrons': {\n",
    "            'conv_thr': 1e-6, # 1e-8\n",
    "        },\n",
    "        'k_points': 'gamma',\n",
    "        'system': {\n",
    "            # Try a higher ecut to avoid varying scf accuracy: https://lists.quantum-espresso.org/pipermail/users/2016-January/034157.html\n",
    "            'ecutwfc': 120,\n",
    "            'ecutrho': 960,\n",
    "            'occupations': 'smearing', # Need smearing params to avoid `Error in routine electrons (1): charge is wrong: smearing is needed`\n",
    "            'smearing': 'gaussian',\n",
    "            'degauss': 0.022,\n",
    "            #'ibrav': 3, \n",
    "            #'alat': 3.34\n",
    "        }\n",
    "    }\n",
    "\n",
    "    # NOTE: kpts = 3 causes failure to converge after 100 iterations; kpts in {1, 4} seems to work?\n",
    "    k = 1\n",
    "    with open(input_filename, 'w') as f:\n",
    "      write_espresso_in(\n",
    "          f,\n",
    "          atoms,\n",
    "          input_data=input_data,\n",
    "          pseudopotentials=PSEUDOPOTENTIALS,\n",
    "          tstress=False,\n",
    "          tprnfor=False,\n",
    "          kpts=None,\n",
    "        )\n",
    "    \n",
    "    run(input_filename, output_filename)"
   ]
  },
  {
   "cell_type": "code",
   "execution_count": null,
   "metadata": {
    "tags": []
   },
   "outputs": [],
   "source": [
    "relax(slab)"
   ]
  },
  {
   "cell_type": "markdown",
   "metadata": {},
   "source": [
    "The results here are kind of garbage. I think there might be more work needed to get relaxation working correctly with this kind of crystal."
   ]
  },
  {
   "cell_type": "code",
   "execution_count": 305,
   "metadata": {
    "tags": []
   },
   "outputs": [
    {
     "data": {
      "image/png": "[encoded data removed]",
      "text/plain": [
       "<Figure size 900x300 with 2 Axes>"
      ]
     },
     "metadata": {},
     "output_type": "display_data"
    }
   ],
   "source": [
    "x = output_to_atoms('relax_Hf5Ta6Nb16Zr8.out')\n",
    "preview(x)"
   ]
  },
  {
   "cell_type": "markdown",
   "metadata": {
    "tags": []
   },
   "source": [
    "## Add vacuum and a single `D` atom\n",
    "\n",
    "Fix the crystal in place & add vacuum on either side. Then add an unconstrained `D` atom `INITIAL_DISTANCE_A` Angstroms away from the slab."
   ]
  },
  {
   "cell_type": "code",
   "execution_count": 340,
   "metadata": {
    "tags": []
   },
   "outputs": [],
   "source": [
    "def get_D_position(atoms, INITIAL_DISTANCE_A=5.0):\n",
    "    \"\"\"\n",
    "    Get a position at which to place a single D atom.\n",
    "    \n",
    "    Args:\n",
    "        atoms: ase.Atoms object\n",
    "        INITIAL_DISTANCE_A: initial distance between top of slab & D atom, in Angstroms\n",
    "    \"\"\"\n",
    "    mean_xyz = np.mean(atoms.positions, axis=0)\n",
    "    top_y = np.max(atoms.positions[:, 1]) # largest cartesian y coordinate (top of slab)\n",
    "    return np.array([mean_xyz[0], top_y + INITIAL_DISTANCE_A, mean_xyz[-1]])"
   ]
  },
  {
   "cell_type": "code",
   "execution_count": 347,
   "metadata": {
    "tags": []
   },
   "outputs": [],
   "source": [
    "def pin_bottom_layers(atoms, nlayers):\n",
    "    \"\"\"\n",
    "    \"Pin\"s some inner layers, i.e. make the positions of atoms in that layer fixed during MD.\n",
    "    Otherwise, when we send the particles to the slab with some momentum, the slab would move.\n",
    "    \n",
    "    Args:\n",
    "        atoms: ase.Atoms object\n",
    "        nlayers: The number of layers to fix/pin, starting from the bottom of the slab\n",
    "    \"\"\"\n",
    "    ys = np.sort(np.unique(atoms.positions[:, 1]))\n",
    "    max_y = ys[nlayers - 1]\n",
    "    pinned_atoms = deepcopy(atoms)\n",
    "    mask = [atom for atom in atoms if atom.position[1] <= max_y]\n",
    "    pinned_atoms.set_constraint(FixAtoms(mask=mask))\n",
    "    return pinned_atoms"
   ]
  },
  {
   "cell_type": "code",
   "execution_count": 341,
   "metadata": {
    "tags": []
   },
   "outputs": [
    {
     "data": {
      "image/png": "[encoded data removed]",
      "text/plain": [
       "<Figure size 900x300 with 2 Axes>"
      ]
     },
     "metadata": {},
     "output_type": "display_data"
    }
   ],
   "source": [
    "VACUUM = 2.0\n",
    "DEUTERIUM_MASS_AMU = 2.014\n",
    "\n",
    "atoms = deepcopy(slab)\n",
    "atoms.center(vacuum=VACUUM, axis=2)\n",
    "atoms = pin_bottom_layers(atoms, nlayers=3)\n",
    "\n",
    "# Place the D atom in the center of the slab, `INITIAL_DISTANCE_A` Angstroms away\n",
    "DEUTERIUM_XYZ = get_D_position(atoms, INITIAL_DISTANCE_A=2.0)\n",
    "deuterium = Atom('H', mass=DEUTERIUM_MASS_AMU, position=DEUTERIUM_XYZ)\n",
    "atoms.append(deuterium)\n",
    "\n",
    "preview(atoms)"
   ]
  },
  {
   "cell_type": "markdown",
   "metadata": {},
   "source": [
    "# Run MD"
   ]
  },
  {
   "cell_type": "code",
   "execution_count": 364,
   "metadata": {
    "tags": []
   },
   "outputs": [],
   "source": [
    "def md(atoms, nsteps, dt, initial_eV=30):\n",
    "    input_filename = get_qe_filename(atoms, Calculation.MD, FileType.INPUT)\n",
    "    output_filename = get_qe_filename(atoms, Calculation.MD, FileType.OUTPUT)\n",
    "    \n",
    "    # TODO: this is so hacky, but ase QE doesn't support ATOMIC_VELOCITIES(?) and the ATOMIC_VELOCITIES input itself isn't well-documented\n",
    "    if initial_eV:\n",
    "        atomic_velocities_str = 'ATOMIC_VELOCITIES\\n'\n",
    "        for el in atoms.get_chemical_symbols():\n",
    "            if el != 'H':\n",
    "                atomic_velocities_str += f'{el} 0.0 0.0 0.0\\n'\n",
    "\n",
    "        DEUTERIUM_MASS_AMU = 2.014\n",
    "        velocity_au = velocity(DEUTERIUM_MASS_AMU, initial_eV)\n",
    "        atomic_velocities_str += 'H 0.0 0.0 {:.5f}'.format(-velocity_au)\n",
    "    \n",
    "    input_data = {\n",
    "        'control': {\n",
    "            'calculation': Calculation.MD.value,\n",
    "            'dt': dt,\n",
    "            'nstep': nsteps,\n",
    "            'pseudo_dir': PSEUDO_DIR,\n",
    "            'etot_conv_thr': 1e-2, # 1e-4\n",
    "            'forc_conv_thr': 1e-2, # 1e-5\n",
    "            'outdir': OUTDIR\n",
    "        },\n",
    "        'electrons': {\n",
    "            'conv_thr': 1e-6, # 1e-8\n",
    "            'mixing_mode': 'TF',\n",
    "            'mixing_beta': 0.7\n",
    "        },\n",
    "        'system': {\n",
    "            'ecutwfc': 120,\n",
    "            'occupations': 'smearing', # Need smearing params to avoid `Error in routine electrons (1): charge is wrong: smearing is needed`\n",
    "            'smearing': 'gaussian',\n",
    "            'degauss': 0.022,\n",
    "            'nspin': 2\n",
    "        },\n",
    "        'ions': {\n",
    "            'ion_temperature': 'initial',\n",
    "            'tempw': 300,\n",
    "            'ion_velocities': 'from_input'\n",
    "        }\n",
    "    }\n",
    "\n",
    "    with open(input_filename, 'w') as f:\n",
    "        write_espresso_in(\n",
    "            f,\n",
    "            atoms,\n",
    "            input_data=input_data,\n",
    "            pseudopotentials=PSEUDOPOTENTIALS,\n",
    "            tstress=False,\n",
    "            tprnfor=False,\n",
    "            kpts=None, # gamma k-points\n",
    "        )\n",
    "        if initial_eV:\n",
    "            print(f'Writing D initial velocity {initial_eV}eV ({velocity_au} Hartree au)')\n",
    "            f.write(atomic_velocities_str)\n",
    "\n",
    "    run(input_filename, output_filename)"
   ]
  },
  {
   "cell_type": "code",
   "execution_count": 365,
   "metadata": {
    "tags": []
   },
   "outputs": [
    {
     "name": "stdout",
     "output_type": "stream",
     "text": [
      "Writing D initial velocity 30eV (0.024507023185089197 Hartree au)\n",
      "Note: The following floating-point exceptions are signalling: IEEE_DENORMAL\n",
      "Note: The following floating-point exceptions are signalling: IEEE_INVALID_FLAG\n",
      "Note: The following floating-point exceptions are signalling: IEEE_DENORMAL\n",
      "Note: The following floating-point exceptions are signalling: IEEE_DENORMAL\n"
     ]
    }
   ],
   "source": [
    "md(atoms, nsteps=1, dt=0.1 * round(FS_TO_AU), initial_eV=30)"
   ]
  },
  {
   "cell_type": "code",
   "execution_count": null,
   "metadata": {},
   "outputs": [],
   "source": [
    "def sanitize_output_file(filename):\n",
    "    \"\"\"\n",
    "    Hack around a bug in ase.io: \n",
    "    \n",
    "        File ~/git/md/venv/lib/python3.11/site-packages/ase/io/espresso.py:264, in <listcomp>(.0)\n",
    "        261 for magmoms_index in indexes[_PW_MAGMOM]:\n",
    "        262     if image_index < magmoms_index < next_index:\n",
    "        263         magmoms = [\n",
    "    --> 264             float(mag_line.split()[5]) for mag_line\n",
    "        265             in pwo_lines[magmoms_index + 1:\n",
    "        266                          magmoms_index + 1 + len(structure)]]\n",
    "        268 # Fermi level / highest occupied level\n",
    "        269 efermi = None\n",
    "\n",
    "    ValueError: could not convert string to float: 'magn='\n",
    "    \"\"\"\n",
    "    os.rename(filename, f'{filename}.old'\n",
    "    with open(filename, 'rw') as f:"
   ]
  },
  {
   "cell_type": "code",
   "execution_count": 367,
   "metadata": {
    "tags": []
   },
   "outputs": [
    {
     "ename": "ValueError",
     "evalue": "could not convert string to float: 'magn='",
     "output_type": "error",
     "traceback": [
      "\u001b[0;31m---------------------------------------------------------------------------\u001b[0m",
      "\u001b[0;31mValueError\u001b[0m                                Traceback (most recent call last)",
      "Cell \u001b[0;32mIn[367], line 2\u001b[0m\n\u001b[1;32m      1\u001b[0m output_filename \u001b[38;5;241m=\u001b[39m get_qe_filename(atoms, Calculation\u001b[38;5;241m.\u001b[39mMD, FileType\u001b[38;5;241m.\u001b[39mOUTPUT)\n\u001b[0;32m----> 2\u001b[0m preview(\u001b[43moutput_to_atoms\u001b[49m\u001b[43m(\u001b[49m\u001b[43moutput_filename\u001b[49m\u001b[43m)\u001b[49m)\n",
      "Cell \u001b[0;32mIn[342], line 5\u001b[0m, in \u001b[0;36moutput_to_atoms\u001b[0;34m(output_filename)\u001b[0m\n\u001b[1;32m      3\u001b[0m \u001b[38;5;28;01mwith\u001b[39;00m \u001b[38;5;28mopen\u001b[39m(output_filename, \u001b[38;5;124m'\u001b[39m\u001b[38;5;124mr\u001b[39m\u001b[38;5;124m'\u001b[39m) \u001b[38;5;28;01mas\u001b[39;00m f:\n\u001b[1;32m      4\u001b[0m     generator \u001b[38;5;241m=\u001b[39m read_espresso_out(f, index\u001b[38;5;241m=\u001b[39m\u001b[38;5;28mslice\u001b[39m(\u001b[38;5;28;01mNone\u001b[39;00m))\n\u001b[0;32m----> 5\u001b[0m     atoms \u001b[38;5;241m=\u001b[39m \u001b[43m[\u001b[49m\u001b[43mg\u001b[49m\u001b[43m \u001b[49m\u001b[38;5;28;43;01mfor\u001b[39;49;00m\u001b[43m \u001b[49m\u001b[43mg\u001b[49m\u001b[43m \u001b[49m\u001b[38;5;129;43;01min\u001b[39;49;00m\u001b[43m \u001b[49m\u001b[43mgenerator\u001b[49m\u001b[43m]\u001b[49m\n\u001b[1;32m      6\u001b[0m     atoms \u001b[38;5;241m=\u001b[39m atoms[\u001b[38;5;241m-\u001b[39m\u001b[38;5;241m1\u001b[39m]\n\u001b[1;32m      7\u001b[0m \u001b[38;5;28;01mreturn\u001b[39;00m atoms\n",
      "Cell \u001b[0;32mIn[342], line 5\u001b[0m, in \u001b[0;36m<listcomp>\u001b[0;34m(.0)\u001b[0m\n\u001b[1;32m      3\u001b[0m \u001b[38;5;28;01mwith\u001b[39;00m \u001b[38;5;28mopen\u001b[39m(output_filename, \u001b[38;5;124m'\u001b[39m\u001b[38;5;124mr\u001b[39m\u001b[38;5;124m'\u001b[39m) \u001b[38;5;28;01mas\u001b[39;00m f:\n\u001b[1;32m      4\u001b[0m     generator \u001b[38;5;241m=\u001b[39m read_espresso_out(f, index\u001b[38;5;241m=\u001b[39m\u001b[38;5;28mslice\u001b[39m(\u001b[38;5;28;01mNone\u001b[39;00m))\n\u001b[0;32m----> 5\u001b[0m     atoms \u001b[38;5;241m=\u001b[39m [g \u001b[38;5;28;01mfor\u001b[39;00m g \u001b[38;5;129;01min\u001b[39;00m generator]\n\u001b[1;32m      6\u001b[0m     atoms \u001b[38;5;241m=\u001b[39m atoms[\u001b[38;5;241m-\u001b[39m\u001b[38;5;241m1\u001b[39m]\n\u001b[1;32m      7\u001b[0m \u001b[38;5;28;01mreturn\u001b[39;00m atoms\n",
      "File \u001b[0;32m~/git/md/venv/lib/python3.11/site-packages/ase/io/espresso.py:263\u001b[0m, in \u001b[0;36mread_espresso_out\u001b[0;34m(fileobj, index, results_required)\u001b[0m\n\u001b[1;32m    261\u001b[0m \u001b[38;5;28;01mfor\u001b[39;00m magmoms_index \u001b[38;5;129;01min\u001b[39;00m indexes[_PW_MAGMOM]:\n\u001b[1;32m    262\u001b[0m     \u001b[38;5;28;01mif\u001b[39;00m image_index \u001b[38;5;241m<\u001b[39m magmoms_index \u001b[38;5;241m<\u001b[39m next_index:\n\u001b[0;32m--> 263\u001b[0m         magmoms \u001b[38;5;241m=\u001b[39m \u001b[43m[\u001b[49m\n\u001b[1;32m    264\u001b[0m \u001b[43m            \u001b[49m\u001b[38;5;28;43mfloat\u001b[39;49m\u001b[43m(\u001b[49m\u001b[43mmag_line\u001b[49m\u001b[38;5;241;43m.\u001b[39;49m\u001b[43msplit\u001b[49m\u001b[43m(\u001b[49m\u001b[43m)\u001b[49m\u001b[43m[\u001b[49m\u001b[38;5;241;43m5\u001b[39;49m\u001b[43m]\u001b[49m\u001b[43m)\u001b[49m\u001b[43m \u001b[49m\u001b[38;5;28;43;01mfor\u001b[39;49;00m\u001b[43m \u001b[49m\u001b[43mmag_line\u001b[49m\n\u001b[1;32m    265\u001b[0m \u001b[43m            \u001b[49m\u001b[38;5;129;43;01min\u001b[39;49;00m\u001b[43m \u001b[49m\u001b[43mpwo_lines\u001b[49m\u001b[43m[\u001b[49m\u001b[43mmagmoms_index\u001b[49m\u001b[43m \u001b[49m\u001b[38;5;241;43m+\u001b[39;49m\u001b[43m \u001b[49m\u001b[38;5;241;43m1\u001b[39;49m\u001b[43m:\u001b[49m\n\u001b[1;32m    266\u001b[0m \u001b[43m                         \u001b[49m\u001b[43mmagmoms_index\u001b[49m\u001b[43m \u001b[49m\u001b[38;5;241;43m+\u001b[39;49m\u001b[43m \u001b[49m\u001b[38;5;241;43m1\u001b[39;49m\u001b[43m \u001b[49m\u001b[38;5;241;43m+\u001b[39;49m\u001b[43m \u001b[49m\u001b[38;5;28;43mlen\u001b[39;49m\u001b[43m(\u001b[49m\u001b[43mstructure\u001b[49m\u001b[43m)\u001b[49m\u001b[43m]\u001b[49m\u001b[43m]\u001b[49m\n\u001b[1;32m    268\u001b[0m \u001b[38;5;66;03m# Fermi level / highest occupied level\u001b[39;00m\n\u001b[1;32m    269\u001b[0m efermi \u001b[38;5;241m=\u001b[39m \u001b[38;5;28;01mNone\u001b[39;00m\n",
      "File \u001b[0;32m~/git/md/venv/lib/python3.11/site-packages/ase/io/espresso.py:264\u001b[0m, in \u001b[0;36m<listcomp>\u001b[0;34m(.0)\u001b[0m\n\u001b[1;32m    261\u001b[0m \u001b[38;5;28;01mfor\u001b[39;00m magmoms_index \u001b[38;5;129;01min\u001b[39;00m indexes[_PW_MAGMOM]:\n\u001b[1;32m    262\u001b[0m     \u001b[38;5;28;01mif\u001b[39;00m image_index \u001b[38;5;241m<\u001b[39m magmoms_index \u001b[38;5;241m<\u001b[39m next_index:\n\u001b[1;32m    263\u001b[0m         magmoms \u001b[38;5;241m=\u001b[39m [\n\u001b[0;32m--> 264\u001b[0m             \u001b[38;5;28;43mfloat\u001b[39;49m\u001b[43m(\u001b[49m\u001b[43mmag_line\u001b[49m\u001b[38;5;241;43m.\u001b[39;49m\u001b[43msplit\u001b[49m\u001b[43m(\u001b[49m\u001b[43m)\u001b[49m\u001b[43m[\u001b[49m\u001b[38;5;241;43m5\u001b[39;49m\u001b[43m]\u001b[49m\u001b[43m)\u001b[49m \u001b[38;5;28;01mfor\u001b[39;00m mag_line\n\u001b[1;32m    265\u001b[0m             \u001b[38;5;129;01min\u001b[39;00m pwo_lines[magmoms_index \u001b[38;5;241m+\u001b[39m \u001b[38;5;241m1\u001b[39m:\n\u001b[1;32m    266\u001b[0m                          magmoms_index \u001b[38;5;241m+\u001b[39m \u001b[38;5;241m1\u001b[39m \u001b[38;5;241m+\u001b[39m \u001b[38;5;28mlen\u001b[39m(structure)]]\n\u001b[1;32m    268\u001b[0m \u001b[38;5;66;03m# Fermi level / highest occupied level\u001b[39;00m\n\u001b[1;32m    269\u001b[0m efermi \u001b[38;5;241m=\u001b[39m \u001b[38;5;28;01mNone\u001b[39;00m\n",
      "\u001b[0;31mValueError\u001b[0m: could not convert string to float: 'magn='"
     ]
    }
   ],
   "source": [
    "output_filename = get_qe_filename(atoms, Calculation.MD, FileType.OUTPUT)\n",
    "preview(output_to_atoms(output_filename))"
   ]
  }
 ],
 "metadata": {
  "colab": {
   "provenance": []
  },
  "gpuClass": "standard",
  "kernelspec": {
   "display_name": "Python 3 (ipykernel)",
   "language": "python",
   "name": "python3"
  },
  "language_info": {
   "codemirror_mode": {
    "name": "ipython",
    "version": 3
   },
   "file_extension": ".py",
   "mimetype": "text/x-python",
   "name": "python",
   "nbconvert_exporter": "python",
   "pygments_lexer": "ipython3",
   "version": "3.11.2"
  },
  "widgets": {
   "application/vnd.jupyter.widget-state+json": {
    "08305f2744c34fb7b6eee4596907c463": {
     "model_module": "@jupyter-widgets/base",
     "model_module_version": "1.2.0",
     "model_name": "LayoutModel",
     "state": {
      "_model_module": "@jupyter-widgets/base",
      "_model_module_version": "1.2.0",
      "_model_name": "LayoutModel",
      "_view_count": null,
      "_view_module": "@jupyter-widgets/base",
      "_view_module_version": "1.2.0",
      "_view_name": "LayoutView",
      "align_content": null,
      "align_items": null,
      "align_self": null,
      "border": null,
      "bottom": null,
      "display": null,
      "flex": null,
      "flex_flow": null,
      "grid_area": null,
      "grid_auto_columns": null,
      "grid_auto_flow": null,
      "grid_auto_rows": null,
      "grid_column": null,
      "grid_gap": null,
      "grid_row": null,
      "grid_template_areas": null,
      "grid_template_columns": null,
      "grid_template_rows": null,
      "height": null,
      "justify_content": null,
      "justify_items": null,
      "left": null,
      "margin": null,
      "max_height": null,
      "max_width": null,
      "min_height": null,
      "min_width": null,
      "object_fit": null,
      "object_position": null,
      "order": null,
      "overflow": null,
      "overflow_x": null,
      "overflow_y": null,
      "padding": null,
      "right": null,
      "top": null,
      "visibility": null,
      "width": null
     }
    },
    "0d89a25bfad649728b3138c894f22d66": {
     "model_module": "@jupyter-widgets/controls",
     "model_module_version": "1.5.0",
     "model_name": "ButtonModel",
     "state": {
      "_dom_classes": [],
      "_model_module": "@jupyter-widgets/controls",
      "_model_module_version": "1.5.0",
      "_model_name": "ButtonModel",
      "_view_count": null,
      "_view_module": "@jupyter-widgets/controls",
      "_view_module_version": "1.5.0",
      "_view_name": "ButtonView",
      "button_style": "",
      "description": "",
      "disabled": false,
      "icon": "compress",
      "layout": "IPY_MODEL_8a64a78eac254a8590b62615b5753645",
      "style": "IPY_MODEL_b3f2023e77024e1393233b3c8705e1df",
      "tooltip": ""
     }
    },
    "1068425ba9e7426fb10ceb70addb61f8": {
     "model_module": "@jupyter-widgets/controls",
     "model_module_version": "1.5.0",
     "model_name": "IntSliderModel",
     "state": {
      "_dom_classes": [],
      "_model_module": "@jupyter-widgets/controls",
      "_model_module_version": "1.5.0",
      "_model_name": "IntSliderModel",
      "_view_count": null,
      "_view_module": "@jupyter-widgets/controls",
      "_view_module_version": "1.5.0",
      "_view_name": "IntSliderView",
      "continuous_update": true,
      "description": "",
      "description_tooltip": null,
      "disabled": false,
      "layout": "IPY_MODEL_31d0f977a9184e5795285f6336c22ce4",
      "max": 0,
      "min": 0,
      "orientation": "horizontal",
      "readout": true,
      "readout_format": "d",
      "step": 1,
      "style": "IPY_MODEL_ef7c65351c124fce9030728cdb3edc6b",
      "value": 0
     }
    },
    "1432ec696d8a4a3f81c03f84e2477830": {
     "model_module": "@jupyter-widgets/controls",
     "model_module_version": "1.5.0",
     "model_name": "HBoxModel",
     "state": {
      "_dom_classes": [],
      "_model_module": "@jupyter-widgets/controls",
      "_model_module_version": "1.5.0",
      "_model_name": "HBoxModel",
      "_view_count": null,
      "_view_module": "@jupyter-widgets/controls",
      "_view_module_version": "1.5.0",
      "_view_name": "HBoxView",
      "box_style": "",
      "children": [
       "IPY_MODEL_3d2d49de500a4ec2a33668c990bec777",
       "IPY_MODEL_1068425ba9e7426fb10ceb70addb61f8"
      ],
      "layout": "IPY_MODEL_08305f2744c34fb7b6eee4596907c463"
     }
    },
    "1eca1a150ee749299d640b0fe8541db7": {
     "model_module": "@jupyter-widgets/controls",
     "model_module_version": "1.5.0",
     "model_name": "FloatSliderModel",
     "state": {
      "_dom_classes": [],
      "_model_module": "@jupyter-widgets/controls",
      "_model_module_version": "1.5.0",
      "_model_name": "FloatSliderModel",
      "_view_count": null,
      "_view_module": "@jupyter-widgets/controls",
      "_view_module_version": "1.5.0",
      "_view_name": "FloatSliderView",
      "continuous_update": true,
      "description": "Ball size",
      "description_tooltip": null,
      "disabled": false,
      "layout": "IPY_MODEL_660c0b97d1ec4b79be8edadcfd0310a3",
      "max": 1.5,
      "min": 0,
      "orientation": "horizontal",
      "readout": true,
      "readout_format": ".2f",
      "step": 0.01,
      "style": "IPY_MODEL_ad55686f0ac84a4990d296920fa3182b",
      "value": 0.49999999999999994
     }
    },
    "31d0f977a9184e5795285f6336c22ce4": {
     "model_module": "@jupyter-widgets/base",
     "model_module_version": "1.2.0",
     "model_name": "LayoutModel",
     "state": {
      "_model_module": "@jupyter-widgets/base",
      "_model_module_version": "1.2.0",
      "_model_name": "LayoutModel",
      "_view_count": null,
      "_view_module": "@jupyter-widgets/base",
      "_view_module_version": "1.2.0",
      "_view_name": "LayoutView",
      "align_content": null,
      "align_items": null,
      "align_self": null,
      "border": null,
      "bottom": null,
      "display": null,
      "flex": null,
      "flex_flow": null,
      "grid_area": null,
      "grid_auto_columns": null,
      "grid_auto_flow": null,
      "grid_auto_rows": null,
      "grid_column": null,
      "grid_gap": null,
      "grid_row": null,
      "grid_template_areas": null,
      "grid_template_columns": null,
      "grid_template_rows": null,
      "height": null,
      "justify_content": null,
      "justify_items": null,
      "left": null,
      "margin": null,
      "max_height": null,
      "max_width": null,
      "min_height": null,
      "min_width": null,
      "object_fit": null,
      "object_position": null,
      "order": null,
      "overflow": null,
      "overflow_x": null,
      "overflow_y": null,
      "padding": null,
      "right": null,
      "top": null,
      "visibility": null,
      "width": null
     }
    },
    "3b6d6d84fb8b412f90816f3fd1152c55": {
     "model_module": "@jupyter-widgets/controls",
     "model_module_version": "1.5.0",
     "model_name": "VBoxModel",
     "state": {
      "_dom_classes": [],
      "_model_module": "@jupyter-widgets/controls",
      "_model_module_version": "1.5.0",
      "_model_name": "VBoxModel",
      "_view_count": null,
      "_view_module": "@jupyter-widgets/controls",
      "_view_module_version": "1.5.0",
      "_view_name": "VBoxView",
      "box_style": "",
      "children": [
       "IPY_MODEL_aa9b65d1ebec41e1b6a84cc9961237d7",
       "IPY_MODEL_49fc1e70fa7f4a50937d79e82fe8b920",
       "IPY_MODEL_1eca1a150ee749299d640b0fe8541db7"
      ],
      "layout": "IPY_MODEL_72f3b63c8e604a7587d77ad83ace0a38"
     }
    },
    "3d2d49de500a4ec2a33668c990bec777": {
     "model_module": "@jupyter-widgets/controls",
     "model_module_version": "1.5.0",
     "model_name": "PlayModel",
     "state": {
      "_dom_classes": [],
      "_model_module": "@jupyter-widgets/controls",
      "_model_module_version": "1.5.0",
      "_model_name": "PlayModel",
      "_playing": false,
      "_repeat": false,
      "_view_count": null,
      "_view_module": "@jupyter-widgets/controls",
      "_view_module_version": "1.5.0",
      "_view_name": "PlayView",
      "description": "",
      "description_tooltip": null,
      "disabled": false,
      "interval": 100,
      "layout": "IPY_MODEL_9a4dbfd1c6df46a787bc03c948be45f9",
      "max": 0,
      "min": 0,
      "show_repeat": true,
      "step": 1,
      "style": "IPY_MODEL_b4780c86767e41e09a2d81e736d84425",
      "value": 0
     }
    },
    "46a5e9c0aa0c4d6c8869ea82705c04cc": {
     "model_module": "@jupyter-widgets/controls",
     "model_module_version": "1.5.0",
     "model_name": "DescriptionStyleModel",
     "state": {
      "_model_module": "@jupyter-widgets/controls",
      "_model_module_version": "1.5.0",
      "_model_name": "DescriptionStyleModel",
      "_view_count": null,
      "_view_module": "@jupyter-widgets/base",
      "_view_module_version": "1.2.0",
      "_view_name": "StyleView",
      "description_width": ""
     }
    },
    "48de5195ce1b40f49add8f19802c50e5": {
     "model_module": "@jupyter-widgets/base",
     "model_module_version": "1.2.0",
     "model_name": "LayoutModel",
     "state": {
      "_model_module": "@jupyter-widgets/base",
      "_model_module_version": "1.2.0",
      "_model_name": "LayoutModel",
      "_view_count": null,
      "_view_module": "@jupyter-widgets/base",
      "_view_module_version": "1.2.0",
      "_view_name": "LayoutView",
      "align_content": null,
      "align_items": null,
      "align_self": null,
      "border": null,
      "bottom": null,
      "display": null,
      "flex": null,
      "flex_flow": null,
      "grid_area": null,
      "grid_auto_columns": null,
      "grid_auto_flow": null,
      "grid_auto_rows": null,
      "grid_column": null,
      "grid_gap": null,
      "grid_row": null,
      "grid_template_areas": null,
      "grid_template_columns": null,
      "grid_template_rows": null,
      "height": null,
      "justify_content": null,
      "justify_items": null,
      "left": null,
      "margin": null,
      "max_height": null,
      "max_width": null,
      "min_height": null,
      "min_width": null,
      "object_fit": null,
      "object_position": null,
      "order": null,
      "overflow": null,
      "overflow_x": null,
      "overflow_y": null,
      "padding": null,
      "right": null,
      "top": null,
      "visibility": null,
      "width": null
     }
    },
    "49fc1e70fa7f4a50937d79e82fe8b920": {
     "model_module": "@jupyter-widgets/controls",
     "model_module_version": "1.5.0",
     "model_name": "DropdownModel",
     "state": {
      "_dom_classes": [],
      "_model_module": "@jupyter-widgets/controls",
      "_model_module_version": "1.5.0",
      "_model_name": "DropdownModel",
      "_options_labels": [
       " ",
       "picking",
       "random",
       "uniform",
       "atomindex",
       "residueindex",
       "chainindex",
       "modelindex",
       "sstruc",
       "element",
       "resname",
       "bfactor",
       "hydrophobicity",
       "value",
       "volume",
       "occupancy"
      ],
      "_view_count": null,
      "_view_module": "@jupyter-widgets/controls",
      "_view_module_version": "1.5.0",
      "_view_name": "DropdownView",
      "description": "Color scheme",
      "description_tooltip": null,
      "disabled": false,
      "index": 9,
      "layout": "IPY_MODEL_b04b5ba73a14498fa1679667f4a8dc8b",
      "style": "IPY_MODEL_4ed52fcf347745e99937cb6364784c0d"
     }
    },
    "4ed52fcf347745e99937cb6364784c0d": {
     "model_module": "@jupyter-widgets/controls",
     "model_module_version": "1.5.0",
     "model_name": "DescriptionStyleModel",
     "state": {
      "_model_module": "@jupyter-widgets/controls",
      "_model_module_version": "1.5.0",
      "_model_name": "DescriptionStyleModel",
      "_view_count": null,
      "_view_module": "@jupyter-widgets/base",
      "_view_module_version": "1.2.0",
      "_view_name": "StyleView",
      "description_width": ""
     }
    },
    "660c0b97d1ec4b79be8edadcfd0310a3": {
     "model_module": "@jupyter-widgets/base",
     "model_module_version": "1.2.0",
     "model_name": "LayoutModel",
     "state": {
      "_model_module": "@jupyter-widgets/base",
      "_model_module_version": "1.2.0",
      "_model_name": "LayoutModel",
      "_view_count": null,
      "_view_module": "@jupyter-widgets/base",
      "_view_module_version": "1.2.0",
      "_view_name": "LayoutView",
      "align_content": null,
      "align_items": null,
      "align_self": null,
      "border": null,
      "bottom": null,
      "display": null,
      "flex": null,
      "flex_flow": null,
      "grid_area": null,
      "grid_auto_columns": null,
      "grid_auto_flow": null,
      "grid_auto_rows": null,
      "grid_column": null,
      "grid_gap": null,
      "grid_row": null,
      "grid_template_areas": null,
      "grid_template_columns": null,
      "grid_template_rows": null,
      "height": null,
      "justify_content": null,
      "justify_items": null,
      "left": null,
      "margin": null,
      "max_height": null,
      "max_width": null,
      "min_height": null,
      "min_width": null,
      "object_fit": null,
      "object_position": null,
      "order": null,
      "overflow": null,
      "overflow_x": null,
      "overflow_y": null,
      "padding": null,
      "right": null,
      "top": null,
      "visibility": null,
      "width": null
     }
    },
    "72f3b63c8e604a7587d77ad83ace0a38": {
     "model_module": "@jupyter-widgets/base",
     "model_module_version": "1.2.0",
     "model_name": "LayoutModel",
     "state": {
      "_model_module": "@jupyter-widgets/base",
      "_model_module_version": "1.2.0",
      "_model_name": "LayoutModel",
      "_view_count": null,
      "_view_module": "@jupyter-widgets/base",
      "_view_module_version": "1.2.0",
      "_view_name": "LayoutView",
      "align_content": null,
      "align_items": null,
      "align_self": null,
      "border": null,
      "bottom": null,
      "display": null,
      "flex": null,
      "flex_flow": null,
      "grid_area": null,
      "grid_auto_columns": null,
      "grid_auto_flow": null,
      "grid_auto_rows": null,
      "grid_column": null,
      "grid_gap": null,
      "grid_row": null,
      "grid_template_areas": null,
      "grid_template_columns": null,
      "grid_template_rows": null,
      "height": null,
      "justify_content": null,
      "justify_items": null,
      "left": null,
      "margin": null,
      "max_height": null,
      "max_width": null,
      "min_height": null,
      "min_width": null,
      "object_fit": null,
      "object_position": null,
      "order": null,
      "overflow": null,
      "overflow_x": null,
      "overflow_y": null,
      "padding": null,
      "right": null,
      "top": null,
      "visibility": null,
      "width": null
     }
    },
    "82c4763833834cea9edfefecbc3ca97d": {
     "model_module": "@jupyter-widgets/base",
     "model_module_version": "1.2.0",
     "model_name": "LayoutModel",
     "state": {
      "_model_module": "@jupyter-widgets/base",
      "_model_module_version": "1.2.0",
      "_model_name": "LayoutModel",
      "_view_count": null,
      "_view_module": "@jupyter-widgets/base",
      "_view_module_version": "1.2.0",
      "_view_name": "LayoutView",
      "align_content": null,
      "align_items": null,
      "align_self": null,
      "border": null,
      "bottom": null,
      "display": null,
      "flex": null,
      "flex_flow": null,
      "grid_area": null,
      "grid_auto_columns": null,
      "grid_auto_flow": null,
      "grid_auto_rows": null,
      "grid_column": null,
      "grid_gap": null,
      "grid_row": null,
      "grid_template_areas": null,
      "grid_template_columns": null,
      "grid_template_rows": null,
      "height": null,
      "justify_content": null,
      "justify_items": null,
      "left": null,
      "margin": null,
      "max_height": null,
      "max_width": null,
      "min_height": null,
      "min_width": null,
      "object_fit": null,
      "object_position": null,
      "order": null,
      "overflow": null,
      "overflow_x": null,
      "overflow_y": null,
      "padding": null,
      "right": null,
      "top": null,
      "visibility": null,
      "width": null
     }
    },
    "8a64a78eac254a8590b62615b5753645": {
     "model_module": "@jupyter-widgets/base",
     "model_module_version": "1.2.0",
     "model_name": "LayoutModel",
     "state": {
      "_model_module": "@jupyter-widgets/base",
      "_model_module_version": "1.2.0",
      "_model_name": "LayoutModel",
      "_view_count": null,
      "_view_module": "@jupyter-widgets/base",
      "_view_module_version": "1.2.0",
      "_view_name": "LayoutView",
      "align_content": null,
      "align_items": null,
      "align_self": null,
      "border": null,
      "bottom": null,
      "display": null,
      "flex": null,
      "flex_flow": null,
      "grid_area": null,
      "grid_auto_columns": null,
      "grid_auto_flow": null,
      "grid_auto_rows": null,
      "grid_column": null,
      "grid_gap": null,
      "grid_row": null,
      "grid_template_areas": null,
      "grid_template_columns": null,
      "grid_template_rows": null,
      "height": null,
      "justify_content": null,
      "justify_items": null,
      "left": null,
      "margin": null,
      "max_height": null,
      "max_width": null,
      "min_height": null,
      "min_width": null,
      "object_fit": null,
      "object_position": null,
      "order": null,
      "overflow": null,
      "overflow_x": null,
      "overflow_y": null,
      "padding": null,
      "right": null,
      "top": null,
      "visibility": null,
      "width": "34px"
     }
    },
    "9a4dbfd1c6df46a787bc03c948be45f9": {
     "model_module": "@jupyter-widgets/base",
     "model_module_version": "1.2.0",
     "model_name": "LayoutModel",
     "state": {
      "_model_module": "@jupyter-widgets/base",
      "_model_module_version": "1.2.0",
      "_model_name": "LayoutModel",
      "_view_count": null,
      "_view_module": "@jupyter-widgets/base",
      "_view_module_version": "1.2.0",
      "_view_name": "LayoutView",
      "align_content": null,
      "align_items": null,
      "align_self": null,
      "border": null,
      "bottom": null,
      "display": null,
      "flex": null,
      "flex_flow": null,
      "grid_area": null,
      "grid_auto_columns": null,
      "grid_auto_flow": null,
      "grid_auto_rows": null,
      "grid_column": null,
      "grid_gap": null,
      "grid_row": null,
      "grid_template_areas": null,
      "grid_template_columns": null,
      "grid_template_rows": null,
      "height": null,
      "justify_content": null,
      "justify_items": null,
      "left": null,
      "margin": null,
      "max_height": null,
      "max_width": null,
      "min_height": null,
      "min_width": null,
      "object_fit": null,
      "object_position": null,
      "order": null,
      "overflow": null,
      "overflow_x": null,
      "overflow_y": null,
      "padding": null,
      "right": null,
      "top": null,
      "visibility": null,
      "width": null
     }
    },
    "aa9b65d1ebec41e1b6a84cc9961237d7": {
     "model_module": "@jupyter-widgets/controls",
     "model_module_version": "1.5.0",
     "model_name": "DropdownModel",
     "state": {
      "_dom_classes": [],
      "_model_module": "@jupyter-widgets/controls",
      "_model_module_version": "1.5.0",
      "_model_name": "DropdownModel",
      "_options_labels": [
       "All",
       "H",
       "Ta"
      ],
      "_view_count": null,
      "_view_module": "@jupyter-widgets/controls",
      "_view_module_version": "1.5.0",
      "_view_name": "DropdownView",
      "description": "Show",
      "description_tooltip": null,
      "disabled": false,
      "index": 0,
      "layout": "IPY_MODEL_82c4763833834cea9edfefecbc3ca97d",
      "style": "IPY_MODEL_46a5e9c0aa0c4d6c8869ea82705c04cc"
     }
    },
    "ad55686f0ac84a4990d296920fa3182b": {
     "model_module": "@jupyter-widgets/controls",
     "model_module_version": "1.5.0",
     "model_name": "SliderStyleModel",
     "state": {
      "_model_module": "@jupyter-widgets/controls",
      "_model_module_version": "1.5.0",
      "_model_name": "SliderStyleModel",
      "_view_count": null,
      "_view_module": "@jupyter-widgets/base",
      "_view_module_version": "1.2.0",
      "_view_name": "StyleView",
      "description_width": "",
      "handle_color": null
     }
    },
    "b04b5ba73a14498fa1679667f4a8dc8b": {
     "model_module": "@jupyter-widgets/base",
     "model_module_version": "1.2.0",
     "model_name": "LayoutModel",
     "state": {
      "_model_module": "@jupyter-widgets/base",
      "_model_module_version": "1.2.0",
      "_model_name": "LayoutModel",
      "_view_count": null,
      "_view_module": "@jupyter-widgets/base",
      "_view_module_version": "1.2.0",
      "_view_name": "LayoutView",
      "align_content": null,
      "align_items": null,
      "align_self": null,
      "border": null,
      "bottom": null,
      "display": null,
      "flex": null,
      "flex_flow": null,
      "grid_area": null,
      "grid_auto_columns": null,
      "grid_auto_flow": null,
      "grid_auto_rows": null,
      "grid_column": null,
      "grid_gap": null,
      "grid_row": null,
      "grid_template_areas": null,
      "grid_template_columns": null,
      "grid_template_rows": null,
      "height": null,
      "justify_content": null,
      "justify_items": null,
      "left": null,
      "margin": null,
      "max_height": null,
      "max_width": null,
      "min_height": null,
      "min_width": null,
      "object_fit": null,
      "object_position": null,
      "order": null,
      "overflow": null,
      "overflow_x": null,
      "overflow_y": null,
      "padding": null,
      "right": null,
      "top": null,
      "visibility": null,
      "width": null
     }
    },
    "b3f2023e77024e1393233b3c8705e1df": {
     "model_module": "@jupyter-widgets/controls",
     "model_module_version": "1.5.0",
     "model_name": "ButtonStyleModel",
     "state": {
      "_model_module": "@jupyter-widgets/controls",
      "_model_module_version": "1.5.0",
      "_model_name": "ButtonStyleModel",
      "_view_count": null,
      "_view_module": "@jupyter-widgets/base",
      "_view_module_version": "1.2.0",
      "_view_name": "StyleView",
      "button_color": null,
      "font_weight": ""
     }
    },
    "b4780c86767e41e09a2d81e736d84425": {
     "model_module": "@jupyter-widgets/controls",
     "model_module_version": "1.5.0",
     "model_name": "DescriptionStyleModel",
     "state": {
      "_model_module": "@jupyter-widgets/controls",
      "_model_module_version": "1.5.0",
      "_model_name": "DescriptionStyleModel",
      "_view_count": null,
      "_view_module": "@jupyter-widgets/base",
      "_view_module_version": "1.2.0",
      "_view_name": "StyleView",
      "description_width": ""
     }
    },
    "d5cfcaeb8a594c76a7adbea2cde88e36": {
     "model_module": "@jupyter-widgets/base",
     "model_module_version": "1.2.0",
     "model_name": "LayoutModel",
     "state": {
      "_model_module": "@jupyter-widgets/base",
      "_model_module_version": "1.2.0",
      "_model_name": "LayoutModel",
      "_view_count": null,
      "_view_module": "@jupyter-widgets/base",
      "_view_module_version": "1.2.0",
      "_view_name": "LayoutView",
      "align_content": null,
      "align_items": null,
      "align_self": null,
      "border": null,
      "bottom": null,
      "display": null,
      "flex": null,
      "flex_flow": null,
      "grid_area": null,
      "grid_auto_columns": null,
      "grid_auto_flow": null,
      "grid_auto_rows": null,
      "grid_column": null,
      "grid_gap": null,
      "grid_row": null,
      "grid_template_areas": null,
      "grid_template_columns": null,
      "grid_template_rows": null,
      "height": null,
      "justify_content": null,
      "justify_items": null,
      "left": null,
      "margin": null,
      "max_height": null,
      "max_width": null,
      "min_height": null,
      "min_width": null,
      "object_fit": null,
      "object_position": null,
      "order": null,
      "overflow": null,
      "overflow_x": null,
      "overflow_y": null,
      "padding": null,
      "right": null,
      "top": null,
      "visibility": null,
      "width": null
     }
    },
    "e9fcf8a99292434ba29b8692477b729c": {
     "model_module": "nglview-js-widgets",
     "model_module_version": "3.0.1",
     "model_name": "NGLModel",
     "state": {
      "_camera_orientation": [
       18.37242743139126,
       0,
       0,
       0,
       0,
       18.37242743139126,
       0,
       0,
       0,
       0,
       18.37242743139126,
       0,
       -4.958499908447266,
       -3.506500005722046,
       -8.669000148773193,
       1
      ],
      "_camera_str": "orthographic",
      "_dom_classes": [],
      "_gui_theme": null,
      "_ibtn_fullscreen": "IPY_MODEL_0d89a25bfad649728b3138c894f22d66",
      "_igui": null,
      "_iplayer": "IPY_MODEL_1432ec696d8a4a3f81c03f84e2477830",
      "_model_module": "nglview-js-widgets",
      "_model_module_version": "3.0.1",
      "_model_name": "NGLModel",
      "_ngl_color_dict": {},
      "_ngl_coordinate_resource": {},
      "_ngl_full_stage_parameters": {
       "ambientColor": 14540253,
       "ambientIntensity": 0.2,
       "backgroundColor": "white",
       "cameraEyeSep": 0.3,
       "cameraFov": 40,
       "cameraType": "orthographic",
       "clipDist": 0,
       "clipFar": 100,
       "clipNear": 0,
       "fogFar": 100,
       "fogNear": 50,
       "hoverTimeout": 0,
       "impostor": true,
       "lightColor": 14540253,
       "lightIntensity": 1,
       "mousePreset": "default",
       "panSpeed": 1,
       "quality": "medium",
       "rotateSpeed": 2,
       "sampleLevel": 0,
       "tooltip": true,
       "workerDefault": true,
       "zoomSpeed": 1.2
      },
      "_ngl_msg_archive": [
       {
        "args": [
         {
          "binary": false,
          "data": "CRYST1    9.917    8.589   22.338  90.00  90.00  54.74 P 1\nMODEL     1\nATOM      1   Ta MOL     1       0.000   2.338  10.000  1.00  0.00          TA  \nATOM      2   Ta MOL     1       3.306   2.338  10.000  1.00  0.00          TA  \nATOM      3   Ta MOL     1       6.612   2.338  10.000  1.00  0.00          TA  \nATOM      4   Ta MOL     1       1.653   4.675  10.000  1.00  0.00          TA  \nATOM      5   Ta MOL     1       4.959   4.675  10.000  1.00  0.00          TA  \nATOM      6   Ta MOL     1       8.264   4.675  10.000  1.00  0.00          TA  \nATOM      7   Ta MOL     1       3.306   7.013  10.000  1.00  0.00          TA  \nATOM      8   Ta MOL     1       6.612   7.013  10.000  1.00  0.00          TA  \nATOM      9   Ta MOL     1       9.917   7.013  10.000  1.00  0.00          TA  \nATOM     10   Ta MOL     1       0.000   0.000  12.338  1.00  0.00          TA  \nATOM     11   Ta MOL     1       3.306   0.000  12.338  1.00  0.00          TA  \nATOM     12   Ta MOL     1       6.612   0.000  12.338  1.00  0.00          TA  \nATOM     13   Ta MOL     1       1.653   2.338  12.338  1.00  0.00          TA  \nATOM     14   Ta MOL     1       4.959   2.338  12.338  1.00  0.00          TA  \nATOM     15   Ta MOL     1       8.264   2.338  12.338  1.00  0.00          TA  \nATOM     16   Ta MOL     1       3.306   4.675  12.338  1.00  0.00          TA  \nATOM     17   Ta MOL     1       6.612   4.675  12.338  1.00  0.00          TA  \nATOM     18   Ta MOL     1       9.917   4.675  12.338  1.00  0.00          TA  \nATOM     19    H MOL     1       5.000   4.000   5.000  1.00  0.00           H  \nENDMDL\n",
          "type": "blob"
         }
        ],
        "kwargs": {
         "defaultRepresentation": false,
         "ext": "pdb"
        },
        "methodName": "loadFile",
        "reconstruc_color_scheme": false,
        "target": "Stage",
        "type": "call_method"
       },
       {
        "args": [
         "500px",
         "500px"
        ],
        "kwargs": {},
        "methodName": "setSize",
        "reconstruc_color_scheme": false,
        "target": "Widget",
        "type": "call_method"
       },
       {
        "args": [
         "unitcell"
        ],
        "component_index": 0,
        "kwargs": {
         "sele": "all"
        },
        "methodName": "addRepresentation",
        "reconstruc_color_scheme": false,
        "target": "compList",
        "type": "call_method"
       },
       {
        "args": [
         "spacefill"
        ],
        "component_index": 0,
        "kwargs": {
         "sele": "all"
        },
        "methodName": "addRepresentation",
        "reconstruc_color_scheme": false,
        "target": "compList",
        "type": "call_method"
       },
       {
        "args": [],
        "kwargs": {
         "cameraType": "orthographic"
        },
        "methodName": "setParameters",
        "reconstruc_color_scheme": false,
        "target": "Stage",
        "type": "call_method"
       },
       {
        "args": [
         {
          "clipDist": 0
         }
        ],
        "kwargs": {},
        "methodName": "setParameters",
        "reconstruc_color_scheme": false,
        "target": "Widget",
        "type": "call_method"
       },
       {
        "args": [
         "spacefill",
         0
        ],
        "kwargs": {
         "colorScale": "rainbow",
         "colorScheme": "element",
         "radiusScale": 0.5,
         "radiusType": "covalent"
        },
        "methodName": "updateRepresentationsByName",
        "reconstruc_color_scheme": false,
        "target": "Widget",
        "type": "call_method"
       },
       {
        "args": [
         "spacefill",
         0
        ],
        "kwargs": {
         "colorScale": "rainbow",
         "colorScheme": "element",
         "radiusScale": 0.5,
         "radiusType": "covalent"
        },
        "methodName": "updateRepresentationsByName",
        "reconstruc_color_scheme": false,
        "target": "Widget",
        "type": "call_method"
       },
       {
        "args": [
         "spacefill",
         0
        ],
        "kwargs": {
         "colorScale": "rainbow",
         "colorScheme": "element",
         "radiusScale": 0.49999999999999994,
         "radiusType": "covalent"
        },
        "methodName": "updateRepresentationsByName",
        "reconstruc_color_scheme": false,
        "target": "Widget",
        "type": "call_method"
       },
       {
        "args": [
         "spacefill",
         0
        ],
        "kwargs": {
         "colorScale": "rainbow",
         "colorScheme": "element",
         "radiusScale": 0.49999999999999994,
         "radiusType": "covalent"
        },
        "methodName": "updateRepresentationsByName",
        "reconstruc_color_scheme": false,
        "target": "Widget",
        "type": "call_method"
       }
      ],
      "_ngl_original_stage_parameters": {
       "ambientColor": 14540253,
       "ambientIntensity": 0.2,
       "backgroundColor": "white",
       "cameraEyeSep": 0.3,
       "cameraFov": 40,
       "cameraType": "perspective",
       "clipDist": 10,
       "clipFar": 100,
       "clipNear": 0,
       "fogFar": 100,
       "fogNear": 50,
       "hoverTimeout": 0,
       "impostor": true,
       "lightColor": 14540253,
       "lightIntensity": 1,
       "mousePreset": "default",
       "panSpeed": 1,
       "quality": "medium",
       "rotateSpeed": 2,
       "sampleLevel": 0,
       "tooltip": true,
       "workerDefault": true,
       "zoomSpeed": 1.2
      },
      "_ngl_repr_dict": {
       "0": {
        "0": {
         "params": {
          "clipCenter": {
           "x": 0,
           "y": 0,
           "z": 0
          },
          "clipNear": 0,
          "clipRadius": 0,
          "colorMode": "hcl",
          "colorReverse": false,
          "colorScale": "",
          "colorScheme": "element",
          "colorValue": "orange",
          "defaultAssembly": "",
          "depthWrite": true,
          "diffuse": 16777215,
          "diffuseInterior": false,
          "disableImpostor": false,
          "disablePicking": false,
          "flatShaded": false,
          "interiorColor": 2236962,
          "interiorDarkening": 0,
          "lazy": false,
          "matrix": {
           "elements": [
            1,
            0,
            0,
            0,
            0,
            1,
            0,
            0,
            0,
            0,
            1,
            0,
            0,
            0,
            0,
            1
           ]
          },
          "metalness": 0,
          "opacity": 1,
          "quality": "medium",
          "radialSegments": 10,
          "radiusData": {},
          "radiusScale": 1,
          "radiusSize": 0.057907290683115197,
          "radiusType": "vdw",
          "roughness": 0.4,
          "sele": "all",
          "side": "double",
          "sphereDetail": 1,
          "useInteriorColor": true,
          "visible": true,
          "wireframe": false
         },
         "type": "unitcell"
        },
        "1": {
         "params": {
          "clipCenter": {
           "x": 0,
           "y": 0,
           "z": 0
          },
          "clipNear": 0,
          "clipRadius": 0,
          "colorMode": "hcl",
          "colorReverse": false,
          "colorScale": "",
          "colorScheme": "element",
          "colorValue": "orange",
          "defaultAssembly": "",
          "depthWrite": true,
          "diffuse": 16777215,
          "diffuseInterior": false,
          "disableImpostor": false,
          "disablePicking": false,
          "flatShaded": false,
          "interiorColor": 2236962,
          "interiorDarkening": 0,
          "lazy": false,
          "matrix": {
           "elements": [
            1,
            0,
            0,
            0,
            0,
            1,
            0,
            0,
            0,
            0,
            1,
            0,
            0,
            0,
            0,
            1
           ]
          },
          "metalness": 0,
          "opacity": 1,
          "quality": "medium",
          "radialSegments": 10,
          "radiusData": {},
          "radiusScale": 1,
          "radiusSize": 0.057907290683115197,
          "radiusType": "vdw",
          "roughness": 0.4,
          "sele": "all",
          "side": "double",
          "sphereDetail": 1,
          "useInteriorColor": true,
          "visible": true,
          "wireframe": false
         },
         "type": "unitcell"
        },
        "2": {
         "params": {
          "assembly": "default",
          "clipCenter": {
           "x": 0,
           "y": 0,
           "z": 0
          },
          "clipNear": 0,
          "clipRadius": 0,
          "colorMode": "hcl",
          "colorReverse": false,
          "colorScale": "rainbow",
          "colorScheme": "element",
          "colorValue": 9474192,
          "defaultAssembly": "",
          "depthWrite": true,
          "diffuse": 16777215,
          "diffuseInterior": false,
          "disableImpostor": false,
          "disablePicking": false,
          "flatShaded": false,
          "interiorColor": 2236962,
          "interiorDarkening": 0,
          "lazy": false,
          "matrix": {
           "elements": [
            1,
            0,
            0,
            0,
            0,
            1,
            0,
            0,
            0,
            0,
            1,
            0,
            0,
            0,
            0,
            1
           ]
          },
          "metalness": 0,
          "opacity": 1,
          "quality": "medium",
          "radiusData": {},
          "radiusScale": 0.5,
          "radiusSize": 1,
          "radiusType": "covalent",
          "roughness": 0.4,
          "sele": "all",
          "side": "double",
          "sphereDetail": 1,
          "useInteriorColor": true,
          "visible": true,
          "wireframe": false
         },
         "type": "spacefill"
        },
        "3": {
         "params": {
          "assembly": "default",
          "clipCenter": {
           "x": 0,
           "y": 0,
           "z": 0
          },
          "clipNear": 0,
          "clipRadius": 0,
          "colorMode": "hcl",
          "colorReverse": false,
          "colorScale": "rainbow",
          "colorScheme": "element",
          "colorValue": 9474192,
          "defaultAssembly": "",
          "depthWrite": true,
          "diffuse": 16777215,
          "diffuseInterior": false,
          "disableImpostor": false,
          "disablePicking": false,
          "flatShaded": false,
          "interiorColor": 2236962,
          "interiorDarkening": 0,
          "lazy": false,
          "matrix": {
           "elements": [
            1,
            0,
            0,
            0,
            0,
            1,
            0,
            0,
            0,
            0,
            1,
            0,
            0,
            0,
            0,
            1
           ]
          },
          "metalness": 0,
          "opacity": 1,
          "quality": "medium",
          "radiusData": {},
          "radiusScale": 0.5,
          "radiusSize": 1,
          "radiusType": "covalent",
          "roughness": 0.4,
          "sele": "all",
          "side": "double",
          "sphereDetail": 1,
          "useInteriorColor": true,
          "visible": true,
          "wireframe": false
         },
         "type": "spacefill"
        }
       },
       "1": {}
      },
      "_ngl_serialize": false,
      "_ngl_version": "2.0.0-dev.36",
      "_ngl_view_id": [
       "03E30007-514A-442B-A396-457D25F2533F"
      ],
      "_player_dict": {},
      "_scene_position": {},
      "_scene_rotation": {},
      "_synced_model_ids": [],
      "_synced_repr_model_ids": [],
      "_view_count": null,
      "_view_height": "",
      "_view_module": "nglview-js-widgets",
      "_view_module_version": "3.0.1",
      "_view_name": "NGLView",
      "_view_width": "",
      "background": "white",
      "frame": 0,
      "gui_style": null,
      "layout": "IPY_MODEL_d5cfcaeb8a594c76a7adbea2cde88e36",
      "max_frame": 0,
      "n_components": 2,
      "picked": {}
     }
    },
    "ef7c65351c124fce9030728cdb3edc6b": {
     "model_module": "@jupyter-widgets/controls",
     "model_module_version": "1.5.0",
     "model_name": "SliderStyleModel",
     "state": {
      "_model_module": "@jupyter-widgets/controls",
      "_model_module_version": "1.5.0",
      "_model_name": "SliderStyleModel",
      "_view_count": null,
      "_view_module": "@jupyter-widgets/base",
      "_view_module_version": "1.2.0",
      "_view_name": "StyleView",
      "description_width": "",
      "handle_color": null
     }
    },
    "f36bf82accad484e8ea5488e6503ea84": {
     "model_module": "@jupyter-widgets/controls",
     "model_module_version": "1.5.0",
     "model_name": "HBoxModel",
     "state": {
      "_dom_classes": [],
      "_model_module": "@jupyter-widgets/controls",
      "_model_module_version": "1.5.0",
      "_model_name": "HBoxModel",
      "_view_count": null,
      "_view_module": "@jupyter-widgets/controls",
      "_view_module_version": "1.5.0",
      "_view_name": "HBoxView",
      "box_style": "",
      "children": [
       "IPY_MODEL_e9fcf8a99292434ba29b8692477b729c",
       "IPY_MODEL_3b6d6d84fb8b412f90816f3fd1152c55"
      ],
      "layout": "IPY_MODEL_48de5195ce1b40f49add8f19802c50e5"
     }
    }
   }
  }
 },
 "nbformat": 4,
 "nbformat_minor": 4
}
