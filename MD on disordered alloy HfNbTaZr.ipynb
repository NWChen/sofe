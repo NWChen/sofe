{
 "cells": [
  {
   "cell_type": "markdown",
   "metadata": {
    "tags": []
   },
   "source": [
    "# DFT MD on disordered `HfNbTaZr` alloy\n",
    "\n",
    "A disordered equiatomic `HfNbTaZr` crystal was generated in Vesta using atomic positions seeded randomly using `mcsqs`.\n",
    "\n",
    "This notebook handles a few things:\n",
    "1. Slab relaxation, if `RUN_RELAXATION=True`\n",
    "2. MD run at configurable # time steps, dt, initial eV\n",
    "3. Previewing system (`preview(...)`)\n",
    "\n",
    "Use `ase gui <output_filename.out>` to view animated relax/MD output."
   ]
  },
  {
   "cell_type": "markdown",
   "metadata": {},
   "source": [
    "# Helpers"
   ]
  },
  {
   "cell_type": "code",
   "execution_count": 22,
   "metadata": {
    "tags": []
   },
   "outputs": [],
   "source": [
    "from ase import Atom, Atoms\n",
    "from ase.calculators.espresso import Espresso\n",
    "from ase.constraints import FixAtoms\n",
    "from ase.io.cif import read_cif\n",
    "from ase.io.espresso import read_espresso_out, write_espresso_in\n",
    "from ase.io.vasp import read_vasp\n",
    "from ase.visualize import view\n",
    "from ase.visualize.plot import plot_atoms\n",
    "\n",
    "from copy import deepcopy\n",
    "from matplotlib import pyplot as plt\n",
    "import math\n",
    "import numpy as np\n",
    "from datetime import datetime\n",
    "\n",
    "from qe_utils import (#velocity,\n",
    "    import_vasp,\n",
    "    output_to_atoms,\n",
    "    relax,\n",
    "    pin_bottom_layers,\n",
    "    #get_D_position,\n",
    "    preview,\n",
    "    md,\n",
    "    sanitize)"
   ]
  },
  {
   "cell_type": "code",
   "execution_count": 18,
   "metadata": {
    "tags": []
   },
   "outputs": [],
   "source": [
    "# Numeric constants\n",
    "# 1 picosecond = n Rydberg a.u.\n",
    "PS_TO_AU = 1e-12 / (4.8378 * 1e-17)\n",
    "\n",
    "# 1 femtosecond\n",
    "FS_TO_AU = 1e-15 / (4.8378 * 1e-17)"
   ]
  },
  {
   "cell_type": "code",
   "execution_count": 19,
   "metadata": {
    "tags": []
   },
   "outputs": [],
   "source": [
    "#########################################################################\n",
    "# RUN_RELAXATION\n",
    "#    - True: run a relaxation step (can take several hours)\n",
    "#    - False: don't run a relaxation step, use an existing relaxed crystal\n",
    "# An existing relaxed crystal exists in relax_data/relax_Hf5Nb2Ta10Zr5.out\n",
    "#########################################################################\n",
    "RUN_RELAXATION = False\n",
    "\n",
    "#########################################################################\n",
    "# VACUUM\n",
    "#    - Amount of vacuum, in Angstroms, to place on either side of the system\n",
    "#########################################################################\n",
    "VACUUM = 2.0\n",
    "\n",
    "#########################################################################\n",
    "# DEUTERIUM_MASS_AMU\n",
    "#    - Deuterium mass in AMU\n",
    "#########################################################################\n",
    "DEUTERIUM_MASS_AMU = 2.014\n",
    "\n",
    "#########################################################################\n",
    "# INITIAL_DISTANCE_A\n",
    "#    - Initial distance between D atom and surface of slab, in Angstroms\n",
    "#########################################################################\n",
    "INITIAL_DISTANCE_A = 3.0\n",
    "\n",
    "#########################################################################\n",
    "# AXIS\n",
    "#    - One of { 'x', 'y', 'z' }: axis along which the D atom should travel\n",
    "#########################################################################\n",
    "AXIS = 'x'\n",
    "\n",
    "#########################################################################\n",
    "# N_STEPS\n",
    "#    - Number of steps to run MD for\n",
    "#########################################################################\n",
    "N_STEPS = 15\n",
    "\n",
    "#########################################################################\n",
    "# INITIAL_EV\n",
    "#    - Initial eV to impart on D atom\n",
    "#########################################################################\n",
    "INITIAL_EV = 1000\n",
    "\n",
    "#########################################################################\n",
    "# DT\n",
    "#    - dt, in AU\n",
    "#########################################################################\n",
    "DT = 0.2 * round(FS_TO_AU) # 0.2fs\n",
    "\n",
    "INCIDENT_ANGLE_DEG = 45\n",
    "POLAR_ANGLE_DEG = 45"
   ]
  },
  {
   "cell_type": "code",
   "execution_count": 13,
   "metadata": {
    "tags": []
   },
   "outputs": [
    {
     "data": {
      "text/plain": [
       "array([[2.66999996, 2.82712303, 6.60396422],\n",
       "       [1.25299068, 1.28628418, 5.05846623],\n",
       "       [1.2554869 , 7.38980429, 5.08806777],\n",
       "       [4.08700923, 1.28628418, 5.05846623],\n",
       "       [4.08451302, 7.38980429, 5.08806777],\n",
       "       [2.66999996, 2.79693061, 3.51558322],\n",
       "       [2.66999996, 5.87637868, 6.63499794],\n",
       "       [1.20937306, 4.34092785, 5.07112583],\n",
       "       [4.13062686, 4.34092785, 5.07112583],\n",
       "       [1.30725268, 1.31412259, 2.05877911],\n",
       "       [1.30278831, 1.30839114, 8.0945792 ],\n",
       "       [1.30400962, 7.37582612, 2.04623718],\n",
       "       [1.3077108 , 7.36508295, 8.08600222],\n",
       "       [4.03274723, 1.31412259, 2.05877911],\n",
       "       [4.0372116 , 1.30839114, 8.0945792 ],\n",
       "       [4.03599029, 7.37582612, 2.04623718],\n",
       "       [4.03228912, 7.36508295, 8.08600222],\n",
       "       [2.66999996, 5.86628584, 3.52738393],\n",
       "       [1.24383462, 4.32207796, 2.        ],\n",
       "       [1.24038541, 4.35412328, 8.14975555],\n",
       "       [4.09616529, 4.32207796, 2.        ],\n",
       "       [4.0996145 , 4.35412328, 8.14975555]])"
      ]
     },
     "execution_count": 13,
     "metadata": {},
     "output_type": "execute_result"
    }
   ],
   "source": [
    "atoms.positions[:-1]"
   ]
  },
  {
   "cell_type": "code",
   "execution_count": 41,
   "metadata": {
    "tags": []
   },
   "outputs": [],
   "source": [
    "def velocity(atomic_mass, energy, normal_angle_deg=0, polar_angle_deg=0):\n",
    "    \"\"\"\n",
    "    Computes the velocity of an atom in Hartree atomic units, given the atomic mass in atomic units and the energy in electronvolts.\n",
    "\n",
    "    Args:\n",
    "    atomic_mass: The atomic mass of the atom in atomic units.\n",
    "    energy: The energy of the atom in electronvolts.\n",
    "\n",
    "    Returns:\n",
    "    The velocity of the atom in Hartree atomic units.\n",
    "    \"\"\"\n",
    "\n",
    "    # Convert the atomic mass to kilograms.\n",
    "    atomic_mass_kg = atomic_mass * 1.660539040e-27\n",
    "\n",
    "    # Convert the energy to joules.\n",
    "    energy_joules = energy * 1.60217662e-19\n",
    "\n",
    "    # Calculate the velocity.\n",
    "    velocity_ms = math.sqrt((2 * energy_joules) / atomic_mass_kg)\n",
    "\n",
    "    # Convert the velocity to Hartree atomic units.\n",
    "    velocity_ha = velocity_ms / 2.187691e6\n",
    "    \n",
    "    normal_angle_rad, polar_angle_rad = np.radians(normal_angle_deg), np.radians(polar_angle_deg)\n",
    "    planar_magnitude = velocity_ha * np.sin(normal_angle_rad)\n",
    "    vx = velocity_ha * np.cos(normal_angle_rad)\n",
    "    vy = planar_magnitude * np.cos(polar_angle_rad)\n",
    "    vz = planar_magnitude * np.sin(polar_angle_rad)\n",
    "    \n",
    "    return (vx, vy, vz)\n",
    "\n",
    "assert velocity(1., 100, 0, 0) == velocity(1., 100, 0, 360)\n",
    "assert np.all(np.isclose(\n",
    "    velocity(1., 100, 45, 0),\n",
    "    velocity(1., 100, 45, 360)\n",
    "))"
   ]
  },
  {
   "cell_type": "code",
   "execution_count": 43,
   "metadata": {
    "tags": []
   },
   "outputs": [
    {
     "data": {
      "text/plain": [
       "((0.06349794457000221, 0.0, 0.0),\n",
       " (0.04489982719685608, 2.7493214829449536e-18, 0.044899827196856076))"
      ]
     },
     "execution_count": 43,
     "metadata": {},
     "output_type": "execute_result"
    }
   ],
   "source": [
    "velocity(1., 100, 0, 0), velocity(1., 100, 45, 90)"
   ]
  },
  {
   "cell_type": "code",
   "execution_count": 10,
   "metadata": {
    "tags": []
   },
   "outputs": [],
   "source": [
    "def get_D_position(atoms, initial_distance_a=5.0, axis='z', normal_angle_deg=0, polar_angle_deg=0):\n",
    "    \"\"\"\n",
    "    Get a position at which to place a single D atom.\n",
    "    \n",
    "    Args:\n",
    "        atoms: ase.Atoms object\n",
    "        initial_distance_a: initial distance between top of slab & D atom, in Angstroms\n",
    "        normal_angle_deg: Angle from slab surface normal, in degrees\n",
    "        polar_angle_deg: Angle on face of slab. y-axis (up) is 0deg\n",
    "    \"\"\"\n",
    "    if axis != 'x':\n",
    "        raise NotImplementedError\n",
    "\n",
    "    normal_angle_rad, polar_angle_rad = np.radians(normal_angle_deg), np.radians(polar_angle_deg)\n",
    "    radius = initial_distance_a * np.sin(normal_angle_rad)\n",
    "    dx = initial_distance_a * np.cos(normal_angle_rad)\n",
    "    dy = radius * np.cos(polar_angle_rad)\n",
    "    dz = radius * np.sin(polar_angle_rad)\n",
    "    \n",
    "    mean_xyz = np.mean(atoms.positions, axis=0)\n",
    "    top_x = np.max(atoms.positions[:, 0]) # largest cartesian x coordinate (top of slab)\n",
    "    return np.array([top_x + dx, mean_xyz[1] + dy, mean_xyz[2] + dz])"
   ]
  },
  {
   "cell_type": "markdown",
   "metadata": {
    "tags": []
   },
   "source": [
    "## Add vacuum and a single `D` atom\n",
    "\n",
    "Fix the crystal in place & add vacuum on either side. Then add an unconstrained `D` atom `INITIAL_DISTANCE_A` Angstroms away from the slab."
   ]
  },
  {
   "cell_type": "code",
   "execution_count": 11,
   "metadata": {
    "tags": []
   },
   "outputs": [
    {
     "data": {
      "image/png": "[encoded data removed]",
      "text/plain": [
       "<Figure size 900x300 with 2 Axes>"
      ]
     },
     "metadata": {},
     "output_type": "display_data"
    }
   ],
   "source": [
    "# Run relaxation, if needed\n",
    "if RUN_RELAXATION:\n",
    "    slab = import_vasp('input/HfNbTaZr_8.vasp', truncate=False)\n",
    "    slab.center(vacuum=1)\n",
    "    relax_output_filename = relax(slab)\n",
    "    \n",
    "# Create our slab\n",
    "slab = output_to_atoms(relax_output_filename if RUN_RELAXATION else 'relax_data/relax_Hf5Nb2Ta10Zr5.out') # This slab is the result of relaxing a 22-atom crystal\n",
    "atoms = deepcopy(slab)\n",
    "atoms.center(vacuum=VACUUM, axis=2)\n",
    "atoms = pin_bottom_layers(atoms, nlayers=1, axis=AXIS)\n",
    "\n",
    "# Place the D atom in the center of the slab, `INITIAL_DISTANCE_A` Angstroms away\n",
    "DEUTERIUM_XYZ = get_D_position(atoms, initial_distance_a=INITIAL_DISTANCE_A, axis=AXIS, normal_angle_deg=INCIDENT_ANGLE_DEG, polar_angle_deg=POLAR_ANGLE_DEG)\n",
    "deuterium = Atom('H', mass=DEUTERIUM_MASS_AMU, position=DEUTERIUM_XYZ)\n",
    "atoms.append(deuterium)\n",
    "\n",
    "# Expand unit cell so that the D atom fits\n",
    "existing_cell = atoms.get_cell()\n",
    "atoms.set_cell(np.array([ # TODO this code is dogshit, clean it up\n",
    "    existing_cell[0][0] + (2 * INITIAL_DISTANCE_A if AXIS == 'x' else 0),\n",
    "    existing_cell[1][1] + (2 * INITIAL_DISTANCE_A if AXIS == 'y' else 0),\n",
    "    existing_cell[2][2] + (2 * INITIAL_DISTANCE_A if AXIS == 'z' else 0)]\n",
    "))\n",
    "\n",
    "preview(atoms)"
   ]
  },
  {
   "cell_type": "markdown",
   "metadata": {},
   "source": [
    "## Run MD"
   ]
  },
  {
   "cell_type": "code",
   "execution_count": 17,
   "metadata": {
    "tags": []
   },
   "outputs": [
    {
     "name": "stdout",
     "output_type": "stream",
     "text": [
      "Writing D initial velocity 1000eV (0.14149136432947648 Hartree au)\n"
     ]
    },
    {
     "name": "stderr",
     "output_type": "stream",
     "text": [
      "Note: The following floating-point exceptions are signalling: IEEE_DENORMAL\n",
      "Note: The following floating-point exceptions are signalling: IEEE_INVALID_FLAG IEEE_DENORMAL\n",
      "Note: The following floating-point exceptions are signalling: IEEE_DENORMAL\n",
      "Note: The following floating-point exceptions are signalling: IEEE_DENORMAL\n",
      "Note: The following floating-point exceptions are signalling: IEEE_DENORMAL\n",
      "Note: The following floating-point exceptions are signalling: IEEE_DENORMAL\n",
      "Note: The following floating-point exceptions are signalling: IEEE_DENORMAL\n",
      "Note: The following floating-point exceptions are signalling: IEEE_DENORMAL\n",
      "Note: The following floating-point exceptions are signalling: IEEE_DENORMAL\n"
     ]
    },
    {
     "ename": "AttributeError",
     "evalue": "'int' object has no attribute 'wait'",
     "output_type": "error",
     "traceback": [
      "\u001b[0;31m---------------------------------------------------------------------------\u001b[0m",
      "\u001b[0;31mAttributeError\u001b[0m                            Traceback (most recent call last)",
      "Cell \u001b[0;32mIn[17], line 1\u001b[0m\n\u001b[0;32m----> 1\u001b[0m output_filename \u001b[38;5;241m=\u001b[39m \u001b[43mmd\u001b[49m\u001b[43m(\u001b[49m\u001b[43matoms\u001b[49m\u001b[43m,\u001b[49m\u001b[43m \u001b[49m\u001b[43mnsteps\u001b[49m\u001b[38;5;241;43m=\u001b[39;49m\u001b[43mN_STEPS\u001b[49m\u001b[43m,\u001b[49m\u001b[43m \u001b[49m\u001b[43mdt\u001b[49m\u001b[38;5;241;43m=\u001b[39;49m\u001b[43mDT\u001b[49m\u001b[43m,\u001b[49m\u001b[43m \u001b[49m\u001b[43minitial_eV\u001b[49m\u001b[38;5;241;43m=\u001b[39;49m\u001b[43mINITIAL_EV\u001b[49m\u001b[43m,\u001b[49m\u001b[43m \u001b[49m\u001b[43mincident_angle_deg\u001b[49m\u001b[38;5;241;43m=\u001b[39;49m\u001b[43mINCIDENT_ANGLE_DEG\u001b[49m\u001b[43m,\u001b[49m\u001b[43m \u001b[49m\u001b[43mpolar_angle_deg\u001b[49m\u001b[38;5;241;43m=\u001b[39;49m\u001b[43mPOLAR_ANGLE_DEG\u001b[49m\u001b[43m,\u001b[49m\u001b[43m \u001b[49m\u001b[43mncores\u001b[49m\u001b[38;5;241;43m=\u001b[39;49m\u001b[38;5;241;43m12\u001b[39;49m\u001b[43m)\u001b[49m\n",
      "File \u001b[0;32m~/git/md/qe_utils.py:333\u001b[0m, in \u001b[0;36mmd\u001b[0;34m(atoms, nsteps, dt, AXIS, initial_eV, incident_angle_deg, polar_angle_deg, suffix, ncores)\u001b[0m\n\u001b[1;32m    330\u001b[0m         \u001b[38;5;28mprint\u001b[39m(\u001b[38;5;124mf\u001b[39m\u001b[38;5;124m'\u001b[39m\u001b[38;5;124mWriting D initial velocity \u001b[39m\u001b[38;5;132;01m{\u001b[39;00minitial_eV\u001b[38;5;132;01m}\u001b[39;00m\u001b[38;5;124meV (\u001b[39m\u001b[38;5;132;01m{\u001b[39;00mvelocity_au\u001b[38;5;132;01m}\u001b[39;00m\u001b[38;5;124m Hartree au)\u001b[39m\u001b[38;5;124m'\u001b[39m)\n\u001b[1;32m    331\u001b[0m         f\u001b[38;5;241m.\u001b[39mwrite(atomic_velocities_str)\n\u001b[0;32m--> 333\u001b[0m \u001b[43mrun\u001b[49m\u001b[43m(\u001b[49m\u001b[43minput_filename\u001b[49m\u001b[43m,\u001b[49m\u001b[43m \u001b[49m\u001b[43moutput_filename\u001b[49m\u001b[43m,\u001b[49m\u001b[43m \u001b[49m\u001b[43mncores\u001b[49m\u001b[43m)\u001b[49m\n\u001b[1;32m    334\u001b[0m \u001b[38;5;28;01mreturn\u001b[39;00m output_filename\n",
      "File \u001b[0;32m~/git/md/qe_utils.py:69\u001b[0m, in \u001b[0;36mrun\u001b[0;34m(input_filename, output_filename, ncores)\u001b[0m\n\u001b[1;32m     67\u001b[0m \u001b[38;5;28;01mwith\u001b[39;00m \u001b[38;5;28mopen\u001b[39m(output_filename, \u001b[38;5;124m'\u001b[39m\u001b[38;5;124mw\u001b[39m\u001b[38;5;124m'\u001b[39m) \u001b[38;5;28;01mas\u001b[39;00m f:\n\u001b[1;32m     68\u001b[0m     p \u001b[38;5;241m=\u001b[39m subprocess\u001b[38;5;241m.\u001b[39mcall([\u001b[38;5;124m'\u001b[39m\u001b[38;5;124mmpirun\u001b[39m\u001b[38;5;124m'\u001b[39m, \u001b[38;5;124m'\u001b[39m\u001b[38;5;124mq-e/bin/pw.x\u001b[39m\u001b[38;5;124m'\u001b[39m, \u001b[38;5;124m'\u001b[39m\u001b[38;5;124m-inp\u001b[39m\u001b[38;5;124m'\u001b[39m, input_filename], stdout\u001b[38;5;241m=\u001b[39mf)\n\u001b[0;32m---> 69\u001b[0m     \u001b[43mp\u001b[49m\u001b[38;5;241;43m.\u001b[39;49m\u001b[43mwait\u001b[49m()\n",
      "\u001b[0;31mAttributeError\u001b[0m: 'int' object has no attribute 'wait'"
     ]
    }
   ],
   "source": [
    "output_filename = md(atoms, nsteps=N_STEPS, dt=DT, initial_eV=INITIAL_EV, incident_angle_deg=INCIDENT_ANGLE_DEG, polar_angle_deg=POLAR_ANGLE_DEG, ncores=12)"
   ]
  },
  {
   "cell_type": "code",
   "execution_count": 19,
   "metadata": {
    "tags": []
   },
   "outputs": [
    {
     "name": "stdout",
     "output_type": "stream",
     "text": [
      "Preserving existing job output in md_Hf5Nb2Ta10Zr5H_15steps_1000eV_incident45_polar45.out.old\n"
     ]
    }
   ],
   "source": [
    "# We have to do this bit to get `ase` to be able to read the file in again\n",
    "# TODO: file bugfix PR in ase\n",
    "sanitize(output_filename)"
   ]
  },
  {
   "cell_type": "markdown",
   "metadata": {},
   "source": [
    "From here, run `ase gui <output_filename>` to view the animation"
   ]
  }
 ],
 "metadata": {
  "colab": {
   "provenance": []
  },
  "gpuClass": "standard",
  "kernelspec": {
   "display_name": "Python 3 (ipykernel)",
   "language": "python",
   "name": "python3"
  },
  "language_info": {
   "codemirror_mode": {
    "name": "ipython",
    "version": 3
   },
   "file_extension": ".py",
   "mimetype": "text/x-python",
   "name": "python",
   "nbconvert_exporter": "python",
   "pygments_lexer": "ipython3",
   "version": "3.11.2"
  },
  "widgets": {
   "application/vnd.jupyter.widget-state+json": {
    "08305f2744c34fb7b6eee4596907c463": {
     "model_module": "@jupyter-widgets/base",
     "model_module_version": "1.2.0",
     "model_name": "LayoutModel",
     "state": {
      "_model_module": "@jupyter-widgets/base",
      "_model_module_version": "1.2.0",
      "_model_name": "LayoutModel",
      "_view_count": null,
      "_view_module": "@jupyter-widgets/base",
      "_view_module_version": "1.2.0",
      "_view_name": "LayoutView",
      "align_content": null,
      "align_items": null,
      "align_self": null,
      "border": null,
      "bottom": null,
      "display": null,
      "flex": null,
      "flex_flow": null,
      "grid_area": null,
      "grid_auto_columns": null,
      "grid_auto_flow": null,
      "grid_auto_rows": null,
      "grid_column": null,
      "grid_gap": null,
      "grid_row": null,
      "grid_template_areas": null,
      "grid_template_columns": null,
      "grid_template_rows": null,
      "height": null,
      "justify_content": null,
      "justify_items": null,
      "left": null,
      "margin": null,
      "max_height": null,
      "max_width": null,
      "min_height": null,
      "min_width": null,
      "object_fit": null,
      "object_position": null,
      "order": null,
      "overflow": null,
      "overflow_x": null,
      "overflow_y": null,
      "padding": null,
      "right": null,
      "top": null,
      "visibility": null,
      "width": null
     }
    },
    "0d89a25bfad649728b3138c894f22d66": {
     "model_module": "@jupyter-widgets/controls",
     "model_module_version": "1.5.0",
     "model_name": "ButtonModel",
     "state": {
      "_dom_classes": [],
      "_model_module": "@jupyter-widgets/controls",
      "_model_module_version": "1.5.0",
      "_model_name": "ButtonModel",
      "_view_count": null,
      "_view_module": "@jupyter-widgets/controls",
      "_view_module_version": "1.5.0",
      "_view_name": "ButtonView",
      "button_style": "",
      "description": "",
      "disabled": false,
      "icon": "compress",
      "layout": "IPY_MODEL_8a64a78eac254a8590b62615b5753645",
      "style": "IPY_MODEL_b3f2023e77024e1393233b3c8705e1df",
      "tooltip": ""
     }
    },
    "1068425ba9e7426fb10ceb70addb61f8": {
     "model_module": "@jupyter-widgets/controls",
     "model_module_version": "1.5.0",
     "model_name": "IntSliderModel",
     "state": {
      "_dom_classes": [],
      "_model_module": "@jupyter-widgets/controls",
      "_model_module_version": "1.5.0",
      "_model_name": "IntSliderModel",
      "_view_count": null,
      "_view_module": "@jupyter-widgets/controls",
      "_view_module_version": "1.5.0",
      "_view_name": "IntSliderView",
      "continuous_update": true,
      "description": "",
      "description_tooltip": null,
      "disabled": false,
      "layout": "IPY_MODEL_31d0f977a9184e5795285f6336c22ce4",
      "max": 0,
      "min": 0,
      "orientation": "horizontal",
      "readout": true,
      "readout_format": "d",
      "step": 1,
      "style": "IPY_MODEL_ef7c65351c124fce9030728cdb3edc6b",
      "value": 0
     }
    },
    "1432ec696d8a4a3f81c03f84e2477830": {
     "model_module": "@jupyter-widgets/controls",
     "model_module_version": "1.5.0",
     "model_name": "HBoxModel",
     "state": {
      "_dom_classes": [],
      "_model_module": "@jupyter-widgets/controls",
      "_model_module_version": "1.5.0",
      "_model_name": "HBoxModel",
      "_view_count": null,
      "_view_module": "@jupyter-widgets/controls",
      "_view_module_version": "1.5.0",
      "_view_name": "HBoxView",
      "box_style": "",
      "children": [
       "IPY_MODEL_3d2d49de500a4ec2a33668c990bec777",
       "IPY_MODEL_1068425ba9e7426fb10ceb70addb61f8"
      ],
      "layout": "IPY_MODEL_08305f2744c34fb7b6eee4596907c463"
     }
    },
    "1eca1a150ee749299d640b0fe8541db7": {
     "model_module": "@jupyter-widgets/controls",
     "model_module_version": "1.5.0",
     "model_name": "FloatSliderModel",
     "state": {
      "_dom_classes": [],
      "_model_module": "@jupyter-widgets/controls",
      "_model_module_version": "1.5.0",
      "_model_name": "FloatSliderModel",
      "_view_count": null,
      "_view_module": "@jupyter-widgets/controls",
      "_view_module_version": "1.5.0",
      "_view_name": "FloatSliderView",
      "continuous_update": true,
      "description": "Ball size",
      "description_tooltip": null,
      "disabled": false,
      "layout": "IPY_MODEL_660c0b97d1ec4b79be8edadcfd0310a3",
      "max": 1.5,
      "min": 0,
      "orientation": "horizontal",
      "readout": true,
      "readout_format": ".2f",
      "step": 0.01,
      "style": "IPY_MODEL_ad55686f0ac84a4990d296920fa3182b",
      "value": 0.49999999999999994
     }
    },
    "31d0f977a9184e5795285f6336c22ce4": {
     "model_module": "@jupyter-widgets/base",
     "model_module_version": "1.2.0",
     "model_name": "LayoutModel",
     "state": {
      "_model_module": "@jupyter-widgets/base",
      "_model_module_version": "1.2.0",
      "_model_name": "LayoutModel",
      "_view_count": null,
      "_view_module": "@jupyter-widgets/base",
      "_view_module_version": "1.2.0",
      "_view_name": "LayoutView",
      "align_content": null,
      "align_items": null,
      "align_self": null,
      "border": null,
      "bottom": null,
      "display": null,
      "flex": null,
      "flex_flow": null,
      "grid_area": null,
      "grid_auto_columns": null,
      "grid_auto_flow": null,
      "grid_auto_rows": null,
      "grid_column": null,
      "grid_gap": null,
      "grid_row": null,
      "grid_template_areas": null,
      "grid_template_columns": null,
      "grid_template_rows": null,
      "height": null,
      "justify_content": null,
      "justify_items": null,
      "left": null,
      "margin": null,
      "max_height": null,
      "max_width": null,
      "min_height": null,
      "min_width": null,
      "object_fit": null,
      "object_position": null,
      "order": null,
      "overflow": null,
      "overflow_x": null,
      "overflow_y": null,
      "padding": null,
      "right": null,
      "top": null,
      "visibility": null,
      "width": null
     }
    },
    "3b6d6d84fb8b412f90816f3fd1152c55": {
     "model_module": "@jupyter-widgets/controls",
     "model_module_version": "1.5.0",
     "model_name": "VBoxModel",
     "state": {
      "_dom_classes": [],
      "_model_module": "@jupyter-widgets/controls",
      "_model_module_version": "1.5.0",
      "_model_name": "VBoxModel",
      "_view_count": null,
      "_view_module": "@jupyter-widgets/controls",
      "_view_module_version": "1.5.0",
      "_view_name": "VBoxView",
      "box_style": "",
      "children": [
       "IPY_MODEL_aa9b65d1ebec41e1b6a84cc9961237d7",
       "IPY_MODEL_49fc1e70fa7f4a50937d79e82fe8b920",
       "IPY_MODEL_1eca1a150ee749299d640b0fe8541db7"
      ],
      "layout": "IPY_MODEL_72f3b63c8e604a7587d77ad83ace0a38"
     }
    },
    "3d2d49de500a4ec2a33668c990bec777": {
     "model_module": "@jupyter-widgets/controls",
     "model_module_version": "1.5.0",
     "model_name": "PlayModel",
     "state": {
      "_dom_classes": [],
      "_model_module": "@jupyter-widgets/controls",
      "_model_module_version": "1.5.0",
      "_model_name": "PlayModel",
      "_playing": false,
      "_repeat": false,
      "_view_count": null,
      "_view_module": "@jupyter-widgets/controls",
      "_view_module_version": "1.5.0",
      "_view_name": "PlayView",
      "description": "",
      "description_tooltip": null,
      "disabled": false,
      "interval": 100,
      "layout": "IPY_MODEL_9a4dbfd1c6df46a787bc03c948be45f9",
      "max": 0,
      "min": 0,
      "show_repeat": true,
      "step": 1,
      "style": "IPY_MODEL_b4780c86767e41e09a2d81e736d84425",
      "value": 0
     }
    },
    "46a5e9c0aa0c4d6c8869ea82705c04cc": {
     "model_module": "@jupyter-widgets/controls",
     "model_module_version": "1.5.0",
     "model_name": "DescriptionStyleModel",
     "state": {
      "_model_module": "@jupyter-widgets/controls",
      "_model_module_version": "1.5.0",
      "_model_name": "DescriptionStyleModel",
      "_view_count": null,
      "_view_module": "@jupyter-widgets/base",
      "_view_module_version": "1.2.0",
      "_view_name": "StyleView",
      "description_width": ""
     }
    },
    "48de5195ce1b40f49add8f19802c50e5": {
     "model_module": "@jupyter-widgets/base",
     "model_module_version": "1.2.0",
     "model_name": "LayoutModel",
     "state": {
      "_model_module": "@jupyter-widgets/base",
      "_model_module_version": "1.2.0",
      "_model_name": "LayoutModel",
      "_view_count": null,
      "_view_module": "@jupyter-widgets/base",
      "_view_module_version": "1.2.0",
      "_view_name": "LayoutView",
      "align_content": null,
      "align_items": null,
      "align_self": null,
      "border": null,
      "bottom": null,
      "display": null,
      "flex": null,
      "flex_flow": null,
      "grid_area": null,
      "grid_auto_columns": null,
      "grid_auto_flow": null,
      "grid_auto_rows": null,
      "grid_column": null,
      "grid_gap": null,
      "grid_row": null,
      "grid_template_areas": null,
      "grid_template_columns": null,
      "grid_template_rows": null,
      "height": null,
      "justify_content": null,
      "justify_items": null,
      "left": null,
      "margin": null,
      "max_height": null,
      "max_width": null,
      "min_height": null,
      "min_width": null,
      "object_fit": null,
      "object_position": null,
      "order": null,
      "overflow": null,
      "overflow_x": null,
      "overflow_y": null,
      "padding": null,
      "right": null,
      "top": null,
      "visibility": null,
      "width": null
     }
    },
    "49fc1e70fa7f4a50937d79e82fe8b920": {
     "model_module": "@jupyter-widgets/controls",
     "model_module_version": "1.5.0",
     "model_name": "DropdownModel",
     "state": {
      "_dom_classes": [],
      "_model_module": "@jupyter-widgets/controls",
      "_model_module_version": "1.5.0",
      "_model_name": "DropdownModel",
      "_options_labels": [
       " ",
       "picking",
       "random",
       "uniform",
       "atomindex",
       "residueindex",
       "chainindex",
       "modelindex",
       "sstruc",
       "element",
       "resname",
       "bfactor",
       "hydrophobicity",
       "value",
       "volume",
       "occupancy"
      ],
      "_view_count": null,
      "_view_module": "@jupyter-widgets/controls",
      "_view_module_version": "1.5.0",
      "_view_name": "DropdownView",
      "description": "Color scheme",
      "description_tooltip": null,
      "disabled": false,
      "index": 9,
      "layout": "IPY_MODEL_b04b5ba73a14498fa1679667f4a8dc8b",
      "style": "IPY_MODEL_4ed52fcf347745e99937cb6364784c0d"
     }
    },
    "4ed52fcf347745e99937cb6364784c0d": {
     "model_module": "@jupyter-widgets/controls",
     "model_module_version": "1.5.0",
     "model_name": "DescriptionStyleModel",
     "state": {
      "_model_module": "@jupyter-widgets/controls",
      "_model_module_version": "1.5.0",
      "_model_name": "DescriptionStyleModel",
      "_view_count": null,
      "_view_module": "@jupyter-widgets/base",
      "_view_module_version": "1.2.0",
      "_view_name": "StyleView",
      "description_width": ""
     }
    },
    "660c0b97d1ec4b79be8edadcfd0310a3": {
     "model_module": "@jupyter-widgets/base",
     "model_module_version": "1.2.0",
     "model_name": "LayoutModel",
     "state": {
      "_model_module": "@jupyter-widgets/base",
      "_model_module_version": "1.2.0",
      "_model_name": "LayoutModel",
      "_view_count": null,
      "_view_module": "@jupyter-widgets/base",
      "_view_module_version": "1.2.0",
      "_view_name": "LayoutView",
      "align_content": null,
      "align_items": null,
      "align_self": null,
      "border": null,
      "bottom": null,
      "display": null,
      "flex": null,
      "flex_flow": null,
      "grid_area": null,
      "grid_auto_columns": null,
      "grid_auto_flow": null,
      "grid_auto_rows": null,
      "grid_column": null,
      "grid_gap": null,
      "grid_row": null,
      "grid_template_areas": null,
      "grid_template_columns": null,
      "grid_template_rows": null,
      "height": null,
      "justify_content": null,
      "justify_items": null,
      "left": null,
      "margin": null,
      "max_height": null,
      "max_width": null,
      "min_height": null,
      "min_width": null,
      "object_fit": null,
      "object_position": null,
      "order": null,
      "overflow": null,
      "overflow_x": null,
      "overflow_y": null,
      "padding": null,
      "right": null,
      "top": null,
      "visibility": null,
      "width": null
     }
    },
    "72f3b63c8e604a7587d77ad83ace0a38": {
     "model_module": "@jupyter-widgets/base",
     "model_module_version": "1.2.0",
     "model_name": "LayoutModel",
     "state": {
      "_model_module": "@jupyter-widgets/base",
      "_model_module_version": "1.2.0",
      "_model_name": "LayoutModel",
      "_view_count": null,
      "_view_module": "@jupyter-widgets/base",
      "_view_module_version": "1.2.0",
      "_view_name": "LayoutView",
      "align_content": null,
      "align_items": null,
      "align_self": null,
      "border": null,
      "bottom": null,
      "display": null,
      "flex": null,
      "flex_flow": null,
      "grid_area": null,
      "grid_auto_columns": null,
      "grid_auto_flow": null,
      "grid_auto_rows": null,
      "grid_column": null,
      "grid_gap": null,
      "grid_row": null,
      "grid_template_areas": null,
      "grid_template_columns": null,
      "grid_template_rows": null,
      "height": null,
      "justify_content": null,
      "justify_items": null,
      "left": null,
      "margin": null,
      "max_height": null,
      "max_width": null,
      "min_height": null,
      "min_width": null,
      "object_fit": null,
      "object_position": null,
      "order": null,
      "overflow": null,
      "overflow_x": null,
      "overflow_y": null,
      "padding": null,
      "right": null,
      "top": null,
      "visibility": null,
      "width": null
     }
    },
    "82c4763833834cea9edfefecbc3ca97d": {
     "model_module": "@jupyter-widgets/base",
     "model_module_version": "1.2.0",
     "model_name": "LayoutModel",
     "state": {
      "_model_module": "@jupyter-widgets/base",
      "_model_module_version": "1.2.0",
      "_model_name": "LayoutModel",
      "_view_count": null,
      "_view_module": "@jupyter-widgets/base",
      "_view_module_version": "1.2.0",
      "_view_name": "LayoutView",
      "align_content": null,
      "align_items": null,
      "align_self": null,
      "border": null,
      "bottom": null,
      "display": null,
      "flex": null,
      "flex_flow": null,
      "grid_area": null,
      "grid_auto_columns": null,
      "grid_auto_flow": null,
      "grid_auto_rows": null,
      "grid_column": null,
      "grid_gap": null,
      "grid_row": null,
      "grid_template_areas": null,
      "grid_template_columns": null,
      "grid_template_rows": null,
      "height": null,
      "justify_content": null,
      "justify_items": null,
      "left": null,
      "margin": null,
      "max_height": null,
      "max_width": null,
      "min_height": null,
      "min_width": null,
      "object_fit": null,
      "object_position": null,
      "order": null,
      "overflow": null,
      "overflow_x": null,
      "overflow_y": null,
      "padding": null,
      "right": null,
      "top": null,
      "visibility": null,
      "width": null
     }
    },
    "8a64a78eac254a8590b62615b5753645": {
     "model_module": "@jupyter-widgets/base",
     "model_module_version": "1.2.0",
     "model_name": "LayoutModel",
     "state": {
      "_model_module": "@jupyter-widgets/base",
      "_model_module_version": "1.2.0",
      "_model_name": "LayoutModel",
      "_view_count": null,
      "_view_module": "@jupyter-widgets/base",
      "_view_module_version": "1.2.0",
      "_view_name": "LayoutView",
      "align_content": null,
      "align_items": null,
      "align_self": null,
      "border": null,
      "bottom": null,
      "display": null,
      "flex": null,
      "flex_flow": null,
      "grid_area": null,
      "grid_auto_columns": null,
      "grid_auto_flow": null,
      "grid_auto_rows": null,
      "grid_column": null,
      "grid_gap": null,
      "grid_row": null,
      "grid_template_areas": null,
      "grid_template_columns": null,
      "grid_template_rows": null,
      "height": null,
      "justify_content": null,
      "justify_items": null,
      "left": null,
      "margin": null,
      "max_height": null,
      "max_width": null,
      "min_height": null,
      "min_width": null,
      "object_fit": null,
      "object_position": null,
      "order": null,
      "overflow": null,
      "overflow_x": null,
      "overflow_y": null,
      "padding": null,
      "right": null,
      "top": null,
      "visibility": null,
      "width": "34px"
     }
    },
    "9a4dbfd1c6df46a787bc03c948be45f9": {
     "model_module": "@jupyter-widgets/base",
     "model_module_version": "1.2.0",
     "model_name": "LayoutModel",
     "state": {
      "_model_module": "@jupyter-widgets/base",
      "_model_module_version": "1.2.0",
      "_model_name": "LayoutModel",
      "_view_count": null,
      "_view_module": "@jupyter-widgets/base",
      "_view_module_version": "1.2.0",
      "_view_name": "LayoutView",
      "align_content": null,
      "align_items": null,
      "align_self": null,
      "border": null,
      "bottom": null,
      "display": null,
      "flex": null,
      "flex_flow": null,
      "grid_area": null,
      "grid_auto_columns": null,
      "grid_auto_flow": null,
      "grid_auto_rows": null,
      "grid_column": null,
      "grid_gap": null,
      "grid_row": null,
      "grid_template_areas": null,
      "grid_template_columns": null,
      "grid_template_rows": null,
      "height": null,
      "justify_content": null,
      "justify_items": null,
      "left": null,
      "margin": null,
      "max_height": null,
      "max_width": null,
      "min_height": null,
      "min_width": null,
      "object_fit": null,
      "object_position": null,
      "order": null,
      "overflow": null,
      "overflow_x": null,
      "overflow_y": null,
      "padding": null,
      "right": null,
      "top": null,
      "visibility": null,
      "width": null
     }
    },
    "aa9b65d1ebec41e1b6a84cc9961237d7": {
     "model_module": "@jupyter-widgets/controls",
     "model_module_version": "1.5.0",
     "model_name": "DropdownModel",
     "state": {
      "_dom_classes": [],
      "_model_module": "@jupyter-widgets/controls",
      "_model_module_version": "1.5.0",
      "_model_name": "DropdownModel",
      "_options_labels": [
       "All",
       "H",
       "Ta"
      ],
      "_view_count": null,
      "_view_module": "@jupyter-widgets/controls",
      "_view_module_version": "1.5.0",
      "_view_name": "DropdownView",
      "description": "Show",
      "description_tooltip": null,
      "disabled": false,
      "index": 0,
      "layout": "IPY_MODEL_82c4763833834cea9edfefecbc3ca97d",
      "style": "IPY_MODEL_46a5e9c0aa0c4d6c8869ea82705c04cc"
     }
    },
    "ad55686f0ac84a4990d296920fa3182b": {
     "model_module": "@jupyter-widgets/controls",
     "model_module_version": "1.5.0",
     "model_name": "SliderStyleModel",
     "state": {
      "_model_module": "@jupyter-widgets/controls",
      "_model_module_version": "1.5.0",
      "_model_name": "SliderStyleModel",
      "_view_count": null,
      "_view_module": "@jupyter-widgets/base",
      "_view_module_version": "1.2.0",
      "_view_name": "StyleView",
      "description_width": "",
      "handle_color": null
     }
    },
    "b04b5ba73a14498fa1679667f4a8dc8b": {
     "model_module": "@jupyter-widgets/base",
     "model_module_version": "1.2.0",
     "model_name": "LayoutModel",
     "state": {
      "_model_module": "@jupyter-widgets/base",
      "_model_module_version": "1.2.0",
      "_model_name": "LayoutModel",
      "_view_count": null,
      "_view_module": "@jupyter-widgets/base",
      "_view_module_version": "1.2.0",
      "_view_name": "LayoutView",
      "align_content": null,
      "align_items": null,
      "align_self": null,
      "border": null,
      "bottom": null,
      "display": null,
      "flex": null,
      "flex_flow": null,
      "grid_area": null,
      "grid_auto_columns": null,
      "grid_auto_flow": null,
      "grid_auto_rows": null,
      "grid_column": null,
      "grid_gap": null,
      "grid_row": null,
      "grid_template_areas": null,
      "grid_template_columns": null,
      "grid_template_rows": null,
      "height": null,
      "justify_content": null,
      "justify_items": null,
      "left": null,
      "margin": null,
      "max_height": null,
      "max_width": null,
      "min_height": null,
      "min_width": null,
      "object_fit": null,
      "object_position": null,
      "order": null,
      "overflow": null,
      "overflow_x": null,
      "overflow_y": null,
      "padding": null,
      "right": null,
      "top": null,
      "visibility": null,
      "width": null
     }
    },
    "b3f2023e77024e1393233b3c8705e1df": {
     "model_module": "@jupyter-widgets/controls",
     "model_module_version": "1.5.0",
     "model_name": "ButtonStyleModel",
     "state": {
      "_model_module": "@jupyter-widgets/controls",
      "_model_module_version": "1.5.0",
      "_model_name": "ButtonStyleModel",
      "_view_count": null,
      "_view_module": "@jupyter-widgets/base",
      "_view_module_version": "1.2.0",
      "_view_name": "StyleView",
      "button_color": null,
      "font_weight": ""
     }
    },
    "b4780c86767e41e09a2d81e736d84425": {
     "model_module": "@jupyter-widgets/controls",
     "model_module_version": "1.5.0",
     "model_name": "DescriptionStyleModel",
     "state": {
      "_model_module": "@jupyter-widgets/controls",
      "_model_module_version": "1.5.0",
      "_model_name": "DescriptionStyleModel",
      "_view_count": null,
      "_view_module": "@jupyter-widgets/base",
      "_view_module_version": "1.2.0",
      "_view_name": "StyleView",
      "description_width": ""
     }
    },
    "d5cfcaeb8a594c76a7adbea2cde88e36": {
     "model_module": "@jupyter-widgets/base",
     "model_module_version": "1.2.0",
     "model_name": "LayoutModel",
     "state": {
      "_model_module": "@jupyter-widgets/base",
      "_model_module_version": "1.2.0",
      "_model_name": "LayoutModel",
      "_view_count": null,
      "_view_module": "@jupyter-widgets/base",
      "_view_module_version": "1.2.0",
      "_view_name": "LayoutView",
      "align_content": null,
      "align_items": null,
      "align_self": null,
      "border": null,
      "bottom": null,
      "display": null,
      "flex": null,
      "flex_flow": null,
      "grid_area": null,
      "grid_auto_columns": null,
      "grid_auto_flow": null,
      "grid_auto_rows": null,
      "grid_column": null,
      "grid_gap": null,
      "grid_row": null,
      "grid_template_areas": null,
      "grid_template_columns": null,
      "grid_template_rows": null,
      "height": null,
      "justify_content": null,
      "justify_items": null,
      "left": null,
      "margin": null,
      "max_height": null,
      "max_width": null,
      "min_height": null,
      "min_width": null,
      "object_fit": null,
      "object_position": null,
      "order": null,
      "overflow": null,
      "overflow_x": null,
      "overflow_y": null,
      "padding": null,
      "right": null,
      "top": null,
      "visibility": null,
      "width": null
     }
    },
    "e9fcf8a99292434ba29b8692477b729c": {
     "model_module": "nglview-js-widgets",
     "model_module_version": "3.0.1",
     "model_name": "NGLModel",
     "state": {
      "_camera_orientation": [
       18.37242743139126,
       0,
       0,
       0,
       0,
       18.37242743139126,
       0,
       0,
       0,
       0,
       18.37242743139126,
       0,
       -4.958499908447266,
       -3.506500005722046,
       -8.669000148773193,
       1
      ],
      "_camera_str": "orthographic",
      "_dom_classes": [],
      "_gui_theme": null,
      "_ibtn_fullscreen": "IPY_MODEL_0d89a25bfad649728b3138c894f22d66",
      "_igui": null,
      "_iplayer": "IPY_MODEL_1432ec696d8a4a3f81c03f84e2477830",
      "_model_module": "nglview-js-widgets",
      "_model_module_version": "3.0.1",
      "_model_name": "NGLModel",
      "_ngl_color_dict": {},
      "_ngl_coordinate_resource": {},
      "_ngl_full_stage_parameters": {
       "ambientColor": 14540253,
       "ambientIntensity": 0.2,
       "backgroundColor": "white",
       "cameraEyeSep": 0.3,
       "cameraFov": 40,
       "cameraType": "orthographic",
       "clipDist": 0,
       "clipFar": 100,
       "clipNear": 0,
       "fogFar": 100,
       "fogNear": 50,
       "hoverTimeout": 0,
       "impostor": true,
       "lightColor": 14540253,
       "lightIntensity": 1,
       "mousePreset": "default",
       "panSpeed": 1,
       "quality": "medium",
       "rotateSpeed": 2,
       "sampleLevel": 0,
       "tooltip": true,
       "workerDefault": true,
       "zoomSpeed": 1.2
      },
      "_ngl_msg_archive": [
       {
        "args": [
         {
          "binary": false,
          "data": "CRYST1    9.917    8.589   22.338  90.00  90.00  54.74 P 1\nMODEL     1\nATOM      1   Ta MOL     1       0.000   2.338  10.000  1.00  0.00          TA  \nATOM      2   Ta MOL     1       3.306   2.338  10.000  1.00  0.00          TA  \nATOM      3   Ta MOL     1       6.612   2.338  10.000  1.00  0.00          TA  \nATOM      4   Ta MOL     1       1.653   4.675  10.000  1.00  0.00          TA  \nATOM      5   Ta MOL     1       4.959   4.675  10.000  1.00  0.00          TA  \nATOM      6   Ta MOL     1       8.264   4.675  10.000  1.00  0.00          TA  \nATOM      7   Ta MOL     1       3.306   7.013  10.000  1.00  0.00          TA  \nATOM      8   Ta MOL     1       6.612   7.013  10.000  1.00  0.00          TA  \nATOM      9   Ta MOL     1       9.917   7.013  10.000  1.00  0.00          TA  \nATOM     10   Ta MOL     1       0.000   0.000  12.338  1.00  0.00          TA  \nATOM     11   Ta MOL     1       3.306   0.000  12.338  1.00  0.00          TA  \nATOM     12   Ta MOL     1       6.612   0.000  12.338  1.00  0.00          TA  \nATOM     13   Ta MOL     1       1.653   2.338  12.338  1.00  0.00          TA  \nATOM     14   Ta MOL     1       4.959   2.338  12.338  1.00  0.00          TA  \nATOM     15   Ta MOL     1       8.264   2.338  12.338  1.00  0.00          TA  \nATOM     16   Ta MOL     1       3.306   4.675  12.338  1.00  0.00          TA  \nATOM     17   Ta MOL     1       6.612   4.675  12.338  1.00  0.00          TA  \nATOM     18   Ta MOL     1       9.917   4.675  12.338  1.00  0.00          TA  \nATOM     19    H MOL     1       5.000   4.000   5.000  1.00  0.00           H  \nENDMDL\n",
          "type": "blob"
         }
        ],
        "kwargs": {
         "defaultRepresentation": false,
         "ext": "pdb"
        },
        "methodName": "loadFile",
        "reconstruc_color_scheme": false,
        "target": "Stage",
        "type": "call_method"
       },
       {
        "args": [
         "500px",
         "500px"
        ],
        "kwargs": {},
        "methodName": "setSize",
        "reconstruc_color_scheme": false,
        "target": "Widget",
        "type": "call_method"
       },
       {
        "args": [
         "unitcell"
        ],
        "component_index": 0,
        "kwargs": {
         "sele": "all"
        },
        "methodName": "addRepresentation",
        "reconstruc_color_scheme": false,
        "target": "compList",
        "type": "call_method"
       },
       {
        "args": [
         "spacefill"
        ],
        "component_index": 0,
        "kwargs": {
         "sele": "all"
        },
        "methodName": "addRepresentation",
        "reconstruc_color_scheme": false,
        "target": "compList",
        "type": "call_method"
       },
       {
        "args": [],
        "kwargs": {
         "cameraType": "orthographic"
        },
        "methodName": "setParameters",
        "reconstruc_color_scheme": false,
        "target": "Stage",
        "type": "call_method"
       },
       {
        "args": [
         {
          "clipDist": 0
         }
        ],
        "kwargs": {},
        "methodName": "setParameters",
        "reconstruc_color_scheme": false,
        "target": "Widget",
        "type": "call_method"
       },
       {
        "args": [
         "spacefill",
         0
        ],
        "kwargs": {
         "colorScale": "rainbow",
         "colorScheme": "element",
         "radiusScale": 0.5,
         "radiusType": "covalent"
        },
        "methodName": "updateRepresentationsByName",
        "reconstruc_color_scheme": false,
        "target": "Widget",
        "type": "call_method"
       },
       {
        "args": [
         "spacefill",
         0
        ],
        "kwargs": {
         "colorScale": "rainbow",
         "colorScheme": "element",
         "radiusScale": 0.5,
         "radiusType": "covalent"
        },
        "methodName": "updateRepresentationsByName",
        "reconstruc_color_scheme": false,
        "target": "Widget",
        "type": "call_method"
       },
       {
        "args": [
         "spacefill",
         0
        ],
        "kwargs": {
         "colorScale": "rainbow",
         "colorScheme": "element",
         "radiusScale": 0.49999999999999994,
         "radiusType": "covalent"
        },
        "methodName": "updateRepresentationsByName",
        "reconstruc_color_scheme": false,
        "target": "Widget",
        "type": "call_method"
       },
       {
        "args": [
         "spacefill",
         0
        ],
        "kwargs": {
         "colorScale": "rainbow",
         "colorScheme": "element",
         "radiusScale": 0.49999999999999994,
         "radiusType": "covalent"
        },
        "methodName": "updateRepresentationsByName",
        "reconstruc_color_scheme": false,
        "target": "Widget",
        "type": "call_method"
       }
      ],
      "_ngl_original_stage_parameters": {
       "ambientColor": 14540253,
       "ambientIntensity": 0.2,
       "backgroundColor": "white",
       "cameraEyeSep": 0.3,
       "cameraFov": 40,
       "cameraType": "perspective",
       "clipDist": 10,
       "clipFar": 100,
       "clipNear": 0,
       "fogFar": 100,
       "fogNear": 50,
       "hoverTimeout": 0,
       "impostor": true,
       "lightColor": 14540253,
       "lightIntensity": 1,
       "mousePreset": "default",
       "panSpeed": 1,
       "quality": "medium",
       "rotateSpeed": 2,
       "sampleLevel": 0,
       "tooltip": true,
       "workerDefault": true,
       "zoomSpeed": 1.2
      },
      "_ngl_repr_dict": {
       "0": {
        "0": {
         "params": {
          "clipCenter": {
           "x": 0,
           "y": 0,
           "z": 0
          },
          "clipNear": 0,
          "clipRadius": 0,
          "colorMode": "hcl",
          "colorReverse": false,
          "colorScale": "",
          "colorScheme": "element",
          "colorValue": "orange",
          "defaultAssembly": "",
          "depthWrite": true,
          "diffuse": 16777215,
          "diffuseInterior": false,
          "disableImpostor": false,
          "disablePicking": false,
          "flatShaded": false,
          "interiorColor": 2236962,
          "interiorDarkening": 0,
          "lazy": false,
          "matrix": {
           "elements": [
            1,
            0,
            0,
            0,
            0,
            1,
            0,
            0,
            0,
            0,
            1,
            0,
            0,
            0,
            0,
            1
           ]
          },
          "metalness": 0,
          "opacity": 1,
          "quality": "medium",
          "radialSegments": 10,
          "radiusData": {},
          "radiusScale": 1,
          "radiusSize": 0.057907290683115197,
          "radiusType": "vdw",
          "roughness": 0.4,
          "sele": "all",
          "side": "double",
          "sphereDetail": 1,
          "useInteriorColor": true,
          "visible": true,
          "wireframe": false
         },
         "type": "unitcell"
        },
        "1": {
         "params": {
          "clipCenter": {
           "x": 0,
           "y": 0,
           "z": 0
          },
          "clipNear": 0,
          "clipRadius": 0,
          "colorMode": "hcl",
          "colorReverse": false,
          "colorScale": "",
          "colorScheme": "element",
          "colorValue": "orange",
          "defaultAssembly": "",
          "depthWrite": true,
          "diffuse": 16777215,
          "diffuseInterior": false,
          "disableImpostor": false,
          "disablePicking": false,
          "flatShaded": false,
          "interiorColor": 2236962,
          "interiorDarkening": 0,
          "lazy": false,
          "matrix": {
           "elements": [
            1,
            0,
            0,
            0,
            0,
            1,
            0,
            0,
            0,
            0,
            1,
            0,
            0,
            0,
            0,
            1
           ]
          },
          "metalness": 0,
          "opacity": 1,
          "quality": "medium",
          "radialSegments": 10,
          "radiusData": {},
          "radiusScale": 1,
          "radiusSize": 0.057907290683115197,
          "radiusType": "vdw",
          "roughness": 0.4,
          "sele": "all",
          "side": "double",
          "sphereDetail": 1,
          "useInteriorColor": true,
          "visible": true,
          "wireframe": false
         },
         "type": "unitcell"
        },
        "2": {
         "params": {
          "assembly": "default",
          "clipCenter": {
           "x": 0,
           "y": 0,
           "z": 0
          },
          "clipNear": 0,
          "clipRadius": 0,
          "colorMode": "hcl",
          "colorReverse": false,
          "colorScale": "rainbow",
          "colorScheme": "element",
          "colorValue": 9474192,
          "defaultAssembly": "",
          "depthWrite": true,
          "diffuse": 16777215,
          "diffuseInterior": false,
          "disableImpostor": false,
          "disablePicking": false,
          "flatShaded": false,
          "interiorColor": 2236962,
          "interiorDarkening": 0,
          "lazy": false,
          "matrix": {
           "elements": [
            1,
            0,
            0,
            0,
            0,
            1,
            0,
            0,
            0,
            0,
            1,
            0,
            0,
            0,
            0,
            1
           ]
          },
          "metalness": 0,
          "opacity": 1,
          "quality": "medium",
          "radiusData": {},
          "radiusScale": 0.5,
          "radiusSize": 1,
          "radiusType": "covalent",
          "roughness": 0.4,
          "sele": "all",
          "side": "double",
          "sphereDetail": 1,
          "useInteriorColor": true,
          "visible": true,
          "wireframe": false
         },
         "type": "spacefill"
        },
        "3": {
         "params": {
          "assembly": "default",
          "clipCenter": {
           "x": 0,
           "y": 0,
           "z": 0
          },
          "clipNear": 0,
          "clipRadius": 0,
          "colorMode": "hcl",
          "colorReverse": false,
          "colorScale": "rainbow",
          "colorScheme": "element",
          "colorValue": 9474192,
          "defaultAssembly": "",
          "depthWrite": true,
          "diffuse": 16777215,
          "diffuseInterior": false,
          "disableImpostor": false,
          "disablePicking": false,
          "flatShaded": false,
          "interiorColor": 2236962,
          "interiorDarkening": 0,
          "lazy": false,
          "matrix": {
           "elements": [
            1,
            0,
            0,
            0,
            0,
            1,
            0,
            0,
            0,
            0,
            1,
            0,
            0,
            0,
            0,
            1
           ]
          },
          "metalness": 0,
          "opacity": 1,
          "quality": "medium",
          "radiusData": {},
          "radiusScale": 0.5,
          "radiusSize": 1,
          "radiusType": "covalent",
          "roughness": 0.4,
          "sele": "all",
          "side": "double",
          "sphereDetail": 1,
          "useInteriorColor": true,
          "visible": true,
          "wireframe": false
         },
         "type": "spacefill"
        }
       },
       "1": {}
      },
      "_ngl_serialize": false,
      "_ngl_version": "2.0.0-dev.36",
      "_ngl_view_id": [
       "03E30007-514A-442B-A396-457D25F2533F"
      ],
      "_player_dict": {},
      "_scene_position": {},
      "_scene_rotation": {},
      "_synced_model_ids": [],
      "_synced_repr_model_ids": [],
      "_view_count": null,
      "_view_height": "",
      "_view_module": "nglview-js-widgets",
      "_view_module_version": "3.0.1",
      "_view_name": "NGLView",
      "_view_width": "",
      "background": "white",
      "frame": 0,
      "gui_style": null,
      "layout": "IPY_MODEL_d5cfcaeb8a594c76a7adbea2cde88e36",
      "max_frame": 0,
      "n_components": 2,
      "picked": {}
     }
    },
    "ef7c65351c124fce9030728cdb3edc6b": {
     "model_module": "@jupyter-widgets/controls",
     "model_module_version": "1.5.0",
     "model_name": "SliderStyleModel",
     "state": {
      "_model_module": "@jupyter-widgets/controls",
      "_model_module_version": "1.5.0",
      "_model_name": "SliderStyleModel",
      "_view_count": null,
      "_view_module": "@jupyter-widgets/base",
      "_view_module_version": "1.2.0",
      "_view_name": "StyleView",
      "description_width": "",
      "handle_color": null
     }
    },
    "f36bf82accad484e8ea5488e6503ea84": {
     "model_module": "@jupyter-widgets/controls",
     "model_module_version": "1.5.0",
     "model_name": "HBoxModel",
     "state": {
      "_dom_classes": [],
      "_model_module": "@jupyter-widgets/controls",
      "_model_module_version": "1.5.0",
      "_model_name": "HBoxModel",
      "_view_count": null,
      "_view_module": "@jupyter-widgets/controls",
      "_view_module_version": "1.5.0",
      "_view_name": "HBoxView",
      "box_style": "",
      "children": [
       "IPY_MODEL_e9fcf8a99292434ba29b8692477b729c",
       "IPY_MODEL_3b6d6d84fb8b412f90816f3fd1152c55"
      ],
      "layout": "IPY_MODEL_48de5195ce1b40f49add8f19802c50e5"
     }
    }
   }
  }
 },
 "nbformat": 4,
 "nbformat_minor": 4
}
