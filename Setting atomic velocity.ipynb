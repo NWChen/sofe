{
 "cells": [
  {
   "cell_type": "markdown",
   "metadata": {
    "id": "A7-BDtLYcdUz"
   },
   "source": [
    "Set up QE"
   ]
  },
  {
   "cell_type": "code",
   "execution_count": 1,
   "metadata": {
    "colab": {
     "base_uri": "https://localhost:8080/"
    },
    "id": "7imWdEV1V-Fg",
    "outputId": "e80f5997-ea83-4daf-aac9-c63961cb0d5d",
    "tags": []
   },
   "outputs": [
    {
     "name": "stdout",
     "output_type": "stream",
     "text": [
      "env: ASE_ESPRESSO_COMMAND=/content/q-e/bin/pw.x -in PREFIX.pwi > PREFIX.pwo\n",
      "env: ESPRESSO_PSEUDO=/content/q-e/pseudo\n"
     ]
    }
   ],
   "source": [
    "# setup env vars\n",
    "%env ASE_ESPRESSO_COMMAND=/content/q-e/bin/pw.x -in PREFIX.pwi > PREFIX.pwo\n",
    "%env ESPRESSO_PSEUDO=/content/q-e/pseudo"
   ]
  },
  {
   "cell_type": "markdown",
   "metadata": {
    "id": "qVRbbGG-Fakl"
   },
   "source": [
    "## Calculations on a single-element (`Ta`) slab\n",
    "\n",
    "> To a first approximation, you can create a BCC slab thick and wide enough so that it has enough \"bulk\" like material below the surface, enough sites to have a decent representation of the disordered alloy, and wide enough surface area so the deuterium atoms don't interact with their periodic image, but thin enough to limit the calculation to as few atoms as possible. You would want to use the relevant surface plane which most likely is (110) as in other BCC metals. "
   ]
  },
  {
   "cell_type": "code",
   "execution_count": 34,
   "metadata": {
    "tags": []
   },
   "outputs": [
    {
     "name": "stdout",
     "output_type": "stream",
     "text": [
      "/usr/local/google/home/nqc/git/md\n"
     ]
    }
   ],
   "source": [
    "!pwd"
   ]
  },
  {
   "cell_type": "markdown",
   "metadata": {
    "id": "YDWx4u6xKRaG"
   },
   "source": [
    "### Calculations on optimized slab\n",
    "Extract the relaxed slab from our `pwscf` calculation and fix its position. Then insert a deuterium atom and run MD using QE."
   ]
  },
  {
   "cell_type": "code",
   "execution_count": 3,
   "metadata": {
    "tags": []
   },
   "outputs": [
    {
     "name": "stdout",
     "output_type": "stream",
     "text": [
      "\u001b[33m(Deprecated) Installing extensions with the jupyter labextension install command is now deprecated and will be removed in a future major version of JupyterLab.\n",
      "\n",
      "Users should manage prebuilt extensions with package managers like pip and conda, and extension authors are encouraged to distribute their extensions as prebuilt packages \u001b[0m\n",
      "Building jupyterlab assets (production, minimized)\n"
     ]
    }
   ],
   "source": [
    "!jupyter labextension install @jupyter-widgets/jupyterlab-manager"
   ]
  },
  {
   "cell_type": "code",
   "execution_count": 1,
   "metadata": {
    "colab": {
     "base_uri": "https://localhost:8080/",
     "height": 517,
     "referenced_widgets": [
      "f36bf82accad484e8ea5488e6503ea84",
      "e9fcf8a99292434ba29b8692477b729c",
      "3b6d6d84fb8b412f90816f3fd1152c55",
      "48de5195ce1b40f49add8f19802c50e5",
      "aa9b65d1ebec41e1b6a84cc9961237d7",
      "49fc1e70fa7f4a50937d79e82fe8b920",
      "1eca1a150ee749299d640b0fe8541db7",
      "72f3b63c8e604a7587d77ad83ace0a38",
      "82c4763833834cea9edfefecbc3ca97d",
      "46a5e9c0aa0c4d6c8869ea82705c04cc",
      "b04b5ba73a14498fa1679667f4a8dc8b",
      "4ed52fcf347745e99937cb6364784c0d",
      "660c0b97d1ec4b79be8edadcfd0310a3",
      "ad55686f0ac84a4990d296920fa3182b",
      "d5cfcaeb8a594c76a7adbea2cde88e36",
      "0d89a25bfad649728b3138c894f22d66",
      "1432ec696d8a4a3f81c03f84e2477830",
      "9a4dbfd1c6df46a787bc03c948be45f9",
      "b4780c86767e41e09a2d81e736d84425",
      "31d0f977a9184e5795285f6336c22ce4",
      "ef7c65351c124fce9030728cdb3edc6b",
      "3d2d49de500a4ec2a33668c990bec777",
      "1068425ba9e7426fb10ceb70addb61f8",
      "8a64a78eac254a8590b62615b5753645",
      "b3f2023e77024e1393233b3c8705e1df",
      "08305f2744c34fb7b6eee4596907c463"
     ]
    },
    "id": "VR-yUH1p_dPz",
    "outputId": "c79dfddc-6c62-4e7e-da3d-969d9fbb2e57",
    "tags": []
   },
   "outputs": [
    {
     "data": {
      "application/vnd.jupyter.widget-view+json": {
       "model_id": "ab6ff48b49844bc69b3cc6cb0a7a83c4",
       "version_major": 2,
       "version_minor": 0
      },
      "text/plain": []
     },
     "metadata": {},
     "output_type": "display_data"
    },
    {
     "name": "stdout",
     "output_type": "stream",
     "text": [
      "[[ 0.          0.         10.        ]\n",
      " [ 3.30579968  0.         10.        ]\n",
      " [ 6.61160035  0.         10.        ]\n",
      " [ 1.65290033  2.337554   10.        ]\n",
      " [ 4.95870001  2.337554   10.        ]\n",
      " [ 8.26449969  2.337554   10.        ]\n",
      " [ 3.30579968  4.675107   10.        ]\n",
      " [ 6.61160035  4.675107   10.        ]\n",
      " [ 9.91740002  4.675107   10.        ]\n",
      " [ 5.          4.         15.        ]]\n"
     ]
    },
    {
     "data": {
      "text/plain": [
       "<Axes: >"
      ]
     },
     "execution_count": 1,
     "metadata": {},
     "output_type": "execute_result"
    },
    {
     "data": {
      "image/png": "[encoded data removed]",
      "text/plain": [
       "<Figure size 640x480 with 1 Axes>"
      ]
     },
     "metadata": {},
     "output_type": "display_data"
    }
   ],
   "source": [
    "from ase import Atom, Atoms\n",
    "from ase.constraints import FixAtoms\n",
    "from ase.io.espresso import read_espresso_out, write_espresso_in\n",
    "from ase.visualize import view\n",
    "from ase.visualize.plot import plot_atoms\n",
    "import matplotlib.pyplot as plt\n",
    "import nglview\n",
    "\n",
    "with open('Ta_3x3x1.out', 'r') as f:\n",
    "  generator = read_espresso_out(f, index=slice(None))\n",
    "  atoms = next(generator)\n",
    "\n",
    "# Center slab in vacuum so there's space for a gas to interact\n",
    "atoms.center(vacuum=10.0, axis=2)\n",
    "mask = [atom for atom in atoms] #[atom.z < 3 for atom in atoms]\n",
    "fixatoms = FixAtoms(mask=mask)\n",
    "atoms.set_constraint(fixatoms)\n",
    "atoms.set_pbc((True, True, False))\n",
    "\n",
    "# Add unconstrained 2H\n",
    "DEUTERIUM_MASS_AMU = 2.014\n",
    "deuterium = Atom('H', mass=DEUTERIUM_MASS_AMU, position=(5., 4., 15.)) # 5 angstroms above the slab surface\n",
    "atoms.append(deuterium)\n",
    "\n",
    "# Visualize\n",
    "#view(atoms, viewer='x3d')\n",
    "print(atoms.positions)\n",
    "\n",
    "fig, ax = plt.subplots()\n",
    "plot_atoms(atoms, ax, radii=0.5, rotation=('90x,0y,180z'))"
   ]
  },
  {
   "cell_type": "code",
   "execution_count": 2,
   "metadata": {},
   "outputs": [
    {
     "data": {
      "text/plain": [
       "20670.552730580017"
      ]
     },
     "execution_count": 2,
     "metadata": {},
     "output_type": "execute_result"
    }
   ],
   "source": [
    "from ase.units import Rydberg\n",
    "\n",
    "# 1 picosecond = n Rydberg a.u.\n",
    "ps_to_au = 1e-12 / (4.8378 * 1e-17)\n",
    "ps_to_au"
   ]
  },
  {
   "cell_type": "code",
   "execution_count": 3,
   "metadata": {
    "tags": []
   },
   "outputs": [],
   "source": [
    "import math\n",
    "\n",
    "def velocity(atomic_mass, energy):\n",
    "  \"\"\"\n",
    "  Computes the velocity of an atom in Hartree atomic units, given the atomic mass in atomic units and the energy in electronvolts.\n",
    "\n",
    "  Args:\n",
    "    atomic_mass: The atomic mass of the atom in atomic units.\n",
    "    energy: The energy of the atom in electronvolts.\n",
    "\n",
    "  Returns:\n",
    "    The velocity of the atom in Hartree atomic units.\n",
    "  \"\"\"\n",
    "\n",
    "  # Convert the atomic mass to kilograms.\n",
    "  atomic_mass_kg = atomic_mass * 1.660539040e-27\n",
    "\n",
    "  # Convert the energy to joules.\n",
    "  energy_joules = energy * 1.60217662e-19\n",
    "\n",
    "  # Calculate the velocity.\n",
    "  velocity_ms = math.sqrt((2 * energy_joules) / atomic_mass_kg)\n",
    "\n",
    "  # Convert the velocity to Hartree atomic units.\n",
    "  velocity_ha = velocity_ms / 2.187691e6\n",
    "\n",
    "  return velocity_ha\n",
    "\n",
    "H_ATOMIC_MASS = 1.00784\n",
    "assert math.isclose(velocity(H_ATOMIC_MASS, 40), 0.0400031, abs_tol=1e-6)"
   ]
  },
  {
   "cell_type": "markdown",
   "metadata": {},
   "source": [
    "# Set atomic velocity"
   ]
  },
  {
   "cell_type": "code",
   "execution_count": 9,
   "metadata": {
    "tags": []
   },
   "outputs": [
    {
     "name": "stdout",
     "output_type": "stream",
     "text": [
      "env: INPUT_FILENAME=Ta_3x3x1_MD_velocity_gt0_initialT_300.in\n",
      "env: OUTPUT_FILENAME=Ta_3x3x1_MD_velocity_gt0_initialT_300.out\n"
     ]
    }
   ],
   "source": [
    "import os\n",
    "%env INPUT_FILENAME=Ta_3x3x1_MD_velocity_gt0_initialT_300.in\n",
    "%env OUTPUT_FILENAME=Ta_3x3x1_MD_velocity_gt0_initialT_300.out"
   ]
  },
  {
   "cell_type": "code",
   "execution_count": 11,
   "metadata": {
    "id": "0jI2TBE5gaRQ",
    "tags": []
   },
   "outputs": [
    {
     "name": "stdout",
     "output_type": "stream",
     "text": [
      "Note: The following floating-point exceptions are signalling: IEEE_INVALID_FLAG\n"
     ]
    }
   ],
   "source": [
    "INPUT_FILENAME = os.environ['INPUT_FILENAME']\n",
    "\n",
    "atomic_velocities_str = \"\"\"ATOMIC_VELOCITIES\n",
    "Ta 0.0 0.0 0.0\n",
    "Ta 0.0 0.0 0.0\n",
    "Ta 0.0 0.0 0.0\n",
    "Ta 0.0 0.0 0.0\n",
    "Ta 0.0 0.0 0.0\n",
    "Ta 0.0 0.0 0.0\n",
    "Ta 0.0 0.0 0.0\n",
    "Ta 0.0 0.0 0.0\n",
    "Ta 0.0 0.0 0.0\n",
    "H 0.0 0.0 {:.5f}\n",
    "\"\"\".format(-velocity(H_ATOMIC_MASS, 30)) # eV\n",
    "\n",
    "pseudopotentials = {\n",
    "    'Ta': 'ta_pbe_v1.uspp.F.UPF',\n",
    "    'H': 'h_pbe_v1.4.uspp.F.UPF'\n",
    "}\n",
    "input_data = {\n",
    "    'control': {\n",
    "        'calculation': 'md',\n",
    "        'dt': 100, #1 * round(ps_to_au),\n",
    "        'nstep': 3,\n",
    "        'pseudo_dir': 'q-e/pseudo/',\n",
    "        'outdir': 'outdir',\n",
    "        'etot_conv_thr': 1e-5,\n",
    "        'forc_conv_thr': 1e-4\n",
    "    },\n",
    "    'electrons': {\n",
    "        #'conv_thr': 1e-5 #1e-6 # 1e-8\n",
    "    },\n",
    "    'ions': {\n",
    "        'ion_velocities': 'from_input',\n",
    "        'ion_temperature': 'initial',\n",
    "        'tempw': 300 # 0?\n",
    "    },\n",
    "    'system': {\n",
    "        'ecutwfc': 30,\n",
    "        'occupations': 'smearing', # Need smearing params to avoid `Error in routine electrons (1): charge is wrong: smearing is needed`\n",
    "        'smearing': 'gaussian',\n",
    "        'degauss': 0.01\n",
    "    }\n",
    "}\n",
    "\n",
    "k = 1\n",
    "tstress, tprnfor = False, False # True, True\n",
    "with open(INPUT_FILENAME, 'w') as f:\n",
    "  write_espresso_in(f, atoms, input_data=input_data, pseudopotentials=pseudopotentials, tstress=tstress, tprnfor=tprnfor, kpts=(k, k, k))\n",
    "  f.write(atomic_velocities_str)\n",
    "\n",
    "!mpirun -np 12 q-e/bin/pw.x -inp $INPUT_FILENAME > $OUTPUT_FILENAME"
   ]
  },
  {
   "cell_type": "markdown",
   "metadata": {
    "id": "E3MtNZamyu5F"
   },
   "source": [
    "Inside an image, PW and k-point parallelization can be performed: for instance,\n",
    "\n",
    "   `mpirun -np 64 ph.x -ni 8 -nk 2 ...`\n",
    "will run 8 images on 8 processors each, subdivided into 2 pools of 4 processors for k-point parallelization. In order to run the ph.x code with these flags the pw.x run has to be run with:\n",
    "   `mpirun -np 8 pw.x -nk 2 ...`\n",
    "without any `-nimage` flag. "
   ]
  },
  {
   "cell_type": "markdown",
   "metadata": {},
   "source": [
    "## Visualizing `nstep=5` trajectory"
   ]
  },
  {
   "cell_type": "code",
   "execution_count": 47,
   "metadata": {
    "tags": []
   },
   "outputs": [
    {
     "ename": "StopIteration",
     "evalue": "",
     "output_type": "error",
     "traceback": [
      "\u001b[0;31m---------------------------------------------------------------------------\u001b[0m",
      "\u001b[0;31mStopIteration\u001b[0m                             Traceback (most recent call last)",
      "Cell \u001b[0;32mIn[47], line 8\u001b[0m\n\u001b[1;32m      6\u001b[0m \u001b[38;5;28;01mwith\u001b[39;00m \u001b[38;5;28mopen\u001b[39m(os\u001b[38;5;241m.\u001b[39menviron[\u001b[38;5;124m'\u001b[39m\u001b[38;5;124mOUTPUT_FILENAME\u001b[39m\u001b[38;5;124m'\u001b[39m], \u001b[38;5;124m'\u001b[39m\u001b[38;5;124mr\u001b[39m\u001b[38;5;124m'\u001b[39m) \u001b[38;5;28;01mas\u001b[39;00m f:\n\u001b[1;32m      7\u001b[0m     generator \u001b[38;5;241m=\u001b[39m read_espresso_out(f, index\u001b[38;5;241m=\u001b[39m\u001b[38;5;28mslice\u001b[39m(\u001b[38;5;28;01mNone\u001b[39;00m))\n\u001b[0;32m----> 8\u001b[0m     atoms \u001b[38;5;241m=\u001b[39m \u001b[38;5;28;43mnext\u001b[39;49m\u001b[43m(\u001b[49m\u001b[43mgenerator\u001b[49m\u001b[43m)\u001b[49m\n\u001b[1;32m     10\u001b[0m fig, ax \u001b[38;5;241m=\u001b[39m plt\u001b[38;5;241m.\u001b[39msubplots()\n\u001b[1;32m     11\u001b[0m plot_atoms(atoms, ax, radii\u001b[38;5;241m=\u001b[39m\u001b[38;5;241m0.5\u001b[39m, rotation\u001b[38;5;241m=\u001b[39m(\u001b[38;5;124m'\u001b[39m\u001b[38;5;124m90x,0y,180z\u001b[39m\u001b[38;5;124m'\u001b[39m))\n",
      "\u001b[0;31mStopIteration\u001b[0m: "
     ]
    }
   ],
   "source": [
    "from ase.io.espresso import read_espresso_out\n",
    "from ase.visualize import view\n",
    "import matplotlib.pyplot as plt\n",
    "import nglview\n",
    "\n",
    "with open(os.environ['OUTPUT_FILENAME'], 'r') as f:\n",
    "    generator = read_espresso_out(f, index=slice(None))\n",
    "    atoms = next(generator)\n",
    "\n",
    "fig, ax = plt.subplots()\n",
    "plot_atoms(atoms, ax, radii=0.5, rotation=('90x,0y,180z'))"
   ]
  },
  {
   "cell_type": "markdown",
   "metadata": {
    "tags": []
   },
   "source": [
    "view(next(generator))"
   ]
  }
 ],
 "metadata": {
  "colab": {
   "provenance": []
  },
  "gpuClass": "standard",
  "kernelspec": {
   "display_name": "Python 3 (ipykernel)",
   "language": "python",
   "name": "python3"
  },
  "language_info": {
   "codemirror_mode": {
    "name": "ipython",
    "version": 3
   },
   "file_extension": ".py",
   "mimetype": "text/x-python",
   "name": "python",
   "nbconvert_exporter": "python",
   "pygments_lexer": "ipython3",
   "version": "3.10.9"
  },
  "widgets": {
   "application/vnd.jupyter.widget-state+json": {
    "08305f2744c34fb7b6eee4596907c463": {
     "model_module": "@jupyter-widgets/base",
     "model_module_version": "1.2.0",
     "model_name": "LayoutModel",
     "state": {
      "_model_module": "@jupyter-widgets/base",
      "_model_module_version": "1.2.0",
      "_model_name": "LayoutModel",
      "_view_count": null,
      "_view_module": "@jupyter-widgets/base",
      "_view_module_version": "1.2.0",
      "_view_name": "LayoutView",
      "align_content": null,
      "align_items": null,
      "align_self": null,
      "border": null,
      "bottom": null,
      "display": null,
      "flex": null,
      "flex_flow": null,
      "grid_area": null,
      "grid_auto_columns": null,
      "grid_auto_flow": null,
      "grid_auto_rows": null,
      "grid_column": null,
      "grid_gap": null,
      "grid_row": null,
      "grid_template_areas": null,
      "grid_template_columns": null,
      "grid_template_rows": null,
      "height": null,
      "justify_content": null,
      "justify_items": null,
      "left": null,
      "margin": null,
      "max_height": null,
      "max_width": null,
      "min_height": null,
      "min_width": null,
      "object_fit": null,
      "object_position": null,
      "order": null,
      "overflow": null,
      "overflow_x": null,
      "overflow_y": null,
      "padding": null,
      "right": null,
      "top": null,
      "visibility": null,
      "width": null
     }
    },
    "0d89a25bfad649728b3138c894f22d66": {
     "model_module": "@jupyter-widgets/controls",
     "model_module_version": "1.5.0",
     "model_name": "ButtonModel",
     "state": {
      "_dom_classes": [],
      "_model_module": "@jupyter-widgets/controls",
      "_model_module_version": "1.5.0",
      "_model_name": "ButtonModel",
      "_view_count": null,
      "_view_module": "@jupyter-widgets/controls",
      "_view_module_version": "1.5.0",
      "_view_name": "ButtonView",
      "button_style": "",
      "description": "",
      "disabled": false,
      "icon": "compress",
      "layout": "IPY_MODEL_8a64a78eac254a8590b62615b5753645",
      "style": "IPY_MODEL_b3f2023e77024e1393233b3c8705e1df",
      "tooltip": ""
     }
    },
    "1068425ba9e7426fb10ceb70addb61f8": {
     "model_module": "@jupyter-widgets/controls",
     "model_module_version": "1.5.0",
     "model_name": "IntSliderModel",
     "state": {
      "_dom_classes": [],
      "_model_module": "@jupyter-widgets/controls",
      "_model_module_version": "1.5.0",
      "_model_name": "IntSliderModel",
      "_view_count": null,
      "_view_module": "@jupyter-widgets/controls",
      "_view_module_version": "1.5.0",
      "_view_name": "IntSliderView",
      "continuous_update": true,
      "description": "",
      "description_tooltip": null,
      "disabled": false,
      "layout": "IPY_MODEL_31d0f977a9184e5795285f6336c22ce4",
      "max": 0,
      "min": 0,
      "orientation": "horizontal",
      "readout": true,
      "readout_format": "d",
      "step": 1,
      "style": "IPY_MODEL_ef7c65351c124fce9030728cdb3edc6b",
      "value": 0
     }
    },
    "1432ec696d8a4a3f81c03f84e2477830": {
     "model_module": "@jupyter-widgets/controls",
     "model_module_version": "1.5.0",
     "model_name": "HBoxModel",
     "state": {
      "_dom_classes": [],
      "_model_module": "@jupyter-widgets/controls",
      "_model_module_version": "1.5.0",
      "_model_name": "HBoxModel",
      "_view_count": null,
      "_view_module": "@jupyter-widgets/controls",
      "_view_module_version": "1.5.0",
      "_view_name": "HBoxView",
      "box_style": "",
      "children": [
       "IPY_MODEL_3d2d49de500a4ec2a33668c990bec777",
       "IPY_MODEL_1068425ba9e7426fb10ceb70addb61f8"
      ],
      "layout": "IPY_MODEL_08305f2744c34fb7b6eee4596907c463"
     }
    },
    "1eca1a150ee749299d640b0fe8541db7": {
     "model_module": "@jupyter-widgets/controls",
     "model_module_version": "1.5.0",
     "model_name": "FloatSliderModel",
     "state": {
      "_dom_classes": [],
      "_model_module": "@jupyter-widgets/controls",
      "_model_module_version": "1.5.0",
      "_model_name": "FloatSliderModel",
      "_view_count": null,
      "_view_module": "@jupyter-widgets/controls",
      "_view_module_version": "1.5.0",
      "_view_name": "FloatSliderView",
      "continuous_update": true,
      "description": "Ball size",
      "description_tooltip": null,
      "disabled": false,
      "layout": "IPY_MODEL_660c0b97d1ec4b79be8edadcfd0310a3",
      "max": 1.5,
      "min": 0,
      "orientation": "horizontal",
      "readout": true,
      "readout_format": ".2f",
      "step": 0.01,
      "style": "IPY_MODEL_ad55686f0ac84a4990d296920fa3182b",
      "value": 0.49999999999999994
     }
    },
    "31d0f977a9184e5795285f6336c22ce4": {
     "model_module": "@jupyter-widgets/base",
     "model_module_version": "1.2.0",
     "model_name": "LayoutModel",
     "state": {
      "_model_module": "@jupyter-widgets/base",
      "_model_module_version": "1.2.0",
      "_model_name": "LayoutModel",
      "_view_count": null,
      "_view_module": "@jupyter-widgets/base",
      "_view_module_version": "1.2.0",
      "_view_name": "LayoutView",
      "align_content": null,
      "align_items": null,
      "align_self": null,
      "border": null,
      "bottom": null,
      "display": null,
      "flex": null,
      "flex_flow": null,
      "grid_area": null,
      "grid_auto_columns": null,
      "grid_auto_flow": null,
      "grid_auto_rows": null,
      "grid_column": null,
      "grid_gap": null,
      "grid_row": null,
      "grid_template_areas": null,
      "grid_template_columns": null,
      "grid_template_rows": null,
      "height": null,
      "justify_content": null,
      "justify_items": null,
      "left": null,
      "margin": null,
      "max_height": null,
      "max_width": null,
      "min_height": null,
      "min_width": null,
      "object_fit": null,
      "object_position": null,
      "order": null,
      "overflow": null,
      "overflow_x": null,
      "overflow_y": null,
      "padding": null,
      "right": null,
      "top": null,
      "visibility": null,
      "width": null
     }
    },
    "3b6d6d84fb8b412f90816f3fd1152c55": {
     "model_module": "@jupyter-widgets/controls",
     "model_module_version": "1.5.0",
     "model_name": "VBoxModel",
     "state": {
      "_dom_classes": [],
      "_model_module": "@jupyter-widgets/controls",
      "_model_module_version": "1.5.0",
      "_model_name": "VBoxModel",
      "_view_count": null,
      "_view_module": "@jupyter-widgets/controls",
      "_view_module_version": "1.5.0",
      "_view_name": "VBoxView",
      "box_style": "",
      "children": [
       "IPY_MODEL_aa9b65d1ebec41e1b6a84cc9961237d7",
       "IPY_MODEL_49fc1e70fa7f4a50937d79e82fe8b920",
       "IPY_MODEL_1eca1a150ee749299d640b0fe8541db7"
      ],
      "layout": "IPY_MODEL_72f3b63c8e604a7587d77ad83ace0a38"
     }
    },
    "3d2d49de500a4ec2a33668c990bec777": {
     "model_module": "@jupyter-widgets/controls",
     "model_module_version": "1.5.0",
     "model_name": "PlayModel",
     "state": {
      "_dom_classes": [],
      "_model_module": "@jupyter-widgets/controls",
      "_model_module_version": "1.5.0",
      "_model_name": "PlayModel",
      "_playing": false,
      "_repeat": false,
      "_view_count": null,
      "_view_module": "@jupyter-widgets/controls",
      "_view_module_version": "1.5.0",
      "_view_name": "PlayView",
      "description": "",
      "description_tooltip": null,
      "disabled": false,
      "interval": 100,
      "layout": "IPY_MODEL_9a4dbfd1c6df46a787bc03c948be45f9",
      "max": 0,
      "min": 0,
      "show_repeat": true,
      "step": 1,
      "style": "IPY_MODEL_b4780c86767e41e09a2d81e736d84425",
      "value": 0
     }
    },
    "46a5e9c0aa0c4d6c8869ea82705c04cc": {
     "model_module": "@jupyter-widgets/controls",
     "model_module_version": "1.5.0",
     "model_name": "DescriptionStyleModel",
     "state": {
      "_model_module": "@jupyter-widgets/controls",
      "_model_module_version": "1.5.0",
      "_model_name": "DescriptionStyleModel",
      "_view_count": null,
      "_view_module": "@jupyter-widgets/base",
      "_view_module_version": "1.2.0",
      "_view_name": "StyleView",
      "description_width": ""
     }
    },
    "48de5195ce1b40f49add8f19802c50e5": {
     "model_module": "@jupyter-widgets/base",
     "model_module_version": "1.2.0",
     "model_name": "LayoutModel",
     "state": {
      "_model_module": "@jupyter-widgets/base",
      "_model_module_version": "1.2.0",
      "_model_name": "LayoutModel",
      "_view_count": null,
      "_view_module": "@jupyter-widgets/base",
      "_view_module_version": "1.2.0",
      "_view_name": "LayoutView",
      "align_content": null,
      "align_items": null,
      "align_self": null,
      "border": null,
      "bottom": null,
      "display": null,
      "flex": null,
      "flex_flow": null,
      "grid_area": null,
      "grid_auto_columns": null,
      "grid_auto_flow": null,
      "grid_auto_rows": null,
      "grid_column": null,
      "grid_gap": null,
      "grid_row": null,
      "grid_template_areas": null,
      "grid_template_columns": null,
      "grid_template_rows": null,
      "height": null,
      "justify_content": null,
      "justify_items": null,
      "left": null,
      "margin": null,
      "max_height": null,
      "max_width": null,
      "min_height": null,
      "min_width": null,
      "object_fit": null,
      "object_position": null,
      "order": null,
      "overflow": null,
      "overflow_x": null,
      "overflow_y": null,
      "padding": null,
      "right": null,
      "top": null,
      "visibility": null,
      "width": null
     }
    },
    "49fc1e70fa7f4a50937d79e82fe8b920": {
     "model_module": "@jupyter-widgets/controls",
     "model_module_version": "1.5.0",
     "model_name": "DropdownModel",
     "state": {
      "_dom_classes": [],
      "_model_module": "@jupyter-widgets/controls",
      "_model_module_version": "1.5.0",
      "_model_name": "DropdownModel",
      "_options_labels": [
       " ",
       "picking",
       "random",
       "uniform",
       "atomindex",
       "residueindex",
       "chainindex",
       "modelindex",
       "sstruc",
       "element",
       "resname",
       "bfactor",
       "hydrophobicity",
       "value",
       "volume",
       "occupancy"
      ],
      "_view_count": null,
      "_view_module": "@jupyter-widgets/controls",
      "_view_module_version": "1.5.0",
      "_view_name": "DropdownView",
      "description": "Color scheme",
      "description_tooltip": null,
      "disabled": false,
      "index": 9,
      "layout": "IPY_MODEL_b04b5ba73a14498fa1679667f4a8dc8b",
      "style": "IPY_MODEL_4ed52fcf347745e99937cb6364784c0d"
     }
    },
    "4ed52fcf347745e99937cb6364784c0d": {
     "model_module": "@jupyter-widgets/controls",
     "model_module_version": "1.5.0",
     "model_name": "DescriptionStyleModel",
     "state": {
      "_model_module": "@jupyter-widgets/controls",
      "_model_module_version": "1.5.0",
      "_model_name": "DescriptionStyleModel",
      "_view_count": null,
      "_view_module": "@jupyter-widgets/base",
      "_view_module_version": "1.2.0",
      "_view_name": "StyleView",
      "description_width": ""
     }
    },
    "660c0b97d1ec4b79be8edadcfd0310a3": {
     "model_module": "@jupyter-widgets/base",
     "model_module_version": "1.2.0",
     "model_name": "LayoutModel",
     "state": {
      "_model_module": "@jupyter-widgets/base",
      "_model_module_version": "1.2.0",
      "_model_name": "LayoutModel",
      "_view_count": null,
      "_view_module": "@jupyter-widgets/base",
      "_view_module_version": "1.2.0",
      "_view_name": "LayoutView",
      "align_content": null,
      "align_items": null,
      "align_self": null,
      "border": null,
      "bottom": null,
      "display": null,
      "flex": null,
      "flex_flow": null,
      "grid_area": null,
      "grid_auto_columns": null,
      "grid_auto_flow": null,
      "grid_auto_rows": null,
      "grid_column": null,
      "grid_gap": null,
      "grid_row": null,
      "grid_template_areas": null,
      "grid_template_columns": null,
      "grid_template_rows": null,
      "height": null,
      "justify_content": null,
      "justify_items": null,
      "left": null,
      "margin": null,
      "max_height": null,
      "max_width": null,
      "min_height": null,
      "min_width": null,
      "object_fit": null,
      "object_position": null,
      "order": null,
      "overflow": null,
      "overflow_x": null,
      "overflow_y": null,
      "padding": null,
      "right": null,
      "top": null,
      "visibility": null,
      "width": null
     }
    },
    "72f3b63c8e604a7587d77ad83ace0a38": {
     "model_module": "@jupyter-widgets/base",
     "model_module_version": "1.2.0",
     "model_name": "LayoutModel",
     "state": {
      "_model_module": "@jupyter-widgets/base",
      "_model_module_version": "1.2.0",
      "_model_name": "LayoutModel",
      "_view_count": null,
      "_view_module": "@jupyter-widgets/base",
      "_view_module_version": "1.2.0",
      "_view_name": "LayoutView",
      "align_content": null,
      "align_items": null,
      "align_self": null,
      "border": null,
      "bottom": null,
      "display": null,
      "flex": null,
      "flex_flow": null,
      "grid_area": null,
      "grid_auto_columns": null,
      "grid_auto_flow": null,
      "grid_auto_rows": null,
      "grid_column": null,
      "grid_gap": null,
      "grid_row": null,
      "grid_template_areas": null,
      "grid_template_columns": null,
      "grid_template_rows": null,
      "height": null,
      "justify_content": null,
      "justify_items": null,
      "left": null,
      "margin": null,
      "max_height": null,
      "max_width": null,
      "min_height": null,
      "min_width": null,
      "object_fit": null,
      "object_position": null,
      "order": null,
      "overflow": null,
      "overflow_x": null,
      "overflow_y": null,
      "padding": null,
      "right": null,
      "top": null,
      "visibility": null,
      "width": null
     }
    },
    "82c4763833834cea9edfefecbc3ca97d": {
     "model_module": "@jupyter-widgets/base",
     "model_module_version": "1.2.0",
     "model_name": "LayoutModel",
     "state": {
      "_model_module": "@jupyter-widgets/base",
      "_model_module_version": "1.2.0",
      "_model_name": "LayoutModel",
      "_view_count": null,
      "_view_module": "@jupyter-widgets/base",
      "_view_module_version": "1.2.0",
      "_view_name": "LayoutView",
      "align_content": null,
      "align_items": null,
      "align_self": null,
      "border": null,
      "bottom": null,
      "display": null,
      "flex": null,
      "flex_flow": null,
      "grid_area": null,
      "grid_auto_columns": null,
      "grid_auto_flow": null,
      "grid_auto_rows": null,
      "grid_column": null,
      "grid_gap": null,
      "grid_row": null,
      "grid_template_areas": null,
      "grid_template_columns": null,
      "grid_template_rows": null,
      "height": null,
      "justify_content": null,
      "justify_items": null,
      "left": null,
      "margin": null,
      "max_height": null,
      "max_width": null,
      "min_height": null,
      "min_width": null,
      "object_fit": null,
      "object_position": null,
      "order": null,
      "overflow": null,
      "overflow_x": null,
      "overflow_y": null,
      "padding": null,
      "right": null,
      "top": null,
      "visibility": null,
      "width": null
     }
    },
    "8a64a78eac254a8590b62615b5753645": {
     "model_module": "@jupyter-widgets/base",
     "model_module_version": "1.2.0",
     "model_name": "LayoutModel",
     "state": {
      "_model_module": "@jupyter-widgets/base",
      "_model_module_version": "1.2.0",
      "_model_name": "LayoutModel",
      "_view_count": null,
      "_view_module": "@jupyter-widgets/base",
      "_view_module_version": "1.2.0",
      "_view_name": "LayoutView",
      "align_content": null,
      "align_items": null,
      "align_self": null,
      "border": null,
      "bottom": null,
      "display": null,
      "flex": null,
      "flex_flow": null,
      "grid_area": null,
      "grid_auto_columns": null,
      "grid_auto_flow": null,
      "grid_auto_rows": null,
      "grid_column": null,
      "grid_gap": null,
      "grid_row": null,
      "grid_template_areas": null,
      "grid_template_columns": null,
      "grid_template_rows": null,
      "height": null,
      "justify_content": null,
      "justify_items": null,
      "left": null,
      "margin": null,
      "max_height": null,
      "max_width": null,
      "min_height": null,
      "min_width": null,
      "object_fit": null,
      "object_position": null,
      "order": null,
      "overflow": null,
      "overflow_x": null,
      "overflow_y": null,
      "padding": null,
      "right": null,
      "top": null,
      "visibility": null,
      "width": "34px"
     }
    },
    "9a4dbfd1c6df46a787bc03c948be45f9": {
     "model_module": "@jupyter-widgets/base",
     "model_module_version": "1.2.0",
     "model_name": "LayoutModel",
     "state": {
      "_model_module": "@jupyter-widgets/base",
      "_model_module_version": "1.2.0",
      "_model_name": "LayoutModel",
      "_view_count": null,
      "_view_module": "@jupyter-widgets/base",
      "_view_module_version": "1.2.0",
      "_view_name": "LayoutView",
      "align_content": null,
      "align_items": null,
      "align_self": null,
      "border": null,
      "bottom": null,
      "display": null,
      "flex": null,
      "flex_flow": null,
      "grid_area": null,
      "grid_auto_columns": null,
      "grid_auto_flow": null,
      "grid_auto_rows": null,
      "grid_column": null,
      "grid_gap": null,
      "grid_row": null,
      "grid_template_areas": null,
      "grid_template_columns": null,
      "grid_template_rows": null,
      "height": null,
      "justify_content": null,
      "justify_items": null,
      "left": null,
      "margin": null,
      "max_height": null,
      "max_width": null,
      "min_height": null,
      "min_width": null,
      "object_fit": null,
      "object_position": null,
      "order": null,
      "overflow": null,
      "overflow_x": null,
      "overflow_y": null,
      "padding": null,
      "right": null,
      "top": null,
      "visibility": null,
      "width": null
     }
    },
    "aa9b65d1ebec41e1b6a84cc9961237d7": {
     "model_module": "@jupyter-widgets/controls",
     "model_module_version": "1.5.0",
     "model_name": "DropdownModel",
     "state": {
      "_dom_classes": [],
      "_model_module": "@jupyter-widgets/controls",
      "_model_module_version": "1.5.0",
      "_model_name": "DropdownModel",
      "_options_labels": [
       "All",
       "H",
       "Ta"
      ],
      "_view_count": null,
      "_view_module": "@jupyter-widgets/controls",
      "_view_module_version": "1.5.0",
      "_view_name": "DropdownView",
      "description": "Show",
      "description_tooltip": null,
      "disabled": false,
      "index": 0,
      "layout": "IPY_MODEL_82c4763833834cea9edfefecbc3ca97d",
      "style": "IPY_MODEL_46a5e9c0aa0c4d6c8869ea82705c04cc"
     }
    },
    "ad55686f0ac84a4990d296920fa3182b": {
     "model_module": "@jupyter-widgets/controls",
     "model_module_version": "1.5.0",
     "model_name": "SliderStyleModel",
     "state": {
      "_model_module": "@jupyter-widgets/controls",
      "_model_module_version": "1.5.0",
      "_model_name": "SliderStyleModel",
      "_view_count": null,
      "_view_module": "@jupyter-widgets/base",
      "_view_module_version": "1.2.0",
      "_view_name": "StyleView",
      "description_width": "",
      "handle_color": null
     }
    },
    "b04b5ba73a14498fa1679667f4a8dc8b": {
     "model_module": "@jupyter-widgets/base",
     "model_module_version": "1.2.0",
     "model_name": "LayoutModel",
     "state": {
      "_model_module": "@jupyter-widgets/base",
      "_model_module_version": "1.2.0",
      "_model_name": "LayoutModel",
      "_view_count": null,
      "_view_module": "@jupyter-widgets/base",
      "_view_module_version": "1.2.0",
      "_view_name": "LayoutView",
      "align_content": null,
      "align_items": null,
      "align_self": null,
      "border": null,
      "bottom": null,
      "display": null,
      "flex": null,
      "flex_flow": null,
      "grid_area": null,
      "grid_auto_columns": null,
      "grid_auto_flow": null,
      "grid_auto_rows": null,
      "grid_column": null,
      "grid_gap": null,
      "grid_row": null,
      "grid_template_areas": null,
      "grid_template_columns": null,
      "grid_template_rows": null,
      "height": null,
      "justify_content": null,
      "justify_items": null,
      "left": null,
      "margin": null,
      "max_height": null,
      "max_width": null,
      "min_height": null,
      "min_width": null,
      "object_fit": null,
      "object_position": null,
      "order": null,
      "overflow": null,
      "overflow_x": null,
      "overflow_y": null,
      "padding": null,
      "right": null,
      "top": null,
      "visibility": null,
      "width": null
     }
    },
    "b3f2023e77024e1393233b3c8705e1df": {
     "model_module": "@jupyter-widgets/controls",
     "model_module_version": "1.5.0",
     "model_name": "ButtonStyleModel",
     "state": {
      "_model_module": "@jupyter-widgets/controls",
      "_model_module_version": "1.5.0",
      "_model_name": "ButtonStyleModel",
      "_view_count": null,
      "_view_module": "@jupyter-widgets/base",
      "_view_module_version": "1.2.0",
      "_view_name": "StyleView",
      "button_color": null,
      "font_weight": ""
     }
    },
    "b4780c86767e41e09a2d81e736d84425": {
     "model_module": "@jupyter-widgets/controls",
     "model_module_version": "1.5.0",
     "model_name": "DescriptionStyleModel",
     "state": {
      "_model_module": "@jupyter-widgets/controls",
      "_model_module_version": "1.5.0",
      "_model_name": "DescriptionStyleModel",
      "_view_count": null,
      "_view_module": "@jupyter-widgets/base",
      "_view_module_version": "1.2.0",
      "_view_name": "StyleView",
      "description_width": ""
     }
    },
    "d5cfcaeb8a594c76a7adbea2cde88e36": {
     "model_module": "@jupyter-widgets/base",
     "model_module_version": "1.2.0",
     "model_name": "LayoutModel",
     "state": {
      "_model_module": "@jupyter-widgets/base",
      "_model_module_version": "1.2.0",
      "_model_name": "LayoutModel",
      "_view_count": null,
      "_view_module": "@jupyter-widgets/base",
      "_view_module_version": "1.2.0",
      "_view_name": "LayoutView",
      "align_content": null,
      "align_items": null,
      "align_self": null,
      "border": null,
      "bottom": null,
      "display": null,
      "flex": null,
      "flex_flow": null,
      "grid_area": null,
      "grid_auto_columns": null,
      "grid_auto_flow": null,
      "grid_auto_rows": null,
      "grid_column": null,
      "grid_gap": null,
      "grid_row": null,
      "grid_template_areas": null,
      "grid_template_columns": null,
      "grid_template_rows": null,
      "height": null,
      "justify_content": null,
      "justify_items": null,
      "left": null,
      "margin": null,
      "max_height": null,
      "max_width": null,
      "min_height": null,
      "min_width": null,
      "object_fit": null,
      "object_position": null,
      "order": null,
      "overflow": null,
      "overflow_x": null,
      "overflow_y": null,
      "padding": null,
      "right": null,
      "top": null,
      "visibility": null,
      "width": null
     }
    },
    "e9fcf8a99292434ba29b8692477b729c": {
     "model_module": "nglview-js-widgets",
     "model_module_version": "3.0.1",
     "model_name": "NGLModel",
     "state": {
      "_camera_orientation": [
       18.37242743139126,
       0,
       0,
       0,
       0,
       18.37242743139126,
       0,
       0,
       0,
       0,
       18.37242743139126,
       0,
       -4.958499908447266,
       -3.506500005722046,
       -8.669000148773193,
       1
      ],
      "_camera_str": "orthographic",
      "_dom_classes": [],
      "_gui_theme": null,
      "_ibtn_fullscreen": "IPY_MODEL_0d89a25bfad649728b3138c894f22d66",
      "_igui": null,
      "_iplayer": "IPY_MODEL_1432ec696d8a4a3f81c03f84e2477830",
      "_model_module": "nglview-js-widgets",
      "_model_module_version": "3.0.1",
      "_model_name": "NGLModel",
      "_ngl_color_dict": {},
      "_ngl_coordinate_resource": {},
      "_ngl_full_stage_parameters": {
       "ambientColor": 14540253,
       "ambientIntensity": 0.2,
       "backgroundColor": "white",
       "cameraEyeSep": 0.3,
       "cameraFov": 40,
       "cameraType": "orthographic",
       "clipDist": 0,
       "clipFar": 100,
       "clipNear": 0,
       "fogFar": 100,
       "fogNear": 50,
       "hoverTimeout": 0,
       "impostor": true,
       "lightColor": 14540253,
       "lightIntensity": 1,
       "mousePreset": "default",
       "panSpeed": 1,
       "quality": "medium",
       "rotateSpeed": 2,
       "sampleLevel": 0,
       "tooltip": true,
       "workerDefault": true,
       "zoomSpeed": 1.2
      },
      "_ngl_msg_archive": [
       {
        "args": [
         {
          "binary": false,
          "data": "CRYST1    9.917    8.589   22.338  90.00  90.00  54.74 P 1\nMODEL     1\nATOM      1   Ta MOL     1       0.000   2.338  10.000  1.00  0.00          TA  \nATOM      2   Ta MOL     1       3.306   2.338  10.000  1.00  0.00          TA  \nATOM      3   Ta MOL     1       6.612   2.338  10.000  1.00  0.00          TA  \nATOM      4   Ta MOL     1       1.653   4.675  10.000  1.00  0.00          TA  \nATOM      5   Ta MOL     1       4.959   4.675  10.000  1.00  0.00          TA  \nATOM      6   Ta MOL     1       8.264   4.675  10.000  1.00  0.00          TA  \nATOM      7   Ta MOL     1       3.306   7.013  10.000  1.00  0.00          TA  \nATOM      8   Ta MOL     1       6.612   7.013  10.000  1.00  0.00          TA  \nATOM      9   Ta MOL     1       9.917   7.013  10.000  1.00  0.00          TA  \nATOM     10   Ta MOL     1       0.000   0.000  12.338  1.00  0.00          TA  \nATOM     11   Ta MOL     1       3.306   0.000  12.338  1.00  0.00          TA  \nATOM     12   Ta MOL     1       6.612   0.000  12.338  1.00  0.00          TA  \nATOM     13   Ta MOL     1       1.653   2.338  12.338  1.00  0.00          TA  \nATOM     14   Ta MOL     1       4.959   2.338  12.338  1.00  0.00          TA  \nATOM     15   Ta MOL     1       8.264   2.338  12.338  1.00  0.00          TA  \nATOM     16   Ta MOL     1       3.306   4.675  12.338  1.00  0.00          TA  \nATOM     17   Ta MOL     1       6.612   4.675  12.338  1.00  0.00          TA  \nATOM     18   Ta MOL     1       9.917   4.675  12.338  1.00  0.00          TA  \nATOM     19    H MOL     1       5.000   4.000   5.000  1.00  0.00           H  \nENDMDL\n",
          "type": "blob"
         }
        ],
        "kwargs": {
         "defaultRepresentation": false,
         "ext": "pdb"
        },
        "methodName": "loadFile",
        "reconstruc_color_scheme": false,
        "target": "Stage",
        "type": "call_method"
       },
       {
        "args": [
         "500px",
         "500px"
        ],
        "kwargs": {},
        "methodName": "setSize",
        "reconstruc_color_scheme": false,
        "target": "Widget",
        "type": "call_method"
       },
       {
        "args": [
         "unitcell"
        ],
        "component_index": 0,
        "kwargs": {
         "sele": "all"
        },
        "methodName": "addRepresentation",
        "reconstruc_color_scheme": false,
        "target": "compList",
        "type": "call_method"
       },
       {
        "args": [
         "spacefill"
        ],
        "component_index": 0,
        "kwargs": {
         "sele": "all"
        },
        "methodName": "addRepresentation",
        "reconstruc_color_scheme": false,
        "target": "compList",
        "type": "call_method"
       },
       {
        "args": [],
        "kwargs": {
         "cameraType": "orthographic"
        },
        "methodName": "setParameters",
        "reconstruc_color_scheme": false,
        "target": "Stage",
        "type": "call_method"
       },
       {
        "args": [
         {
          "clipDist": 0
         }
        ],
        "kwargs": {},
        "methodName": "setParameters",
        "reconstruc_color_scheme": false,
        "target": "Widget",
        "type": "call_method"
       },
       {
        "args": [
         "spacefill",
         0
        ],
        "kwargs": {
         "colorScale": "rainbow",
         "colorScheme": "element",
         "radiusScale": 0.5,
         "radiusType": "covalent"
        },
        "methodName": "updateRepresentationsByName",
        "reconstruc_color_scheme": false,
        "target": "Widget",
        "type": "call_method"
       },
       {
        "args": [
         "spacefill",
         0
        ],
        "kwargs": {
         "colorScale": "rainbow",
         "colorScheme": "element",
         "radiusScale": 0.5,
         "radiusType": "covalent"
        },
        "methodName": "updateRepresentationsByName",
        "reconstruc_color_scheme": false,
        "target": "Widget",
        "type": "call_method"
       },
       {
        "args": [
         "spacefill",
         0
        ],
        "kwargs": {
         "colorScale": "rainbow",
         "colorScheme": "element",
         "radiusScale": 0.49999999999999994,
         "radiusType": "covalent"
        },
        "methodName": "updateRepresentationsByName",
        "reconstruc_color_scheme": false,
        "target": "Widget",
        "type": "call_method"
       },
       {
        "args": [
         "spacefill",
         0
        ],
        "kwargs": {
         "colorScale": "rainbow",
         "colorScheme": "element",
         "radiusScale": 0.49999999999999994,
         "radiusType": "covalent"
        },
        "methodName": "updateRepresentationsByName",
        "reconstruc_color_scheme": false,
        "target": "Widget",
        "type": "call_method"
       }
      ],
      "_ngl_original_stage_parameters": {
       "ambientColor": 14540253,
       "ambientIntensity": 0.2,
       "backgroundColor": "white",
       "cameraEyeSep": 0.3,
       "cameraFov": 40,
       "cameraType": "perspective",
       "clipDist": 10,
       "clipFar": 100,
       "clipNear": 0,
       "fogFar": 100,
       "fogNear": 50,
       "hoverTimeout": 0,
       "impostor": true,
       "lightColor": 14540253,
       "lightIntensity": 1,
       "mousePreset": "default",
       "panSpeed": 1,
       "quality": "medium",
       "rotateSpeed": 2,
       "sampleLevel": 0,
       "tooltip": true,
       "workerDefault": true,
       "zoomSpeed": 1.2
      },
      "_ngl_repr_dict": {
       "0": {
        "0": {
         "params": {
          "clipCenter": {
           "x": 0,
           "y": 0,
           "z": 0
          },
          "clipNear": 0,
          "clipRadius": 0,
          "colorMode": "hcl",
          "colorReverse": false,
          "colorScale": "",
          "colorScheme": "element",
          "colorValue": "orange",
          "defaultAssembly": "",
          "depthWrite": true,
          "diffuse": 16777215,
          "diffuseInterior": false,
          "disableImpostor": false,
          "disablePicking": false,
          "flatShaded": false,
          "interiorColor": 2236962,
          "interiorDarkening": 0,
          "lazy": false,
          "matrix": {
           "elements": [
            1,
            0,
            0,
            0,
            0,
            1,
            0,
            0,
            0,
            0,
            1,
            0,
            0,
            0,
            0,
            1
           ]
          },
          "metalness": 0,
          "opacity": 1,
          "quality": "medium",
          "radialSegments": 10,
          "radiusData": {},
          "radiusScale": 1,
          "radiusSize": 0.057907290683115197,
          "radiusType": "vdw",
          "roughness": 0.4,
          "sele": "all",
          "side": "double",
          "sphereDetail": 1,
          "useInteriorColor": true,
          "visible": true,
          "wireframe": false
         },
         "type": "unitcell"
        },
        "1": {
         "params": {
          "clipCenter": {
           "x": 0,
           "y": 0,
           "z": 0
          },
          "clipNear": 0,
          "clipRadius": 0,
          "colorMode": "hcl",
          "colorReverse": false,
          "colorScale": "",
          "colorScheme": "element",
          "colorValue": "orange",
          "defaultAssembly": "",
          "depthWrite": true,
          "diffuse": 16777215,
          "diffuseInterior": false,
          "disableImpostor": false,
          "disablePicking": false,
          "flatShaded": false,
          "interiorColor": 2236962,
          "interiorDarkening": 0,
          "lazy": false,
          "matrix": {
           "elements": [
            1,
            0,
            0,
            0,
            0,
            1,
            0,
            0,
            0,
            0,
            1,
            0,
            0,
            0,
            0,
            1
           ]
          },
          "metalness": 0,
          "opacity": 1,
          "quality": "medium",
          "radialSegments": 10,
          "radiusData": {},
          "radiusScale": 1,
          "radiusSize": 0.057907290683115197,
          "radiusType": "vdw",
          "roughness": 0.4,
          "sele": "all",
          "side": "double",
          "sphereDetail": 1,
          "useInteriorColor": true,
          "visible": true,
          "wireframe": false
         },
         "type": "unitcell"
        },
        "2": {
         "params": {
          "assembly": "default",
          "clipCenter": {
           "x": 0,
           "y": 0,
           "z": 0
          },
          "clipNear": 0,
          "clipRadius": 0,
          "colorMode": "hcl",
          "colorReverse": false,
          "colorScale": "rainbow",
          "colorScheme": "element",
          "colorValue": 9474192,
          "defaultAssembly": "",
          "depthWrite": true,
          "diffuse": 16777215,
          "diffuseInterior": false,
          "disableImpostor": false,
          "disablePicking": false,
          "flatShaded": false,
          "interiorColor": 2236962,
          "interiorDarkening": 0,
          "lazy": false,
          "matrix": {
           "elements": [
            1,
            0,
            0,
            0,
            0,
            1,
            0,
            0,
            0,
            0,
            1,
            0,
            0,
            0,
            0,
            1
           ]
          },
          "metalness": 0,
          "opacity": 1,
          "quality": "medium",
          "radiusData": {},
          "radiusScale": 0.5,
          "radiusSize": 1,
          "radiusType": "covalent",
          "roughness": 0.4,
          "sele": "all",
          "side": "double",
          "sphereDetail": 1,
          "useInteriorColor": true,
          "visible": true,
          "wireframe": false
         },
         "type": "spacefill"
        },
        "3": {
         "params": {
          "assembly": "default",
          "clipCenter": {
           "x": 0,
           "y": 0,
           "z": 0
          },
          "clipNear": 0,
          "clipRadius": 0,
          "colorMode": "hcl",
          "colorReverse": false,
          "colorScale": "rainbow",
          "colorScheme": "element",
          "colorValue": 9474192,
          "defaultAssembly": "",
          "depthWrite": true,
          "diffuse": 16777215,
          "diffuseInterior": false,
          "disableImpostor": false,
          "disablePicking": false,
          "flatShaded": false,
          "interiorColor": 2236962,
          "interiorDarkening": 0,
          "lazy": false,
          "matrix": {
           "elements": [
            1,
            0,
            0,
            0,
            0,
            1,
            0,
            0,
            0,
            0,
            1,
            0,
            0,
            0,
            0,
            1
           ]
          },
          "metalness": 0,
          "opacity": 1,
          "quality": "medium",
          "radiusData": {},
          "radiusScale": 0.5,
          "radiusSize": 1,
          "radiusType": "covalent",
          "roughness": 0.4,
          "sele": "all",
          "side": "double",
          "sphereDetail": 1,
          "useInteriorColor": true,
          "visible": true,
          "wireframe": false
         },
         "type": "spacefill"
        }
       },
       "1": {}
      },
      "_ngl_serialize": false,
      "_ngl_version": "2.0.0-dev.36",
      "_ngl_view_id": [
       "03E30007-514A-442B-A396-457D25F2533F"
      ],
      "_player_dict": {},
      "_scene_position": {},
      "_scene_rotation": {},
      "_synced_model_ids": [],
      "_synced_repr_model_ids": [],
      "_view_count": null,
      "_view_height": "",
      "_view_module": "nglview-js-widgets",
      "_view_module_version": "3.0.1",
      "_view_name": "NGLView",
      "_view_width": "",
      "background": "white",
      "frame": 0,
      "gui_style": null,
      "layout": "IPY_MODEL_d5cfcaeb8a594c76a7adbea2cde88e36",
      "max_frame": 0,
      "n_components": 2,
      "picked": {}
     }
    },
    "ef7c65351c124fce9030728cdb3edc6b": {
     "model_module": "@jupyter-widgets/controls",
     "model_module_version": "1.5.0",
     "model_name": "SliderStyleModel",
     "state": {
      "_model_module": "@jupyter-widgets/controls",
      "_model_module_version": "1.5.0",
      "_model_name": "SliderStyleModel",
      "_view_count": null,
      "_view_module": "@jupyter-widgets/base",
      "_view_module_version": "1.2.0",
      "_view_name": "StyleView",
      "description_width": "",
      "handle_color": null
     }
    },
    "f36bf82accad484e8ea5488e6503ea84": {
     "model_module": "@jupyter-widgets/controls",
     "model_module_version": "1.5.0",
     "model_name": "HBoxModel",
     "state": {
      "_dom_classes": [],
      "_model_module": "@jupyter-widgets/controls",
      "_model_module_version": "1.5.0",
      "_model_name": "HBoxModel",
      "_view_count": null,
      "_view_module": "@jupyter-widgets/controls",
      "_view_module_version": "1.5.0",
      "_view_name": "HBoxView",
      "box_style": "",
      "children": [
       "IPY_MODEL_e9fcf8a99292434ba29b8692477b729c",
       "IPY_MODEL_3b6d6d84fb8b412f90816f3fd1152c55"
      ],
      "layout": "IPY_MODEL_48de5195ce1b40f49add8f19802c50e5"
     }
    }
   }
  }
 },
 "nbformat": 4,
 "nbformat_minor": 4
}
