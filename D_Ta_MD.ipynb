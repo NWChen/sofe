{
 "cells": [
  {
   "cell_type": "code",
   "execution_count": 1,
   "id": "7a7e7897-ed72-4d82-bdb8-3f1f9b3de74e",
   "metadata": {
    "tags": []
   },
   "outputs": [
    {
     "name": "stdout",
     "output_type": "stream",
     "text": [
      "/usr/local/google/home/nqc/git/md\n"
     ]
    }
   ],
   "source": [
    "!pwd"
   ]
  },
  {
   "cell_type": "code",
   "execution_count": 6,
   "id": "9886c41f-31c2-4e2b-ab1d-4b88a63cdbdb",
   "metadata": {
    "tags": []
   },
   "outputs": [],
   "source": [
    "import math\n",
    "\n",
    "def velocity(atomic_mass, energy):\n",
    "  \"\"\"\n",
    "  Computes the velocity of an atom in Hartree atomic units, given the atomic mass in atomic units and the energy in electronvolts.\n",
    "\n",
    "  Args:\n",
    "    atomic_mass: The atomic mass of the atom in atomic units.\n",
    "    energy: The energy of the atom in electronvolts.\n",
    "\n",
    "  Returns:\n",
    "    The velocity of the atom in Hartree atomic units.\n",
    "  \"\"\"\n",
    "\n",
    "  # Convert the atomic mass to kilograms.\n",
    "  atomic_mass_kg = atomic_mass * 1.660539040e-27\n",
    "\n",
    "  # Convert the energy to joules.\n",
    "  energy_joules = energy * 1.60217662e-19\n",
    "\n",
    "  # Calculate the velocity.\n",
    "  velocity_ms = math.sqrt((2 * energy_joules) / atomic_mass_kg)\n",
    "\n",
    "  # Convert the velocity to Hartree atomic units.\n",
    "  velocity_ha = velocity_ms / 2.187691e6\n",
    "\n",
    "  return velocity_ha\n",
    "\n",
    "H_ATOMIC_MASS = 1.00784\n",
    "assert math.isclose(velocity(H_ATOMIC_MASS, 40), 0.0400031, abs_tol=1e-6)"
   ]
  },
  {
   "cell_type": "code",
   "execution_count": 17,
   "id": "f222dbc3-1696-4ffe-ad17-95816ac1be70",
   "metadata": {
    "tags": []
   },
   "outputs": [
    {
     "name": "stdout",
     "output_type": "stream",
     "text": [
      "Note: The following floating-point exceptions are signalling: IEEE_INVALID_FLAG\n"
     ]
    }
   ],
   "source": [
    "h_velocity = velocity(H_ATOMIC_MASS, 30)\n",
    "with open('D_Ta_MD.in', 'w') as f:\n",
    "    f.write('''\n",
    "&CONTROL\n",
    "   calculation      = 'md'\n",
    "   nstep            = 1\n",
    "   tstress          = .false.\n",
    "   tprnfor          = .false.\n",
    "   dt               = 10\n",
    "   etot_conv_thr    = 1e-05\n",
    "   forc_conv_thr    = 0.0001\n",
    "   pseudo_dir       = 'q-e/pseudo/'\n",
    "   outdir           = 'outdir/'\n",
    "/\n",
    "&SYSTEM\n",
    "   ecutwfc          = 30\n",
    "   occupations      = 'smearing'\n",
    "   degauss          = 0.01\n",
    "   smearing         = 'gaussian'\n",
    "   ntyp             = 2\n",
    "   nat              = 10\n",
    "   ibrav            = 0\n",
    "/\n",
    "&ELECTRONS\n",
    "   conv_thr         = 1e-06\n",
    "/\n",
    "&IONS\n",
    "/\n",
    "&CELL\n",
    "/\n",
    "\n",
    "ATOMIC_SPECIES\n",
    "Ta 180.94788 ta_pbe_v1.uspp.F.UPF\n",
    "H 2.014 h_pbe_v1.4.uspp.F.UPF\n",
    "\n",
    "K_POINTS automatic\n",
    "1 1 1  0 0 0\n",
    "\n",
    "CELL_PARAMETERS angstrom\n",
    "9.91740002187914 0.00000000000000 0.00000000000000\n",
    "4.95870001093957 7.01266297727089 0.00000000000000\n",
    "0.00000000000000 0.00000000000000 22.33755300343696\n",
    "\n",
    "ATOMIC_POSITIONS angstrom\n",
    "Ta 0.0000000000 2.3375539952 10.0000000000 \n",
    "Ta 3.3057996767 2.3375539952 10.0000000000 \n",
    "Ta 6.6116003452 2.3375539952 10.0000000000 \n",
    "Ta 1.6529003342 4.6751069986 10.0000000000 \n",
    "Ta 4.9587000109 4.6751069986 10.0000000000 \n",
    "Ta 8.2644996877 4.6751069986 10.0000000000 \n",
    "Ta 3.3057996767 7.0126609938 10.0000000000 \n",
    "Ta 6.6116003452 7.0126609938 10.0000000000 \n",
    "Ta 9.9174000219 7.0126609938 10.0000000000 \n",
    "H 5.0000000000 4.0000000000 5.0000000000\n",
    "\n",
    "ATOMIC_VELOCITIES\n",
    "Ta 0.0 0.0 0.0\n",
    "H 0.0 0.0 {}\n",
    "    '''.format(h_velocity))\n",
    "\n",
    "!mpirun -np 12 q-e/bin/pw.x -inp D_Ta_MD.in > D_Ta_MD.out\n",
    "#!q-e/bin/pw.x -inp D_Ta_MD.in > D_Ta_MD.out"
   ]
  }
 ],
 "metadata": {
  "kernelspec": {
   "display_name": "Python 3 (ipykernel)",
   "language": "python",
   "name": "python3"
  },
  "language_info": {
   "codemirror_mode": {
    "name": "ipython",
    "version": 3
   },
   "file_extension": ".py",
   "mimetype": "text/x-python",
   "name": "python",
   "nbconvert_exporter": "python",
   "pygments_lexer": "ipython3",
   "version": "3.10.9"
  }
 },
 "nbformat": 4,
 "nbformat_minor": 5
}
