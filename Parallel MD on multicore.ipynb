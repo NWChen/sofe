{
 "cells": [
  {
   "cell_type": "code",
   "execution_count": 2,
   "id": "41d51c41-8a5d-4af4-ba00-b83ed84ce38f",
   "metadata": {
    "tags": []
   },
   "outputs": [],
   "source": [
    "from ase import Atom, Atoms\n",
    "from ase.calculators.espresso import Espresso\n",
    "from ase.constraints import FixAtoms\n",
    "from ase.io.cif import read_cif\n",
    "from ase.io.espresso import read_espresso_out, write_espresso_in\n",
    "from ase.io.vasp import read_vasp\n",
    "from ase.visualize import view\n",
    "from ase.visualize.plot import plot_atoms\n",
    "\n",
    "from copy import deepcopy\n",
    "from matplotlib import pyplot as plt\n",
    "import os\n",
    "import numpy as np\n",
    "import threading\n",
    "from datetime import datetime\n",
    "\n",
    "from qe_utils import (velocity,\n",
    "    import_vasp,\n",
    "    output_to_atoms,\n",
    "    relax,\n",
    "    pin_bottom_layers,\n",
    "    get_D_position,\n",
    "    preview,\n",
    "    md,\n",
    "    sanitize)"
   ]
  },
  {
   "cell_type": "code",
   "execution_count": 3,
   "id": "3ce3c9fb-386e-4a26-b83c-de456ce8d57d",
   "metadata": {
    "tags": []
   },
   "outputs": [],
   "source": [
    "# Numeric constants\n",
    "# 1 picosecond = n Rydberg a.u.\n",
    "PS_TO_AU = 1e-12 / (4.8378 * 1e-17)\n",
    "\n",
    "# 1 femtosecond\n",
    "FS_TO_AU = 1e-15 / (4.8378 * 1e-17)\n",
    "\n",
    "#########################################################################\n",
    "# RUN_RELAXATION\n",
    "#    - True: run a relaxation step (can take several hours)\n",
    "#    - False: don't run a relaxation step, use an existing relaxed crystal\n",
    "# An existing relaxed crystal exists in relax_data/relax_Hf5Nb2Ta10Zr5.out\n",
    "#########################################################################\n",
    "RUN_RELAXATION = False\n",
    "\n",
    "#########################################################################\n",
    "# VACUUM\n",
    "#    - Amount of vacuum, in Angstroms, to place on either side of the system\n",
    "#########################################################################\n",
    "VACUUM = 2.0\n",
    "\n",
    "#########################################################################\n",
    "# DEUTERIUM_MASS_AMU\n",
    "#    - Deuterium mass in AMU\n",
    "#########################################################################\n",
    "DEUTERIUM_MASS_AMU = 2.014\n",
    "\n",
    "#########################################################################\n",
    "# INITIAL_DISTANCE_A\n",
    "#    - Initial distance between D atom and surface of slab, in Angstroms\n",
    "#########################################################################\n",
    "INITIAL_DISTANCE_A = 1.5\n",
    "\n",
    "#########################################################################\n",
    "# AXIS\n",
    "#    - One of { 'x', 'y', 'z' }: axis along which the D atom should travel\n",
    "#########################################################################\n",
    "AXIS = 'x'\n",
    "\n",
    "#########################################################################\n",
    "# N_STEPS\n",
    "#    - Number of steps to run MD for\n",
    "#########################################################################\n",
    "N_STEPS = 1\n",
    "\n",
    "#########################################################################\n",
    "# INITIAL_EV\n",
    "#    - Initial eV to impart on D atom\n",
    "#########################################################################\n",
    "INITIAL_EV = 60\n",
    "\n",
    "#########################################################################\n",
    "# DT\n",
    "#    - dt, in AU\n",
    "#########################################################################\n",
    "DT = 0.2 * round(FS_TO_AU) # 0.2fs"
   ]
  },
  {
   "cell_type": "code",
   "execution_count": 4,
   "id": "e105bd1c-2f73-4eed-aeda-cae79c6a95d0",
   "metadata": {
    "tags": []
   },
   "outputs": [],
   "source": [
    "# Run relaxation, if needed\n",
    "if RUN_RELAXATION:\n",
    "    slab = import_vasp('input/HfNbTaZr_8.vasp', truncate=False)\n",
    "    slab.center(vacuum=1)\n",
    "    relax_output_filename = relax(slab)\n",
    "    \n",
    "# Create our slab\n",
    "slab = output_to_atoms(relax_output_filename if RUN_RELAXATION else 'relax_data/relax_Hf5Nb2Ta10Zr5.out') # This slab is the result of relaxing a 22-atom crystal\n",
    "atoms = deepcopy(slab)\n",
    "atoms.center(vacuum=VACUUM, axis=2)\n",
    "atoms = pin_bottom_layers(atoms, nlayers=2, axis=AXIS)\n",
    "\n",
    "# Place the D atom in the center of the slab, `INITIAL_DISTANCE_A` Angstroms away\n",
    "DEUTERIUM_XYZ = get_D_position(atoms, INITIAL_DISTANCE_A=INITIAL_DISTANCE_A, axis=AXIS)\n",
    "deuterium = Atom('H', mass=DEUTERIUM_MASS_AMU, position=DEUTERIUM_XYZ)\n",
    "atoms.append(deuterium)\n",
    "\n",
    "# Expand unit cell so that the D atom fits\n",
    "existing_cell = atoms.get_cell()\n",
    "atoms.set_cell(np.array([ # TODO this code is dogshit, clean it up\n",
    "    existing_cell[0][0] + (2 * INITIAL_DISTANCE_A if AXIS == 'x' else 0),\n",
    "    existing_cell[1][1] + (2 * INITIAL_DISTANCE_A if AXIS == 'y' else 0),\n",
    "    existing_cell[2][2] + (2 * INITIAL_DISTANCE_A if AXIS == 'z' else 0)]\n",
    "))"
   ]
  },
  {
   "cell_type": "markdown",
   "id": "bb828493-04dd-4c17-bd69-4936a98917bd",
   "metadata": {},
   "source": [
    "### Try parallelization\n",
    "Run `N_JOBS` jobs using `N_CORES_PER_JOB` cores each."
   ]
  },
  {
   "cell_type": "code",
   "execution_count": null,
   "id": "7373dad6-342e-4fb8-894d-cae2a0b17076",
   "metadata": {
    "tags": []
   },
   "outputs": [
    {
     "name": "stdout",
     "output_type": "stream",
     "text": [
      "Starting run 0 at 2023-06-07 04:29:26.523945\n",
      "Starting run 1 at 2023-06-07 04:29:26.526538\n",
      "Starting run 2 at 2023-06-07 04:29:26.527169\n",
      "Starting run 3 at 2023-06-07 04:29:26.529386\n",
      "Starting run 4 at 2023-06-07 04:29:26.530526\n",
      "Starting run 5 at 2023-06-07 04:29:26.533041\n",
      "Writing D initial velocity 60eV (0.034658164561745024 Hartree au)\n",
      "Writing D initial velocity 60eV (0.034658164561745024 Hartree au)\n",
      "Writing D initial velocity 60eV (0.034658164561745024 Hartree au)\n",
      "Writing D initial velocity 60eV (0.034658164561745024 Hartree au)\n",
      "Writing D initial velocity 60eV (0.034658164561745024 Hartree au)\n",
      "Writing D initial velocity 60eV (0.034658164561745024 Hartree au)\n"
     ]
    }
   ],
   "source": [
    "N_JOBS = 6\n",
    "N_CORES_PER_JOB = 2\n",
    "\n",
    "def run_job(args):\n",
    "    i = args\n",
    "    print(f'Starting run {i} at {datetime.now()}')\n",
    "    md(atoms, nsteps=N_STEPS, dt=DT, initial_eV=INITIAL_EV, suffix=f'{i}', ncores=N_CORES_PER_JOB)\n",
    "    print(f'Completed run {i} at {datetime.now()}')\n",
    "\n",
    "threads = []\n",
    "for i in range(N_JOBS):\n",
    "    t = threading.Thread(target=run_job, args=[i])\n",
    "    threads.append(t)\n",
    "\n",
    "for thread in threads:\n",
    "    thread.start()\n",
    "\n",
    "for thread in threads:\n",
    "    thread.join()"
   ]
  },
  {
   "cell_type": "code",
   "execution_count": null,
   "id": "02e3c30e-bbd2-420f-9676-0481090e3185",
   "metadata": {},
   "outputs": [],
   "source": []
  }
 ],
 "metadata": {
  "kernelspec": {
   "display_name": "Python 3 (ipykernel)",
   "language": "python",
   "name": "python3"
  },
  "language_info": {
   "codemirror_mode": {
    "name": "ipython",
    "version": 3
   },
   "file_extension": ".py",
   "mimetype": "text/x-python",
   "name": "python",
   "nbconvert_exporter": "python",
   "pygments_lexer": "ipython3",
   "version": "3.11.2"
  }
 },
 "nbformat": 4,
 "nbformat_minor": 5
}
